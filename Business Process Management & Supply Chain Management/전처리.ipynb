{
 "cells": [
  {
   "cell_type": "code",
   "execution_count": 1,
   "metadata": {},
   "outputs": [],
   "source": [
    "import pandas as pd\n",
    "import numpy as np\n",
    "import matplotlib.pyplot as plt\n",
    "import seaborn as sns\n",
    "\n",
    "\n",
    "data_domestic  = pd.read_csv(\"DomesticDeclarations_v3.csv\")\n",
    "data_International  = pd.read_csv(\"InternationalDeclarations_v2.csv\")\n",
    "\n",
    "df_domestic  = pd.DataFrame(data_domestic)\n",
    "df_International = pd.DataFrame(data_International)"
   ]
  },
  {
   "cell_type": "code",
   "execution_count": 2,
   "metadata": {},
   "outputs": [
    {
     "data": {
      "text/html": [
       "<div>\n",
       "<style scoped>\n",
       "    .dataframe tbody tr th:only-of-type {\n",
       "        vertical-align: middle;\n",
       "    }\n",
       "\n",
       "    .dataframe tbody tr th {\n",
       "        vertical-align: top;\n",
       "    }\n",
       "\n",
       "    .dataframe thead th {\n",
       "        text-align: right;\n",
       "    }\n",
       "</style>\n",
       "<table border=\"1\" class=\"dataframe\">\n",
       "  <thead>\n",
       "    <tr style=\"text-align: right;\">\n",
       "      <th></th>\n",
       "      <th>Case ID</th>\n",
       "      <th>Activity</th>\n",
       "      <th>Resource</th>\n",
       "      <th>Complete Timestamp</th>\n",
       "      <th>Variant</th>\n",
       "      <th>Variant index</th>\n",
       "      <th>(case) Amount</th>\n",
       "      <th>(case) BudgetNumber</th>\n",
       "      <th>(case) DeclarationNumber</th>\n",
       "      <th>(case) id</th>\n",
       "      <th>id</th>\n",
       "      <th>org:role</th>\n",
       "    </tr>\n",
       "  </thead>\n",
       "  <tbody>\n",
       "    <tr>\n",
       "      <th>0</th>\n",
       "      <td>declaration 86672</td>\n",
       "      <td>Declaration SUBMITTED by EMPLOYEE</td>\n",
       "      <td>STAFF MEMBER</td>\n",
       "      <td>54:08.0</td>\n",
       "      <td>Variant 4</td>\n",
       "      <td>4.0</td>\n",
       "      <td>60.062028</td>\n",
       "      <td>budget 86566</td>\n",
       "      <td>declaration number 86673</td>\n",
       "      <td>declaration 86672</td>\n",
       "      <td>st_step 86674_0</td>\n",
       "      <td>EMPLOYEE</td>\n",
       "    </tr>\n",
       "    <tr>\n",
       "      <th>1</th>\n",
       "      <td>declaration 86672</td>\n",
       "      <td>Declaration APPROVED by PRE_APPROVER</td>\n",
       "      <td>STAFF MEMBER</td>\n",
       "      <td>54:15.0</td>\n",
       "      <td>Variant 4</td>\n",
       "      <td>4.0</td>\n",
       "      <td>60.062028</td>\n",
       "      <td>budget 86566</td>\n",
       "      <td>declaration number 86673</td>\n",
       "      <td>declaration 86672</td>\n",
       "      <td>st_step 86675_0</td>\n",
       "      <td>PRE_APPROVER</td>\n",
       "    </tr>\n",
       "    <tr>\n",
       "      <th>2</th>\n",
       "      <td>declaration 86672</td>\n",
       "      <td>Declaration FINAL_APPROVED by SUPERVISOR</td>\n",
       "      <td>STAFF MEMBER</td>\n",
       "      <td>39:52.0</td>\n",
       "      <td>Variant 4</td>\n",
       "      <td>4.0</td>\n",
       "      <td>60.062028</td>\n",
       "      <td>budget 86566</td>\n",
       "      <td>declaration number 86673</td>\n",
       "      <td>declaration 86672</td>\n",
       "      <td>st_step 86676_0</td>\n",
       "      <td>SUPERVISOR</td>\n",
       "    </tr>\n",
       "    <tr>\n",
       "      <th>3</th>\n",
       "      <td>declaration 86672</td>\n",
       "      <td>Request Payment</td>\n",
       "      <td>SYSTEM</td>\n",
       "      <td>21:59.0</td>\n",
       "      <td>Variant 4</td>\n",
       "      <td>4.0</td>\n",
       "      <td>60.062028</td>\n",
       "      <td>budget 86566</td>\n",
       "      <td>declaration number 86673</td>\n",
       "      <td>declaration 86672</td>\n",
       "      <td>dd_declaration 86672_19</td>\n",
       "      <td>UNDEFINED</td>\n",
       "    </tr>\n",
       "    <tr>\n",
       "      <th>4</th>\n",
       "      <td>declaration 86672</td>\n",
       "      <td>Payment Handled</td>\n",
       "      <td>SYSTEM</td>\n",
       "      <td>31:35.0</td>\n",
       "      <td>Variant 4</td>\n",
       "      <td>4.0</td>\n",
       "      <td>60.062028</td>\n",
       "      <td>budget 86566</td>\n",
       "      <td>declaration number 86673</td>\n",
       "      <td>declaration 86672</td>\n",
       "      <td>dd_declaration 86672_20</td>\n",
       "      <td>UNDEFINED</td>\n",
       "    </tr>\n",
       "    <tr>\n",
       "      <th>...</th>\n",
       "      <td>...</td>\n",
       "      <td>...</td>\n",
       "      <td>...</td>\n",
       "      <td>...</td>\n",
       "      <td>...</td>\n",
       "      <td>...</td>\n",
       "      <td>...</td>\n",
       "      <td>...</td>\n",
       "      <td>...</td>\n",
       "      <td>...</td>\n",
       "      <td>...</td>\n",
       "      <td>...</td>\n",
       "    </tr>\n",
       "    <tr>\n",
       "      <th>56157</th>\n",
       "      <td>declaration 138359</td>\n",
       "      <td>Declaration SUBMITTED by EMPLOYEE</td>\n",
       "      <td>STAFF MEMBER</td>\n",
       "      <td>50:14.0</td>\n",
       "      <td>Variant 1</td>\n",
       "      <td>1.0</td>\n",
       "      <td>190.404576</td>\n",
       "      <td>budget 86566</td>\n",
       "      <td>declaration number 138360</td>\n",
       "      <td>declaration 138359</td>\n",
       "      <td>st_step 138363_0</td>\n",
       "      <td>EMPLOYEE</td>\n",
       "    </tr>\n",
       "    <tr>\n",
       "      <th>56158</th>\n",
       "      <td>declaration 138359</td>\n",
       "      <td>Declaration APPROVED by ADMINISTRATION</td>\n",
       "      <td>STAFF MEMBER</td>\n",
       "      <td>56:13.0</td>\n",
       "      <td>Variant 1</td>\n",
       "      <td>1.0</td>\n",
       "      <td>190.404576</td>\n",
       "      <td>budget 86566</td>\n",
       "      <td>declaration number 138360</td>\n",
       "      <td>declaration 138359</td>\n",
       "      <td>st_step 138361_0</td>\n",
       "      <td>ADMINISTRATION</td>\n",
       "    </tr>\n",
       "    <tr>\n",
       "      <th>56159</th>\n",
       "      <td>declaration 138359</td>\n",
       "      <td>Declaration FINAL_APPROVED by SUPERVISOR</td>\n",
       "      <td>STAFF MEMBER</td>\n",
       "      <td>55:52.0</td>\n",
       "      <td>Variant 1</td>\n",
       "      <td>1.0</td>\n",
       "      <td>190.404576</td>\n",
       "      <td>budget 86566</td>\n",
       "      <td>declaration number 138360</td>\n",
       "      <td>declaration 138359</td>\n",
       "      <td>st_step 138362_0</td>\n",
       "      <td>SUPERVISOR</td>\n",
       "    </tr>\n",
       "    <tr>\n",
       "      <th>56160</th>\n",
       "      <td>declaration 138359</td>\n",
       "      <td>Request Payment</td>\n",
       "      <td>SYSTEM</td>\n",
       "      <td>20:28.0</td>\n",
       "      <td>Variant 1</td>\n",
       "      <td>1.0</td>\n",
       "      <td>190.404576</td>\n",
       "      <td>budget 86566</td>\n",
       "      <td>declaration number 138360</td>\n",
       "      <td>declaration 138359</td>\n",
       "      <td>dd_declaration 138359_19</td>\n",
       "      <td>UNDEFINED</td>\n",
       "    </tr>\n",
       "    <tr>\n",
       "      <th>56161</th>\n",
       "      <td>declaration 138359</td>\n",
       "      <td>Payment Handled</td>\n",
       "      <td>SYSTEM</td>\n",
       "      <td>31:08.0</td>\n",
       "      <td>Variant 1</td>\n",
       "      <td>1.0</td>\n",
       "      <td>190.404576</td>\n",
       "      <td>budget 86566</td>\n",
       "      <td>declaration number 138360</td>\n",
       "      <td>declaration 138359</td>\n",
       "      <td>dd_declaration 138359_20</td>\n",
       "      <td>UNDEFINED</td>\n",
       "    </tr>\n",
       "  </tbody>\n",
       "</table>\n",
       "<p>56162 rows × 12 columns</p>\n",
       "</div>"
      ],
      "text/plain": [
       "                  Case ID                                  Activity  \\\n",
       "0       declaration 86672         Declaration SUBMITTED by EMPLOYEE   \n",
       "1       declaration 86672      Declaration APPROVED by PRE_APPROVER   \n",
       "2       declaration 86672  Declaration FINAL_APPROVED by SUPERVISOR   \n",
       "3       declaration 86672                           Request Payment   \n",
       "4       declaration 86672                           Payment Handled   \n",
       "...                   ...                                       ...   \n",
       "56157  declaration 138359         Declaration SUBMITTED by EMPLOYEE   \n",
       "56158  declaration 138359    Declaration APPROVED by ADMINISTRATION   \n",
       "56159  declaration 138359  Declaration FINAL_APPROVED by SUPERVISOR   \n",
       "56160  declaration 138359                           Request Payment   \n",
       "56161  declaration 138359                           Payment Handled   \n",
       "\n",
       "           Resource Complete Timestamp    Variant  Variant index  \\\n",
       "0      STAFF MEMBER            54:08.0  Variant 4            4.0   \n",
       "1      STAFF MEMBER            54:15.0  Variant 4            4.0   \n",
       "2      STAFF MEMBER            39:52.0  Variant 4            4.0   \n",
       "3            SYSTEM            21:59.0  Variant 4            4.0   \n",
       "4            SYSTEM            31:35.0  Variant 4            4.0   \n",
       "...             ...                ...        ...            ...   \n",
       "56157  STAFF MEMBER            50:14.0  Variant 1            1.0   \n",
       "56158  STAFF MEMBER            56:13.0  Variant 1            1.0   \n",
       "56159  STAFF MEMBER            55:52.0  Variant 1            1.0   \n",
       "56160        SYSTEM            20:28.0  Variant 1            1.0   \n",
       "56161        SYSTEM            31:08.0  Variant 1            1.0   \n",
       "\n",
       "       (case) Amount (case) BudgetNumber   (case) DeclarationNumber  \\\n",
       "0          60.062028        budget 86566   declaration number 86673   \n",
       "1          60.062028        budget 86566   declaration number 86673   \n",
       "2          60.062028        budget 86566   declaration number 86673   \n",
       "3          60.062028        budget 86566   declaration number 86673   \n",
       "4          60.062028        budget 86566   declaration number 86673   \n",
       "...              ...                 ...                        ...   \n",
       "56157     190.404576        budget 86566  declaration number 138360   \n",
       "56158     190.404576        budget 86566  declaration number 138360   \n",
       "56159     190.404576        budget 86566  declaration number 138360   \n",
       "56160     190.404576        budget 86566  declaration number 138360   \n",
       "56161     190.404576        budget 86566  declaration number 138360   \n",
       "\n",
       "                (case) id                        id        org:role  \n",
       "0       declaration 86672           st_step 86674_0        EMPLOYEE  \n",
       "1       declaration 86672           st_step 86675_0    PRE_APPROVER  \n",
       "2       declaration 86672           st_step 86676_0      SUPERVISOR  \n",
       "3       declaration 86672   dd_declaration 86672_19       UNDEFINED  \n",
       "4       declaration 86672   dd_declaration 86672_20       UNDEFINED  \n",
       "...                   ...                       ...             ...  \n",
       "56157  declaration 138359          st_step 138363_0        EMPLOYEE  \n",
       "56158  declaration 138359          st_step 138361_0  ADMINISTRATION  \n",
       "56159  declaration 138359          st_step 138362_0      SUPERVISOR  \n",
       "56160  declaration 138359  dd_declaration 138359_19       UNDEFINED  \n",
       "56161  declaration 138359  dd_declaration 138359_20       UNDEFINED  \n",
       "\n",
       "[56162 rows x 12 columns]"
      ]
     },
     "execution_count": 2,
     "metadata": {},
     "output_type": "execute_result"
    }
   ],
   "source": [
    "df_domestic"
   ]
  },
  {
   "cell_type": "code",
   "execution_count": 3,
   "metadata": {},
   "outputs": [
    {
     "data": {
      "text/plain": [
       "Index(['Case ID', 'Activity', 'Resource', 'Complete Timestamp', 'Variant',\n",
       "       'Variant index', '(case) Amount', '(case) BudgetNumber',\n",
       "       '(case) DeclarationNumber', '(case) id', 'id', 'org:role'],\n",
       "      dtype='object')"
      ]
     },
     "execution_count": 3,
     "metadata": {},
     "output_type": "execute_result"
    }
   ],
   "source": [
    "df_domestic.columns"
   ]
  },
  {
   "cell_type": "code",
   "execution_count": 36,
   "metadata": {},
   "outputs": [
    {
     "data": {
      "text/plain": [
       "Index(['Case ID', 'Activity', 'Resource', 'Complete Timestamp', 'Variant',\n",
       "       'Variant index', '(case) AdjustedAmount', '(case) Amount',\n",
       "       '(case) BudgetNumber', '(case) DeclarationNumber',\n",
       "       '(case) OriginalAmount', '(case) Permit BudgetNumber',\n",
       "       '(case) Permit ID', '(case) Permit OrganizationalEntity',\n",
       "       '(case) Permit ProjectNumber', '(case) Permit RequestedBudget',\n",
       "       '(case) Permit TaskNumber', '(case) Permit id',\n",
       "       '(case) Permit travel permit number', '(case) RequestedAmount',\n",
       "       '(case) id', '(case) travel permit number', 'id', 'org:role',\n",
       "       'Complete Timestamp hour', 'Complete Timestamp min',\n",
       "       'Complete Timestamp sec', 'Complete_Timestamp_total'],\n",
       "      dtype='object')"
      ]
     },
     "execution_count": 36,
     "metadata": {},
     "output_type": "execute_result"
    }
   ],
   "source": [
    "df_International.columns"
   ]
  },
  {
   "cell_type": "code",
   "execution_count": 4,
   "metadata": {},
   "outputs": [
    {
     "data": {
      "text/html": [
       "<div>\n",
       "<style scoped>\n",
       "    .dataframe tbody tr th:only-of-type {\n",
       "        vertical-align: middle;\n",
       "    }\n",
       "\n",
       "    .dataframe tbody tr th {\n",
       "        vertical-align: top;\n",
       "    }\n",
       "\n",
       "    .dataframe thead th {\n",
       "        text-align: right;\n",
       "    }\n",
       "</style>\n",
       "<table border=\"1\" class=\"dataframe\">\n",
       "  <thead>\n",
       "    <tr style=\"text-align: right;\">\n",
       "      <th></th>\n",
       "      <th>Case ID</th>\n",
       "      <th>Activity</th>\n",
       "      <th>Resource</th>\n",
       "      <th>Complete Timestamp</th>\n",
       "      <th>Variant</th>\n",
       "      <th>Variant index</th>\n",
       "      <th>(case) AdjustedAmount</th>\n",
       "      <th>(case) Amount</th>\n",
       "      <th>(case) BudgetNumber</th>\n",
       "      <th>(case) DeclarationNumber</th>\n",
       "      <th>...</th>\n",
       "      <th>(case) Permit ProjectNumber</th>\n",
       "      <th>(case) Permit RequestedBudget</th>\n",
       "      <th>(case) Permit TaskNumber</th>\n",
       "      <th>(case) Permit id</th>\n",
       "      <th>(case) Permit travel permit number</th>\n",
       "      <th>(case) RequestedAmount</th>\n",
       "      <th>(case) id</th>\n",
       "      <th>(case) travel permit number</th>\n",
       "      <th>id</th>\n",
       "      <th>org:role</th>\n",
       "    </tr>\n",
       "  </thead>\n",
       "  <tbody>\n",
       "    <tr>\n",
       "      <th>0</th>\n",
       "      <td>declaration 76457</td>\n",
       "      <td>Start trip</td>\n",
       "      <td>STAFF MEMBER</td>\n",
       "      <td>00:00.0</td>\n",
       "      <td>Variant 25</td>\n",
       "      <td>25.0</td>\n",
       "      <td>39.664561</td>\n",
       "      <td>39.664561</td>\n",
       "      <td>budget 144133</td>\n",
       "      <td>declaration number 76458</td>\n",
       "      <td>...</td>\n",
       "      <td>UNKNOWN</td>\n",
       "      <td>41.613445</td>\n",
       "      <td>UNKNOWN</td>\n",
       "      <td>travel permit 76455</td>\n",
       "      <td>travel permit number 76456</td>\n",
       "      <td>39.664561</td>\n",
       "      <td>declaration 76457</td>\n",
       "      <td>travel permit number 76456</td>\n",
       "      <td>rv_travel permit 76455_6</td>\n",
       "      <td>EMPLOYEE</td>\n",
       "    </tr>\n",
       "    <tr>\n",
       "      <th>1</th>\n",
       "      <td>declaration 76457</td>\n",
       "      <td>End trip</td>\n",
       "      <td>STAFF MEMBER</td>\n",
       "      <td>00:00.0</td>\n",
       "      <td>Variant 25</td>\n",
       "      <td>25.0</td>\n",
       "      <td>39.664561</td>\n",
       "      <td>39.664561</td>\n",
       "      <td>budget 144133</td>\n",
       "      <td>declaration number 76458</td>\n",
       "      <td>...</td>\n",
       "      <td>UNKNOWN</td>\n",
       "      <td>41.613445</td>\n",
       "      <td>UNKNOWN</td>\n",
       "      <td>travel permit 76455</td>\n",
       "      <td>travel permit number 76456</td>\n",
       "      <td>39.664561</td>\n",
       "      <td>declaration 76457</td>\n",
       "      <td>travel permit number 76456</td>\n",
       "      <td>rv_travel permit 76455_7</td>\n",
       "      <td>EMPLOYEE</td>\n",
       "    </tr>\n",
       "    <tr>\n",
       "      <th>2</th>\n",
       "      <td>declaration 76457</td>\n",
       "      <td>Permit SUBMITTED by EMPLOYEE</td>\n",
       "      <td>STAFF MEMBER</td>\n",
       "      <td>32:10.0</td>\n",
       "      <td>Variant 25</td>\n",
       "      <td>25.0</td>\n",
       "      <td>39.664561</td>\n",
       "      <td>39.664561</td>\n",
       "      <td>budget 144133</td>\n",
       "      <td>declaration number 76458</td>\n",
       "      <td>...</td>\n",
       "      <td>UNKNOWN</td>\n",
       "      <td>41.613445</td>\n",
       "      <td>UNKNOWN</td>\n",
       "      <td>travel permit 76455</td>\n",
       "      <td>travel permit number 76456</td>\n",
       "      <td>39.664561</td>\n",
       "      <td>declaration 76457</td>\n",
       "      <td>travel permit number 76456</td>\n",
       "      <td>st_step 76459_0</td>\n",
       "      <td>EMPLOYEE</td>\n",
       "    </tr>\n",
       "    <tr>\n",
       "      <th>3</th>\n",
       "      <td>declaration 76457</td>\n",
       "      <td>Permit FINAL_APPROVED by SUPERVISOR</td>\n",
       "      <td>STAFF MEMBER</td>\n",
       "      <td>32:28.0</td>\n",
       "      <td>Variant 25</td>\n",
       "      <td>25.0</td>\n",
       "      <td>39.664561</td>\n",
       "      <td>39.664561</td>\n",
       "      <td>budget 144133</td>\n",
       "      <td>declaration number 76458</td>\n",
       "      <td>...</td>\n",
       "      <td>UNKNOWN</td>\n",
       "      <td>41.613445</td>\n",
       "      <td>UNKNOWN</td>\n",
       "      <td>travel permit 76455</td>\n",
       "      <td>travel permit number 76456</td>\n",
       "      <td>39.664561</td>\n",
       "      <td>declaration 76457</td>\n",
       "      <td>travel permit number 76456</td>\n",
       "      <td>st_step 76460_0</td>\n",
       "      <td>SUPERVISOR</td>\n",
       "    </tr>\n",
       "    <tr>\n",
       "      <th>4</th>\n",
       "      <td>declaration 76457</td>\n",
       "      <td>Declaration SUBMITTED by EMPLOYEE</td>\n",
       "      <td>STAFF MEMBER</td>\n",
       "      <td>38:14.0</td>\n",
       "      <td>Variant 25</td>\n",
       "      <td>25.0</td>\n",
       "      <td>39.664561</td>\n",
       "      <td>39.664561</td>\n",
       "      <td>budget 144133</td>\n",
       "      <td>declaration number 76458</td>\n",
       "      <td>...</td>\n",
       "      <td>UNKNOWN</td>\n",
       "      <td>41.613445</td>\n",
       "      <td>UNKNOWN</td>\n",
       "      <td>travel permit 76455</td>\n",
       "      <td>travel permit number 76456</td>\n",
       "      <td>39.664561</td>\n",
       "      <td>declaration 76457</td>\n",
       "      <td>travel permit number 76456</td>\n",
       "      <td>st_step 76461_0</td>\n",
       "      <td>EMPLOYEE</td>\n",
       "    </tr>\n",
       "    <tr>\n",
       "      <th>...</th>\n",
       "      <td>...</td>\n",
       "      <td>...</td>\n",
       "      <td>...</td>\n",
       "      <td>...</td>\n",
       "      <td>...</td>\n",
       "      <td>...</td>\n",
       "      <td>...</td>\n",
       "      <td>...</td>\n",
       "      <td>...</td>\n",
       "      <td>...</td>\n",
       "      <td>...</td>\n",
       "      <td>...</td>\n",
       "      <td>...</td>\n",
       "      <td>...</td>\n",
       "      <td>...</td>\n",
       "      <td>...</td>\n",
       "      <td>...</td>\n",
       "      <td>...</td>\n",
       "      <td>...</td>\n",
       "      <td>...</td>\n",
       "      <td>...</td>\n",
       "    </tr>\n",
       "    <tr>\n",
       "      <th>72146</th>\n",
       "      <td>NaN</td>\n",
       "      <td>NaN</td>\n",
       "      <td>NaN</td>\n",
       "      <td>NaN</td>\n",
       "      <td>NaN</td>\n",
       "      <td>NaN</td>\n",
       "      <td>NaN</td>\n",
       "      <td>NaN</td>\n",
       "      <td>NaN</td>\n",
       "      <td>NaN</td>\n",
       "      <td>...</td>\n",
       "      <td>NaN</td>\n",
       "      <td>NaN</td>\n",
       "      <td>NaN</td>\n",
       "      <td>NaN</td>\n",
       "      <td>NaN</td>\n",
       "      <td>NaN</td>\n",
       "      <td>NaN</td>\n",
       "      <td>NaN</td>\n",
       "      <td>NaN</td>\n",
       "      <td>NaN</td>\n",
       "    </tr>\n",
       "    <tr>\n",
       "      <th>72147</th>\n",
       "      <td>NaN</td>\n",
       "      <td>NaN</td>\n",
       "      <td>NaN</td>\n",
       "      <td>NaN</td>\n",
       "      <td>NaN</td>\n",
       "      <td>NaN</td>\n",
       "      <td>NaN</td>\n",
       "      <td>NaN</td>\n",
       "      <td>NaN</td>\n",
       "      <td>NaN</td>\n",
       "      <td>...</td>\n",
       "      <td>NaN</td>\n",
       "      <td>NaN</td>\n",
       "      <td>NaN</td>\n",
       "      <td>NaN</td>\n",
       "      <td>NaN</td>\n",
       "      <td>NaN</td>\n",
       "      <td>NaN</td>\n",
       "      <td>NaN</td>\n",
       "      <td>NaN</td>\n",
       "      <td>NaN</td>\n",
       "    </tr>\n",
       "    <tr>\n",
       "      <th>72148</th>\n",
       "      <td>NaN</td>\n",
       "      <td>NaN</td>\n",
       "      <td>NaN</td>\n",
       "      <td>NaN</td>\n",
       "      <td>NaN</td>\n",
       "      <td>NaN</td>\n",
       "      <td>NaN</td>\n",
       "      <td>NaN</td>\n",
       "      <td>NaN</td>\n",
       "      <td>NaN</td>\n",
       "      <td>...</td>\n",
       "      <td>NaN</td>\n",
       "      <td>NaN</td>\n",
       "      <td>NaN</td>\n",
       "      <td>NaN</td>\n",
       "      <td>NaN</td>\n",
       "      <td>NaN</td>\n",
       "      <td>NaN</td>\n",
       "      <td>NaN</td>\n",
       "      <td>NaN</td>\n",
       "      <td>NaN</td>\n",
       "    </tr>\n",
       "    <tr>\n",
       "      <th>72149</th>\n",
       "      <td>NaN</td>\n",
       "      <td>NaN</td>\n",
       "      <td>NaN</td>\n",
       "      <td>NaN</td>\n",
       "      <td>NaN</td>\n",
       "      <td>NaN</td>\n",
       "      <td>NaN</td>\n",
       "      <td>NaN</td>\n",
       "      <td>NaN</td>\n",
       "      <td>NaN</td>\n",
       "      <td>...</td>\n",
       "      <td>NaN</td>\n",
       "      <td>NaN</td>\n",
       "      <td>NaN</td>\n",
       "      <td>NaN</td>\n",
       "      <td>NaN</td>\n",
       "      <td>NaN</td>\n",
       "      <td>NaN</td>\n",
       "      <td>NaN</td>\n",
       "      <td>NaN</td>\n",
       "      <td>NaN</td>\n",
       "    </tr>\n",
       "    <tr>\n",
       "      <th>72150</th>\n",
       "      <td>NaN</td>\n",
       "      <td>NaN</td>\n",
       "      <td>NaN</td>\n",
       "      <td>NaN</td>\n",
       "      <td>NaN</td>\n",
       "      <td>NaN</td>\n",
       "      <td>NaN</td>\n",
       "      <td>NaN</td>\n",
       "      <td>NaN</td>\n",
       "      <td>NaN</td>\n",
       "      <td>...</td>\n",
       "      <td>NaN</td>\n",
       "      <td>NaN</td>\n",
       "      <td>NaN</td>\n",
       "      <td>NaN</td>\n",
       "      <td>NaN</td>\n",
       "      <td>NaN</td>\n",
       "      <td>NaN</td>\n",
       "      <td>NaN</td>\n",
       "      <td>NaN</td>\n",
       "      <td>NaN</td>\n",
       "    </tr>\n",
       "  </tbody>\n",
       "</table>\n",
       "<p>72151 rows × 24 columns</p>\n",
       "</div>"
      ],
      "text/plain": [
       "                 Case ID                             Activity      Resource  \\\n",
       "0      declaration 76457                           Start trip  STAFF MEMBER   \n",
       "1      declaration 76457                             End trip  STAFF MEMBER   \n",
       "2      declaration 76457         Permit SUBMITTED by EMPLOYEE  STAFF MEMBER   \n",
       "3      declaration 76457  Permit FINAL_APPROVED by SUPERVISOR  STAFF MEMBER   \n",
       "4      declaration 76457    Declaration SUBMITTED by EMPLOYEE  STAFF MEMBER   \n",
       "...                  ...                                  ...           ...   \n",
       "72146                NaN                                  NaN           NaN   \n",
       "72147                NaN                                  NaN           NaN   \n",
       "72148                NaN                                  NaN           NaN   \n",
       "72149                NaN                                  NaN           NaN   \n",
       "72150                NaN                                  NaN           NaN   \n",
       "\n",
       "      Complete Timestamp     Variant  Variant index  (case) AdjustedAmount  \\\n",
       "0                00:00.0  Variant 25           25.0              39.664561   \n",
       "1                00:00.0  Variant 25           25.0              39.664561   \n",
       "2                32:10.0  Variant 25           25.0              39.664561   \n",
       "3                32:28.0  Variant 25           25.0              39.664561   \n",
       "4                38:14.0  Variant 25           25.0              39.664561   \n",
       "...                  ...         ...            ...                    ...   \n",
       "72146                NaN         NaN            NaN                    NaN   \n",
       "72147                NaN         NaN            NaN                    NaN   \n",
       "72148                NaN         NaN            NaN                    NaN   \n",
       "72149                NaN         NaN            NaN                    NaN   \n",
       "72150                NaN         NaN            NaN                    NaN   \n",
       "\n",
       "       (case) Amount (case) BudgetNumber  (case) DeclarationNumber  ...  \\\n",
       "0          39.664561       budget 144133  declaration number 76458  ...   \n",
       "1          39.664561       budget 144133  declaration number 76458  ...   \n",
       "2          39.664561       budget 144133  declaration number 76458  ...   \n",
       "3          39.664561       budget 144133  declaration number 76458  ...   \n",
       "4          39.664561       budget 144133  declaration number 76458  ...   \n",
       "...              ...                 ...                       ...  ...   \n",
       "72146            NaN                 NaN                       NaN  ...   \n",
       "72147            NaN                 NaN                       NaN  ...   \n",
       "72148            NaN                 NaN                       NaN  ...   \n",
       "72149            NaN                 NaN                       NaN  ...   \n",
       "72150            NaN                 NaN                       NaN  ...   \n",
       "\n",
       "       (case) Permit ProjectNumber (case) Permit RequestedBudget  \\\n",
       "0                          UNKNOWN                     41.613445   \n",
       "1                          UNKNOWN                     41.613445   \n",
       "2                          UNKNOWN                     41.613445   \n",
       "3                          UNKNOWN                     41.613445   \n",
       "4                          UNKNOWN                     41.613445   \n",
       "...                            ...                           ...   \n",
       "72146                          NaN                           NaN   \n",
       "72147                          NaN                           NaN   \n",
       "72148                          NaN                           NaN   \n",
       "72149                          NaN                           NaN   \n",
       "72150                          NaN                           NaN   \n",
       "\n",
       "      (case) Permit TaskNumber     (case) Permit id  \\\n",
       "0                      UNKNOWN  travel permit 76455   \n",
       "1                      UNKNOWN  travel permit 76455   \n",
       "2                      UNKNOWN  travel permit 76455   \n",
       "3                      UNKNOWN  travel permit 76455   \n",
       "4                      UNKNOWN  travel permit 76455   \n",
       "...                        ...                  ...   \n",
       "72146                      NaN                  NaN   \n",
       "72147                      NaN                  NaN   \n",
       "72148                      NaN                  NaN   \n",
       "72149                      NaN                  NaN   \n",
       "72150                      NaN                  NaN   \n",
       "\n",
       "      (case) Permit travel permit number  (case) RequestedAmount  \\\n",
       "0             travel permit number 76456               39.664561   \n",
       "1             travel permit number 76456               39.664561   \n",
       "2             travel permit number 76456               39.664561   \n",
       "3             travel permit number 76456               39.664561   \n",
       "4             travel permit number 76456               39.664561   \n",
       "...                                  ...                     ...   \n",
       "72146                                NaN                     NaN   \n",
       "72147                                NaN                     NaN   \n",
       "72148                                NaN                     NaN   \n",
       "72149                                NaN                     NaN   \n",
       "72150                                NaN                     NaN   \n",
       "\n",
       "               (case) id (case) travel permit number  \\\n",
       "0      declaration 76457  travel permit number 76456   \n",
       "1      declaration 76457  travel permit number 76456   \n",
       "2      declaration 76457  travel permit number 76456   \n",
       "3      declaration 76457  travel permit number 76456   \n",
       "4      declaration 76457  travel permit number 76456   \n",
       "...                  ...                         ...   \n",
       "72146                NaN                         NaN   \n",
       "72147                NaN                         NaN   \n",
       "72148                NaN                         NaN   \n",
       "72149                NaN                         NaN   \n",
       "72150                NaN                         NaN   \n",
       "\n",
       "                             id    org:role  \n",
       "0      rv_travel permit 76455_6    EMPLOYEE  \n",
       "1      rv_travel permit 76455_7    EMPLOYEE  \n",
       "2               st_step 76459_0    EMPLOYEE  \n",
       "3               st_step 76460_0  SUPERVISOR  \n",
       "4               st_step 76461_0    EMPLOYEE  \n",
       "...                         ...         ...  \n",
       "72146                       NaN         NaN  \n",
       "72147                       NaN         NaN  \n",
       "72148                       NaN         NaN  \n",
       "72149                       NaN         NaN  \n",
       "72150                       NaN         NaN  \n",
       "\n",
       "[72151 rows x 24 columns]"
      ]
     },
     "execution_count": 4,
     "metadata": {},
     "output_type": "execute_result"
    }
   ],
   "source": [
    "df_International"
   ]
  },
  {
   "cell_type": "code",
   "execution_count": 5,
   "metadata": {},
   "outputs": [
    {
     "name": "stdout",
     "output_type": "stream",
     "text": [
      "Case ID                     105\n",
      "Activity                    105\n",
      "Resource                    105\n",
      "Complete Timestamp          105\n",
      "Variant                     105\n",
      "Variant index               105\n",
      "(case) Amount               105\n",
      "(case) BudgetNumber         105\n",
      "(case) DeclarationNumber    105\n",
      "(case) id                   105\n",
      "id                          105\n",
      "org:role                    105\n",
      "dtype: int64\n"
     ]
    }
   ],
   "source": [
    "print(df_domestic.isnull().sum())"
   ]
  },
  {
   "cell_type": "code",
   "execution_count": 6,
   "metadata": {},
   "outputs": [
    {
     "name": "stdout",
     "output_type": "stream",
     "text": [
      "Case ID                               4765\n",
      "Activity                              4765\n",
      "Resource                              4765\n",
      "Complete Timestamp                    4765\n",
      "Variant                               4765\n",
      "Variant index                         4765\n",
      "(case) AdjustedAmount                 4765\n",
      "(case) Amount                         4765\n",
      "(case) BudgetNumber                   4765\n",
      "(case) DeclarationNumber              4765\n",
      "(case) OriginalAmount                 4765\n",
      "(case) Permit BudgetNumber            4765\n",
      "(case) Permit ID                      4765\n",
      "(case) Permit OrganizationalEntity    4765\n",
      "(case) Permit ProjectNumber           4765\n",
      "(case) Permit RequestedBudget         4765\n",
      "(case) Permit TaskNumber              4765\n",
      "(case) Permit id                      4765\n",
      "(case) Permit travel permit number    4765\n",
      "(case) RequestedAmount                4765\n",
      "(case) id                             4765\n",
      "(case) travel permit number           4765\n",
      "id                                    4765\n",
      "org:role                              4765\n",
      "dtype: int64\n"
     ]
    }
   ],
   "source": [
    "print(df_International.isnull().sum())"
   ]
  },
  {
   "cell_type": "code",
   "execution_count": 7,
   "metadata": {},
   "outputs": [],
   "source": [
    "df_domestic = df_domestic.dropna(axis=0)\n",
    "df_International = df_International.dropna(axis=0)"
   ]
  },
  {
   "cell_type": "code",
   "execution_count": 8,
   "metadata": {},
   "outputs": [
    {
     "data": {
      "text/plain": [
       "'54:08.0'"
      ]
     },
     "execution_count": 8,
     "metadata": {},
     "output_type": "execute_result"
    }
   ],
   "source": [
    "df_domestic['Complete Timestamp'][0]"
   ]
  },
  {
   "cell_type": "code",
   "execution_count": 9,
   "metadata": {},
   "outputs": [
    {
     "name": "stderr",
     "output_type": "stream",
     "text": [
      "C:\\Users\\sean\\anaconda3\\lib\\site-packages\\ipykernel_launcher.py:1: SettingWithCopyWarning: \n",
      "A value is trying to be set on a copy of a slice from a DataFrame.\n",
      "Try using .loc[row_indexer,col_indexer] = value instead\n",
      "\n",
      "See the caveats in the documentation: https://pandas.pydata.org/pandas-docs/stable/user_guide/indexing.html#returning-a-view-versus-a-copy\n",
      "  \"\"\"Entry point for launching an IPython kernel.\n"
     ]
    }
   ],
   "source": [
    "df_domestic['Complete Timestamp hour'] = df_domestic['Complete Timestamp'].str.split(':').str[0]"
   ]
  },
  {
   "cell_type": "code",
   "execution_count": 10,
   "metadata": {},
   "outputs": [
    {
     "name": "stderr",
     "output_type": "stream",
     "text": [
      "C:\\Users\\sean\\anaconda3\\lib\\site-packages\\ipykernel_launcher.py:1: SettingWithCopyWarning: \n",
      "A value is trying to be set on a copy of a slice from a DataFrame.\n",
      "Try using .loc[row_indexer,col_indexer] = value instead\n",
      "\n",
      "See the caveats in the documentation: https://pandas.pydata.org/pandas-docs/stable/user_guide/indexing.html#returning-a-view-versus-a-copy\n",
      "  \"\"\"Entry point for launching an IPython kernel.\n"
     ]
    }
   ],
   "source": [
    "df_domestic['Complete Timestamp min'] = df_domestic['Complete Timestamp'].str.split(':').str[1]"
   ]
  },
  {
   "cell_type": "code",
   "execution_count": 11,
   "metadata": {},
   "outputs": [
    {
     "name": "stderr",
     "output_type": "stream",
     "text": [
      "C:\\Users\\sean\\anaconda3\\lib\\site-packages\\ipykernel_launcher.py:1: SettingWithCopyWarning: \n",
      "A value is trying to be set on a copy of a slice from a DataFrame.\n",
      "Try using .loc[row_indexer,col_indexer] = value instead\n",
      "\n",
      "See the caveats in the documentation: https://pandas.pydata.org/pandas-docs/stable/user_guide/indexing.html#returning-a-view-versus-a-copy\n",
      "  \"\"\"Entry point for launching an IPython kernel.\n"
     ]
    }
   ],
   "source": [
    "df_domestic['Complete Timestamp min'] = df_domestic['Complete Timestamp min'].str.split('.').str[0]"
   ]
  },
  {
   "cell_type": "code",
   "execution_count": 12,
   "metadata": {},
   "outputs": [
    {
     "name": "stderr",
     "output_type": "stream",
     "text": [
      "C:\\Users\\sean\\anaconda3\\lib\\site-packages\\ipykernel_launcher.py:1: SettingWithCopyWarning: \n",
      "A value is trying to be set on a copy of a slice from a DataFrame.\n",
      "Try using .loc[row_indexer,col_indexer] = value instead\n",
      "\n",
      "See the caveats in the documentation: https://pandas.pydata.org/pandas-docs/stable/user_guide/indexing.html#returning-a-view-versus-a-copy\n",
      "  \"\"\"Entry point for launching an IPython kernel.\n"
     ]
    }
   ],
   "source": [
    "df_domestic['Complete Timestamp sec'] = df_domestic['Complete Timestamp'].str.split(':').str[1]"
   ]
  },
  {
   "cell_type": "code",
   "execution_count": 13,
   "metadata": {},
   "outputs": [
    {
     "name": "stderr",
     "output_type": "stream",
     "text": [
      "C:\\Users\\sean\\anaconda3\\lib\\site-packages\\ipykernel_launcher.py:1: SettingWithCopyWarning: \n",
      "A value is trying to be set on a copy of a slice from a DataFrame.\n",
      "Try using .loc[row_indexer,col_indexer] = value instead\n",
      "\n",
      "See the caveats in the documentation: https://pandas.pydata.org/pandas-docs/stable/user_guide/indexing.html#returning-a-view-versus-a-copy\n",
      "  \"\"\"Entry point for launching an IPython kernel.\n"
     ]
    }
   ],
   "source": [
    "df_domestic['Complete Timestamp sec'] = df_domestic['Complete Timestamp sec'].str.split('.').str[1]"
   ]
  },
  {
   "cell_type": "code",
   "execution_count": 14,
   "metadata": {},
   "outputs": [
    {
     "name": "stderr",
     "output_type": "stream",
     "text": [
      "C:\\Users\\sean\\anaconda3\\lib\\site-packages\\ipykernel_launcher.py:1: SettingWithCopyWarning: \n",
      "A value is trying to be set on a copy of a slice from a DataFrame.\n",
      "Try using .loc[row_indexer,col_indexer] = value instead\n",
      "\n",
      "See the caveats in the documentation: https://pandas.pydata.org/pandas-docs/stable/user_guide/indexing.html#returning-a-view-versus-a-copy\n",
      "  \"\"\"Entry point for launching an IPython kernel.\n"
     ]
    }
   ],
   "source": [
    "df_domestic['Complete Timestamp hour'] =  pd.to_numeric(df_domestic['Complete Timestamp hour'])"
   ]
  },
  {
   "cell_type": "code",
   "execution_count": 15,
   "metadata": {},
   "outputs": [
    {
     "name": "stderr",
     "output_type": "stream",
     "text": [
      "C:\\Users\\sean\\anaconda3\\lib\\site-packages\\ipykernel_launcher.py:1: SettingWithCopyWarning: \n",
      "A value is trying to be set on a copy of a slice from a DataFrame.\n",
      "Try using .loc[row_indexer,col_indexer] = value instead\n",
      "\n",
      "See the caveats in the documentation: https://pandas.pydata.org/pandas-docs/stable/user_guide/indexing.html#returning-a-view-versus-a-copy\n",
      "  \"\"\"Entry point for launching an IPython kernel.\n"
     ]
    }
   ],
   "source": [
    "df_domestic['Complete Timestamp min'] =  pd.to_numeric(df_domestic['Complete Timestamp min'])"
   ]
  },
  {
   "cell_type": "code",
   "execution_count": 16,
   "metadata": {},
   "outputs": [
    {
     "name": "stderr",
     "output_type": "stream",
     "text": [
      "C:\\Users\\sean\\anaconda3\\lib\\site-packages\\ipykernel_launcher.py:1: SettingWithCopyWarning: \n",
      "A value is trying to be set on a copy of a slice from a DataFrame.\n",
      "Try using .loc[row_indexer,col_indexer] = value instead\n",
      "\n",
      "See the caveats in the documentation: https://pandas.pydata.org/pandas-docs/stable/user_guide/indexing.html#returning-a-view-versus-a-copy\n",
      "  \"\"\"Entry point for launching an IPython kernel.\n"
     ]
    }
   ],
   "source": [
    "df_domestic['Complete Timestamp sec'] =  pd.to_numeric(df_domestic['Complete Timestamp sec'])"
   ]
  },
  {
   "cell_type": "code",
   "execution_count": 17,
   "metadata": {},
   "outputs": [
    {
     "name": "stderr",
     "output_type": "stream",
     "text": [
      "C:\\Users\\sean\\anaconda3\\lib\\site-packages\\ipykernel_launcher.py:1: SettingWithCopyWarning: \n",
      "A value is trying to be set on a copy of a slice from a DataFrame.\n",
      "Try using .loc[row_indexer,col_indexer] = value instead\n",
      "\n",
      "See the caveats in the documentation: https://pandas.pydata.org/pandas-docs/stable/user_guide/indexing.html#returning-a-view-versus-a-copy\n",
      "  \"\"\"Entry point for launching an IPython kernel.\n"
     ]
    }
   ],
   "source": [
    "df_domestic['Complete_Timestamp_total'] = 60*df_domestic['Complete Timestamp hour'] + df_domestic['Complete Timestamp min'] + df_domestic['Complete Timestamp sec']/60"
   ]
  },
  {
   "cell_type": "code",
   "execution_count": 18,
   "metadata": {},
   "outputs": [
    {
     "data": {
      "text/plain": [
       "0        3248.0\n",
       "1        3255.0\n",
       "2        2392.0\n",
       "3        1319.0\n",
       "4        1895.0\n",
       "          ...  \n",
       "56157    3014.0\n",
       "56158    3373.0\n",
       "56159    3352.0\n",
       "56160    1228.0\n",
       "56161    1868.0\n",
       "Name: Complete_Timestamp_total, Length: 56057, dtype: float64"
      ]
     },
     "execution_count": 18,
     "metadata": {},
     "output_type": "execute_result"
    }
   ],
   "source": [
    "df_domestic['Complete_Timestamp_total']"
   ]
  },
  {
   "cell_type": "code",
   "execution_count": 19,
   "metadata": {},
   "outputs": [
    {
     "data": {
      "text/plain": [
       "'00:00.0'"
      ]
     },
     "execution_count": 19,
     "metadata": {},
     "output_type": "execute_result"
    }
   ],
   "source": [
    "df_International['Complete Timestamp'][0]"
   ]
  },
  {
   "cell_type": "code",
   "execution_count": 20,
   "metadata": {},
   "outputs": [
    {
     "name": "stderr",
     "output_type": "stream",
     "text": [
      "C:\\Users\\sean\\anaconda3\\lib\\site-packages\\ipykernel_launcher.py:1: SettingWithCopyWarning: \n",
      "A value is trying to be set on a copy of a slice from a DataFrame.\n",
      "Try using .loc[row_indexer,col_indexer] = value instead\n",
      "\n",
      "See the caveats in the documentation: https://pandas.pydata.org/pandas-docs/stable/user_guide/indexing.html#returning-a-view-versus-a-copy\n",
      "  \"\"\"Entry point for launching an IPython kernel.\n",
      "C:\\Users\\sean\\anaconda3\\lib\\site-packages\\ipykernel_launcher.py:3: SettingWithCopyWarning: \n",
      "A value is trying to be set on a copy of a slice from a DataFrame.\n",
      "Try using .loc[row_indexer,col_indexer] = value instead\n",
      "\n",
      "See the caveats in the documentation: https://pandas.pydata.org/pandas-docs/stable/user_guide/indexing.html#returning-a-view-versus-a-copy\n",
      "  This is separate from the ipykernel package so we can avoid doing imports until\n",
      "C:\\Users\\sean\\anaconda3\\lib\\site-packages\\ipykernel_launcher.py:4: SettingWithCopyWarning: \n",
      "A value is trying to be set on a copy of a slice from a DataFrame.\n",
      "Try using .loc[row_indexer,col_indexer] = value instead\n",
      "\n",
      "See the caveats in the documentation: https://pandas.pydata.org/pandas-docs/stable/user_guide/indexing.html#returning-a-view-versus-a-copy\n",
      "  after removing the cwd from sys.path.\n",
      "C:\\Users\\sean\\anaconda3\\lib\\site-packages\\ipykernel_launcher.py:6: SettingWithCopyWarning: \n",
      "A value is trying to be set on a copy of a slice from a DataFrame.\n",
      "Try using .loc[row_indexer,col_indexer] = value instead\n",
      "\n",
      "See the caveats in the documentation: https://pandas.pydata.org/pandas-docs/stable/user_guide/indexing.html#returning-a-view-versus-a-copy\n",
      "  \n",
      "C:\\Users\\sean\\anaconda3\\lib\\site-packages\\ipykernel_launcher.py:7: SettingWithCopyWarning: \n",
      "A value is trying to be set on a copy of a slice from a DataFrame.\n",
      "Try using .loc[row_indexer,col_indexer] = value instead\n",
      "\n",
      "See the caveats in the documentation: https://pandas.pydata.org/pandas-docs/stable/user_guide/indexing.html#returning-a-view-versus-a-copy\n",
      "  import sys\n",
      "C:\\Users\\sean\\anaconda3\\lib\\site-packages\\ipykernel_launcher.py:9: SettingWithCopyWarning: \n",
      "A value is trying to be set on a copy of a slice from a DataFrame.\n",
      "Try using .loc[row_indexer,col_indexer] = value instead\n",
      "\n",
      "See the caveats in the documentation: https://pandas.pydata.org/pandas-docs/stable/user_guide/indexing.html#returning-a-view-versus-a-copy\n",
      "  if __name__ == '__main__':\n",
      "C:\\Users\\sean\\anaconda3\\lib\\site-packages\\ipykernel_launcher.py:10: SettingWithCopyWarning: \n",
      "A value is trying to be set on a copy of a slice from a DataFrame.\n",
      "Try using .loc[row_indexer,col_indexer] = value instead\n",
      "\n",
      "See the caveats in the documentation: https://pandas.pydata.org/pandas-docs/stable/user_guide/indexing.html#returning-a-view-versus-a-copy\n",
      "  # Remove the CWD from sys.path while we load stuff.\n",
      "C:\\Users\\sean\\anaconda3\\lib\\site-packages\\ipykernel_launcher.py:11: SettingWithCopyWarning: \n",
      "A value is trying to be set on a copy of a slice from a DataFrame.\n",
      "Try using .loc[row_indexer,col_indexer] = value instead\n",
      "\n",
      "See the caveats in the documentation: https://pandas.pydata.org/pandas-docs/stable/user_guide/indexing.html#returning-a-view-versus-a-copy\n",
      "  # This is added back by InteractiveShellApp.init_path()\n"
     ]
    }
   ],
   "source": [
    "df_International['Complete Timestamp hour'] = df_International['Complete Timestamp'].str.split(':').str[0]\n",
    "\n",
    "df_International['Complete Timestamp min'] = df_International['Complete Timestamp'].str.split(':').str[1]\n",
    "df_International['Complete Timestamp min'] = df_International['Complete Timestamp min'].str.split('.').str[0]\n",
    "\n",
    "df_International['Complete Timestamp sec'] = df_International['Complete Timestamp'].str.split(':').str[1]\n",
    "df_International['Complete Timestamp sec'] = df_International['Complete Timestamp sec'].str.split('.').str[1]\n",
    "\n",
    "df_International['Complete Timestamp hour'] =  pd.to_numeric(df_International['Complete Timestamp hour'])\n",
    "df_International['Complete Timestamp min'] =  pd.to_numeric(df_International['Complete Timestamp min'])\n",
    "df_International['Complete Timestamp sec'] =  pd.to_numeric(df_International['Complete Timestamp sec'])"
   ]
  },
  {
   "cell_type": "code",
   "execution_count": 21,
   "metadata": {},
   "outputs": [
    {
     "name": "stderr",
     "output_type": "stream",
     "text": [
      "C:\\Users\\sean\\anaconda3\\lib\\site-packages\\ipykernel_launcher.py:1: SettingWithCopyWarning: \n",
      "A value is trying to be set on a copy of a slice from a DataFrame.\n",
      "Try using .loc[row_indexer,col_indexer] = value instead\n",
      "\n",
      "See the caveats in the documentation: https://pandas.pydata.org/pandas-docs/stable/user_guide/indexing.html#returning-a-view-versus-a-copy\n",
      "  \"\"\"Entry point for launching an IPython kernel.\n"
     ]
    },
    {
     "data": {
      "text/plain": [
       "0           0.0\n",
       "1           0.0\n",
       "2        1930.0\n",
       "3        1948.0\n",
       "4        2294.0\n",
       "          ...  \n",
       "67381    1132.0\n",
       "67382    1042.0\n",
       "67383     950.0\n",
       "67384    2610.0\n",
       "67385    1873.0\n",
       "Name: Complete_Timestamp_total, Length: 67386, dtype: float64"
      ]
     },
     "execution_count": 21,
     "metadata": {},
     "output_type": "execute_result"
    }
   ],
   "source": [
    "df_International['Complete_Timestamp_total'] = 60*df_International['Complete Timestamp hour'] + df_International['Complete Timestamp min'] + df_International['Complete Timestamp sec']/60\n",
    "\n",
    "df_International['Complete_Timestamp_total']\n"
   ]
  },
  {
   "cell_type": "code",
   "execution_count": 22,
   "metadata": {},
   "outputs": [
    {
     "data": {
      "image/png": "[encoded data removed]",
      "text/plain": [
       "<Figure size 432x288 with 1 Axes>"
      ]
     },
     "metadata": {
      "needs_background": "light"
     },
     "output_type": "display_data"
    },
    {
     "name": "stdout",
     "output_type": "stream",
     "text": [
      "The number of outlier is 0\n"
     ]
    }
   ],
   "source": [
    "import math\n",
    "from sklearn import preprocessing\n",
    "\n",
    "\n",
    "plt.boxplot(df_domestic['Complete_Timestamp_total'])\n",
    "plt.show()\n",
    "\n",
    "quartile_1, quartile_3 = np.percentile(df_domestic['Complete_Timestamp_total'], [25, 75])\n",
    "iqr = quartile_3 - quartile_1\n",
    "lower_bound = quartile_1 - (iqr * 1.5)\n",
    "upper_bound = quartile_3 + (iqr * 1.5)\n",
    "\n",
    "outlier_df_domestic = 0\n",
    "Domestic = df_domestic['Complete_Timestamp_total'].tolist()\n",
    "\n",
    "for i in Domestic:\n",
    "    if i < lower_bound or i > upper_bound:\n",
    "        outlier_df_domestic+=1\n",
    "print(\"The number of outlier is\" , outlier_df_domestic)"
   ]
  },
  {
   "cell_type": "code",
   "execution_count": 23,
   "metadata": {},
   "outputs": [
    {
     "data": {
      "image/png": "[encoded data removed]",
      "text/plain": [
       "<Figure size 432x288 with 1 Axes>"
      ]
     },
     "metadata": {
      "needs_background": "light"
     },
     "output_type": "display_data"
    },
    {
     "name": "stdout",
     "output_type": "stream",
     "text": [
      "The number of outlier is 0\n"
     ]
    }
   ],
   "source": [
    "import math\n",
    "from sklearn import preprocessing\n",
    "\n",
    "\n",
    "plt.boxplot(df_International['Complete_Timestamp_total'])\n",
    "plt.show()\n",
    "\n",
    "quartile_1, quartile_3 = np.percentile(df_International['Complete_Timestamp_total'], [25, 75])\n",
    "iqr = quartile_3 - quartile_1\n",
    "lower_bound = quartile_1 - (iqr * 1.5)\n",
    "upper_bound = quartile_3 + (iqr * 1.5)\n",
    "\n",
    "outlier_df_International = 0\n",
    "International = df_International['Complete_Timestamp_total'].tolist()\n",
    "\n",
    "for i in International:\n",
    "    if i < lower_bound or i > upper_bound:\n",
    "        outlier_df_International+=1\n",
    "print(\"The number of outlier is\" , outlier_df_International)"
   ]
  },
  {
   "cell_type": "code",
   "execution_count": 33,
   "metadata": {},
   "outputs": [
    {
     "data": {
      "text/html": [
       "<div>\n",
       "<style scoped>\n",
       "    .dataframe tbody tr th:only-of-type {\n",
       "        vertical-align: middle;\n",
       "    }\n",
       "\n",
       "    .dataframe tbody tr th {\n",
       "        vertical-align: top;\n",
       "    }\n",
       "\n",
       "    .dataframe thead th {\n",
       "        text-align: right;\n",
       "    }\n",
       "</style>\n",
       "<table border=\"1\" class=\"dataframe\">\n",
       "  <thead>\n",
       "    <tr style=\"text-align: right;\">\n",
       "      <th></th>\n",
       "      <th></th>\n",
       "      <th></th>\n",
       "      <th>Variant index</th>\n",
       "      <th>(case) Amount</th>\n",
       "      <th>Complete Timestamp hour</th>\n",
       "      <th>Complete Timestamp min</th>\n",
       "      <th>Complete Timestamp sec</th>\n",
       "      <th>Complete_Timestamp_total</th>\n",
       "    </tr>\n",
       "    <tr>\n",
       "      <th>Case ID</th>\n",
       "      <th>Activity</th>\n",
       "      <th>Resource</th>\n",
       "      <th></th>\n",
       "      <th></th>\n",
       "      <th></th>\n",
       "      <th></th>\n",
       "      <th></th>\n",
       "      <th></th>\n",
       "    </tr>\n",
       "  </thead>\n",
       "  <tbody>\n",
       "    <tr>\n",
       "      <th rowspan=\"5\" valign=\"top\">declaration 100105</th>\n",
       "      <th>Declaration APPROVED by ADMINISTRATION</th>\n",
       "      <th>STAFF MEMBER</th>\n",
       "      <td>2.0</td>\n",
       "      <td>40.882158</td>\n",
       "      <td>48.0</td>\n",
       "      <td>27.0</td>\n",
       "      <td>0.0</td>\n",
       "      <td>2907.0</td>\n",
       "    </tr>\n",
       "    <tr>\n",
       "      <th>Declaration APPROVED by BUDGET OWNER</th>\n",
       "      <th>STAFF MEMBER</th>\n",
       "      <td>2.0</td>\n",
       "      <td>40.882158</td>\n",
       "      <td>36.0</td>\n",
       "      <td>43.0</td>\n",
       "      <td>0.0</td>\n",
       "      <td>2203.0</td>\n",
       "    </tr>\n",
       "    <tr>\n",
       "      <th>Declaration FINAL_APPROVED by SUPERVISOR</th>\n",
       "      <th>STAFF MEMBER</th>\n",
       "      <td>2.0</td>\n",
       "      <td>40.882158</td>\n",
       "      <td>12.0</td>\n",
       "      <td>56.0</td>\n",
       "      <td>0.0</td>\n",
       "      <td>776.0</td>\n",
       "    </tr>\n",
       "    <tr>\n",
       "      <th>Declaration SUBMITTED by EMPLOYEE</th>\n",
       "      <th>STAFF MEMBER</th>\n",
       "      <td>2.0</td>\n",
       "      <td>40.882158</td>\n",
       "      <td>40.0</td>\n",
       "      <td>5.0</td>\n",
       "      <td>0.0</td>\n",
       "      <td>2405.0</td>\n",
       "    </tr>\n",
       "    <tr>\n",
       "      <th>Payment Handled</th>\n",
       "      <th>SYSTEM</th>\n",
       "      <td>2.0</td>\n",
       "      <td>40.882158</td>\n",
       "      <td>31.0</td>\n",
       "      <td>13.0</td>\n",
       "      <td>0.0</td>\n",
       "      <td>1873.0</td>\n",
       "    </tr>\n",
       "    <tr>\n",
       "      <th>...</th>\n",
       "      <th>...</th>\n",
       "      <th>...</th>\n",
       "      <td>...</td>\n",
       "      <td>...</td>\n",
       "      <td>...</td>\n",
       "      <td>...</td>\n",
       "      <td>...</td>\n",
       "      <td>...</td>\n",
       "    </tr>\n",
       "    <tr>\n",
       "      <th rowspan=\"5\" valign=\"top\">declaration 99995</th>\n",
       "      <th>Declaration APPROVED by ADMINISTRATION</th>\n",
       "      <th>STAFF MEMBER</th>\n",
       "      <td>1.0</td>\n",
       "      <td>26.218933</td>\n",
       "      <td>59.0</td>\n",
       "      <td>9.0</td>\n",
       "      <td>0.0</td>\n",
       "      <td>3549.0</td>\n",
       "    </tr>\n",
       "    <tr>\n",
       "      <th>Declaration FINAL_APPROVED by SUPERVISOR</th>\n",
       "      <th>STAFF MEMBER</th>\n",
       "      <td>1.0</td>\n",
       "      <td>26.218933</td>\n",
       "      <td>58.0</td>\n",
       "      <td>38.0</td>\n",
       "      <td>0.0</td>\n",
       "      <td>3518.0</td>\n",
       "    </tr>\n",
       "    <tr>\n",
       "      <th>Declaration SUBMITTED by EMPLOYEE</th>\n",
       "      <th>STAFF MEMBER</th>\n",
       "      <td>1.0</td>\n",
       "      <td>26.218933</td>\n",
       "      <td>58.0</td>\n",
       "      <td>58.0</td>\n",
       "      <td>0.0</td>\n",
       "      <td>3538.0</td>\n",
       "    </tr>\n",
       "    <tr>\n",
       "      <th>Payment Handled</th>\n",
       "      <th>SYSTEM</th>\n",
       "      <td>1.0</td>\n",
       "      <td>26.218933</td>\n",
       "      <td>31.0</td>\n",
       "      <td>17.0</td>\n",
       "      <td>0.0</td>\n",
       "      <td>1877.0</td>\n",
       "    </tr>\n",
       "    <tr>\n",
       "      <th>Request Payment</th>\n",
       "      <th>SYSTEM</th>\n",
       "      <td>1.0</td>\n",
       "      <td>26.218933</td>\n",
       "      <td>53.0</td>\n",
       "      <td>5.0</td>\n",
       "      <td>0.0</td>\n",
       "      <td>3185.0</td>\n",
       "    </tr>\n",
       "  </tbody>\n",
       "</table>\n",
       "<p>54320 rows × 6 columns</p>\n",
       "</div>"
      ],
      "text/plain": [
       "                                                                          Variant index  \\\n",
       "Case ID            Activity                                 Resource                      \n",
       "declaration 100105 Declaration APPROVED by ADMINISTRATION   STAFF MEMBER            2.0   \n",
       "                   Declaration APPROVED by BUDGET OWNER     STAFF MEMBER            2.0   \n",
       "                   Declaration FINAL_APPROVED by SUPERVISOR STAFF MEMBER            2.0   \n",
       "                   Declaration SUBMITTED by EMPLOYEE        STAFF MEMBER            2.0   \n",
       "                   Payment Handled                          SYSTEM                  2.0   \n",
       "...                                                                                 ...   \n",
       "declaration 99995  Declaration APPROVED by ADMINISTRATION   STAFF MEMBER            1.0   \n",
       "                   Declaration FINAL_APPROVED by SUPERVISOR STAFF MEMBER            1.0   \n",
       "                   Declaration SUBMITTED by EMPLOYEE        STAFF MEMBER            1.0   \n",
       "                   Payment Handled                          SYSTEM                  1.0   \n",
       "                   Request Payment                          SYSTEM                  1.0   \n",
       "\n",
       "                                                                          (case) Amount  \\\n",
       "Case ID            Activity                                 Resource                      \n",
       "declaration 100105 Declaration APPROVED by ADMINISTRATION   STAFF MEMBER      40.882158   \n",
       "                   Declaration APPROVED by BUDGET OWNER     STAFF MEMBER      40.882158   \n",
       "                   Declaration FINAL_APPROVED by SUPERVISOR STAFF MEMBER      40.882158   \n",
       "                   Declaration SUBMITTED by EMPLOYEE        STAFF MEMBER      40.882158   \n",
       "                   Payment Handled                          SYSTEM            40.882158   \n",
       "...                                                                                 ...   \n",
       "declaration 99995  Declaration APPROVED by ADMINISTRATION   STAFF MEMBER      26.218933   \n",
       "                   Declaration FINAL_APPROVED by SUPERVISOR STAFF MEMBER      26.218933   \n",
       "                   Declaration SUBMITTED by EMPLOYEE        STAFF MEMBER      26.218933   \n",
       "                   Payment Handled                          SYSTEM            26.218933   \n",
       "                   Request Payment                          SYSTEM            26.218933   \n",
       "\n",
       "                                                                          Complete Timestamp hour  \\\n",
       "Case ID            Activity                                 Resource                                \n",
       "declaration 100105 Declaration APPROVED by ADMINISTRATION   STAFF MEMBER                     48.0   \n",
       "                   Declaration APPROVED by BUDGET OWNER     STAFF MEMBER                     36.0   \n",
       "                   Declaration FINAL_APPROVED by SUPERVISOR STAFF MEMBER                     12.0   \n",
       "                   Declaration SUBMITTED by EMPLOYEE        STAFF MEMBER                     40.0   \n",
       "                   Payment Handled                          SYSTEM                           31.0   \n",
       "...                                                                                           ...   \n",
       "declaration 99995  Declaration APPROVED by ADMINISTRATION   STAFF MEMBER                     59.0   \n",
       "                   Declaration FINAL_APPROVED by SUPERVISOR STAFF MEMBER                     58.0   \n",
       "                   Declaration SUBMITTED by EMPLOYEE        STAFF MEMBER                     58.0   \n",
       "                   Payment Handled                          SYSTEM                           31.0   \n",
       "                   Request Payment                          SYSTEM                           53.0   \n",
       "\n",
       "                                                                          Complete Timestamp min  \\\n",
       "Case ID            Activity                                 Resource                               \n",
       "declaration 100105 Declaration APPROVED by ADMINISTRATION   STAFF MEMBER                    27.0   \n",
       "                   Declaration APPROVED by BUDGET OWNER     STAFF MEMBER                    43.0   \n",
       "                   Declaration FINAL_APPROVED by SUPERVISOR STAFF MEMBER                    56.0   \n",
       "                   Declaration SUBMITTED by EMPLOYEE        STAFF MEMBER                     5.0   \n",
       "                   Payment Handled                          SYSTEM                          13.0   \n",
       "...                                                                                          ...   \n",
       "declaration 99995  Declaration APPROVED by ADMINISTRATION   STAFF MEMBER                     9.0   \n",
       "                   Declaration FINAL_APPROVED by SUPERVISOR STAFF MEMBER                    38.0   \n",
       "                   Declaration SUBMITTED by EMPLOYEE        STAFF MEMBER                    58.0   \n",
       "                   Payment Handled                          SYSTEM                          17.0   \n",
       "                   Request Payment                          SYSTEM                           5.0   \n",
       "\n",
       "                                                                          Complete Timestamp sec  \\\n",
       "Case ID            Activity                                 Resource                               \n",
       "declaration 100105 Declaration APPROVED by ADMINISTRATION   STAFF MEMBER                     0.0   \n",
       "                   Declaration APPROVED by BUDGET OWNER     STAFF MEMBER                     0.0   \n",
       "                   Declaration FINAL_APPROVED by SUPERVISOR STAFF MEMBER                     0.0   \n",
       "                   Declaration SUBMITTED by EMPLOYEE        STAFF MEMBER                     0.0   \n",
       "                   Payment Handled                          SYSTEM                           0.0   \n",
       "...                                                                                          ...   \n",
       "declaration 99995  Declaration APPROVED by ADMINISTRATION   STAFF MEMBER                     0.0   \n",
       "                   Declaration FINAL_APPROVED by SUPERVISOR STAFF MEMBER                     0.0   \n",
       "                   Declaration SUBMITTED by EMPLOYEE        STAFF MEMBER                     0.0   \n",
       "                   Payment Handled                          SYSTEM                           0.0   \n",
       "                   Request Payment                          SYSTEM                           0.0   \n",
       "\n",
       "                                                                          Complete_Timestamp_total  \n",
       "Case ID            Activity                                 Resource                                \n",
       "declaration 100105 Declaration APPROVED by ADMINISTRATION   STAFF MEMBER                    2907.0  \n",
       "                   Declaration APPROVED by BUDGET OWNER     STAFF MEMBER                    2203.0  \n",
       "                   Declaration FINAL_APPROVED by SUPERVISOR STAFF MEMBER                     776.0  \n",
       "                   Declaration SUBMITTED by EMPLOYEE        STAFF MEMBER                    2405.0  \n",
       "                   Payment Handled                          SYSTEM                          1873.0  \n",
       "...                                                                                            ...  \n",
       "declaration 99995  Declaration APPROVED by ADMINISTRATION   STAFF MEMBER                    3549.0  \n",
       "                   Declaration FINAL_APPROVED by SUPERVISOR STAFF MEMBER                    3518.0  \n",
       "                   Declaration SUBMITTED by EMPLOYEE        STAFF MEMBER                    3538.0  \n",
       "                   Payment Handled                          SYSTEM                          1877.0  \n",
       "                   Request Payment                          SYSTEM                          3185.0  \n",
       "\n",
       "[54320 rows x 6 columns]"
      ]
     },
     "execution_count": 33,
     "metadata": {},
     "output_type": "execute_result"
    }
   ],
   "source": [
    "df_domestic.groupby(['Case ID', 'Activity', 'Resource']).mean()"
   ]
  },
  {
   "cell_type": "code",
   "execution_count": 43,
   "metadata": {},
   "outputs": [
    {
     "name": "stdout",
     "output_type": "stream",
     "text": [
      "98.744711590052\n",
      "824.5024316892168\n"
     ]
    }
   ],
   "source": [
    "a = df_domestic['(case) Amount'].unique()\n",
    "b = df_International['(case) Amount'].unique()\n",
    "\n",
    "print(a.mean())\n",
    "print(b.mean())\n"
   ]
  },
  {
   "cell_type": "code",
   "execution_count": 25,
   "metadata": {},
   "outputs": [
    {
     "data": {
      "text/plain": [
       "<matplotlib.axes._subplots.AxesSubplot at 0x124a5533f08>"
      ]
     },
     "execution_count": 25,
     "metadata": {},
     "output_type": "execute_result"
    },
    {
     "data": {
      "image/png": "[encoded data removed]",
      "text/plain": [
       "<Figure size 432x288 with 1 Axes>"
      ]
     },
     "metadata": {
      "needs_background": "light"
     },
     "output_type": "display_data"
    }
   ],
   "source": [
    "sns.distplot(df_International['Complete_Timestamp_total'],color='red',label='International_min')\n",
    "sns.distplot(df_domestic['Complete_Timestamp_total'],color='green',label='domestic_min')\n"
   ]
  },
  {
   "cell_type": "code",
   "execution_count": 26,
   "metadata": {},
   "outputs": [
    {
     "data": {
      "text/plain": [
       "count    56057.000000\n",
       "mean      1827.020390\n",
       "std        942.885027\n",
       "min          0.000000\n",
       "25%       1094.000000\n",
       "50%       1872.000000\n",
       "75%       2532.000000\n",
       "max       3599.000000\n",
       "Name: Complete_Timestamp_total, dtype: float64"
      ]
     },
     "execution_count": 26,
     "metadata": {},
     "output_type": "execute_result"
    }
   ],
   "source": [
    "df_domestic['Complete_Timestamp_total'].describe()"
   ]
  },
  {
   "cell_type": "code",
   "execution_count": 27,
   "metadata": {},
   "outputs": [
    {
     "data": {
      "text/plain": [
       "count    67386.000000\n",
       "mean      1462.828243\n",
       "std       1129.137292\n",
       "min          0.000000\n",
       "25%        325.000000\n",
       "50%       1515.000000\n",
       "75%       2353.000000\n",
       "max       3599.000000\n",
       "Name: Complete_Timestamp_total, dtype: float64"
      ]
     },
     "execution_count": 27,
     "metadata": {},
     "output_type": "execute_result"
    }
   ],
   "source": [
    "df_International['Complete_Timestamp_total'].describe()"
   ]
  },
  {
   "cell_type": "code",
   "execution_count": 28,
   "metadata": {},
   "outputs": [
    {
     "ename": "KeyboardInterrupt",
     "evalue": "",
     "output_type": "error",
     "traceback": [
      "\u001b[1;31m---------------------------------------------------------------------------\u001b[0m",
      "\u001b[1;31mKeyboardInterrupt\u001b[0m                         Traceback (most recent call last)",
      "\u001b[1;32m<ipython-input-28-b03c0bee8aec>\u001b[0m in \u001b[0;36m<module>\u001b[1;34m\u001b[0m\n\u001b[0;32m      3\u001b[0m \u001b[1;33m\u001b[0m\u001b[0m\n\u001b[0;32m      4\u001b[0m \u001b[1;32mfor\u001b[0m \u001b[0mi\u001b[0m \u001b[1;32min\u001b[0m \u001b[0mrange\u001b[0m\u001b[1;33m(\u001b[0m\u001b[1;36m10000\u001b[0m\u001b[1;33m)\u001b[0m\u001b[1;33m:\u001b[0m\u001b[1;33m\u001b[0m\u001b[1;33m\u001b[0m\u001b[0m\n\u001b[1;32m----> 5\u001b[1;33m     \u001b[0mdf_temp\u001b[0m \u001b[1;33m=\u001b[0m \u001b[0mdf_International\u001b[0m\u001b[1;33m[\u001b[0m\u001b[1;34m'Complete_Timestamp_total'\u001b[0m\u001b[1;33m]\u001b[0m\u001b[1;33m.\u001b[0m\u001b[0msample\u001b[0m\u001b[1;33m(\u001b[0m\u001b[0mn\u001b[0m\u001b[1;33m=\u001b[0m\u001b[1;36m56057\u001b[0m\u001b[1;33m)\u001b[0m\u001b[1;33m\u001b[0m\u001b[1;33m\u001b[0m\u001b[0m\n\u001b[0m\u001b[0;32m      6\u001b[0m     \u001b[0mF_statistic\u001b[0m\u001b[1;33m,\u001b[0m \u001b[0mpVal\u001b[0m \u001b[1;33m=\u001b[0m \u001b[0mstats\u001b[0m\u001b[1;33m.\u001b[0m\u001b[0mf_oneway\u001b[0m\u001b[1;33m(\u001b[0m\u001b[0mdf_temp\u001b[0m\u001b[1;33m,\u001b[0m \u001b[0mdf_domestic\u001b[0m\u001b[1;33m[\u001b[0m\u001b[1;34m'Complete_Timestamp_total'\u001b[0m\u001b[1;33m]\u001b[0m\u001b[1;33m)\u001b[0m\u001b[1;33m\u001b[0m\u001b[1;33m\u001b[0m\u001b[0m\n\u001b[0;32m      7\u001b[0m     \u001b[1;32mif\u001b[0m \u001b[0mpVal\u001b[0m \u001b[1;33m<\u001b[0m \u001b[1;36m0.05\u001b[0m\u001b[1;33m:\u001b[0m\u001b[1;33m\u001b[0m\u001b[1;33m\u001b[0m\u001b[0m\n",
      "\u001b[1;32m~\\anaconda3\\lib\\site-packages\\pandas\\core\\generic.py\u001b[0m in \u001b[0;36msample\u001b[1;34m(self, n, frac, replace, weights, random_state, axis)\u001b[0m\n\u001b[0;32m   4989\u001b[0m \u001b[1;33m\u001b[0m\u001b[0m\n\u001b[0;32m   4990\u001b[0m         \u001b[0mlocs\u001b[0m \u001b[1;33m=\u001b[0m \u001b[0mrs\u001b[0m\u001b[1;33m.\u001b[0m\u001b[0mchoice\u001b[0m\u001b[1;33m(\u001b[0m\u001b[0maxis_length\u001b[0m\u001b[1;33m,\u001b[0m \u001b[0msize\u001b[0m\u001b[1;33m=\u001b[0m\u001b[0mn\u001b[0m\u001b[1;33m,\u001b[0m \u001b[0mreplace\u001b[0m\u001b[1;33m=\u001b[0m\u001b[0mreplace\u001b[0m\u001b[1;33m,\u001b[0m \u001b[0mp\u001b[0m\u001b[1;33m=\u001b[0m\u001b[0mweights\u001b[0m\u001b[1;33m)\u001b[0m\u001b[1;33m\u001b[0m\u001b[1;33m\u001b[0m\u001b[0m\n\u001b[1;32m-> 4991\u001b[1;33m         \u001b[1;32mreturn\u001b[0m \u001b[0mself\u001b[0m\u001b[1;33m.\u001b[0m\u001b[0mtake\u001b[0m\u001b[1;33m(\u001b[0m\u001b[0mlocs\u001b[0m\u001b[1;33m,\u001b[0m \u001b[0maxis\u001b[0m\u001b[1;33m=\u001b[0m\u001b[0maxis\u001b[0m\u001b[1;33m)\u001b[0m\u001b[1;33m\u001b[0m\u001b[1;33m\u001b[0m\u001b[0m\n\u001b[0m\u001b[0;32m   4992\u001b[0m \u001b[1;33m\u001b[0m\u001b[0m\n\u001b[0;32m   4993\u001b[0m     \u001b[1;33m@\u001b[0m\u001b[0mdoc\u001b[0m\u001b[1;33m(\u001b[0m\u001b[0mklass\u001b[0m\u001b[1;33m=\u001b[0m\u001b[0m_shared_doc_kwargs\u001b[0m\u001b[1;33m[\u001b[0m\u001b[1;34m\"klass\"\u001b[0m\u001b[1;33m]\u001b[0m\u001b[1;33m)\u001b[0m\u001b[1;33m\u001b[0m\u001b[1;33m\u001b[0m\u001b[0m\n",
      "\u001b[1;32m~\\anaconda3\\lib\\site-packages\\pandas\\core\\series.py\u001b[0m in \u001b[0;36mtake\u001b[1;34m(self, indices, axis, is_copy, **kwargs)\u001b[0m\n\u001b[0;32m    829\u001b[0m         \u001b[0mnv\u001b[0m\u001b[1;33m.\u001b[0m\u001b[0mvalidate_take\u001b[0m\u001b[1;33m(\u001b[0m\u001b[0mtuple\u001b[0m\u001b[1;33m(\u001b[0m\u001b[1;33m)\u001b[0m\u001b[1;33m,\u001b[0m \u001b[0mkwargs\u001b[0m\u001b[1;33m)\u001b[0m\u001b[1;33m\u001b[0m\u001b[1;33m\u001b[0m\u001b[0m\n\u001b[0;32m    830\u001b[0m \u001b[1;33m\u001b[0m\u001b[0m\n\u001b[1;32m--> 831\u001b[1;33m         \u001b[0mindices\u001b[0m \u001b[1;33m=\u001b[0m \u001b[0mensure_platform_int\u001b[0m\u001b[1;33m(\u001b[0m\u001b[0mindices\u001b[0m\u001b[1;33m)\u001b[0m\u001b[1;33m\u001b[0m\u001b[1;33m\u001b[0m\u001b[0m\n\u001b[0m\u001b[0;32m    832\u001b[0m         \u001b[0mnew_index\u001b[0m \u001b[1;33m=\u001b[0m \u001b[0mself\u001b[0m\u001b[1;33m.\u001b[0m\u001b[0mindex\u001b[0m\u001b[1;33m.\u001b[0m\u001b[0mtake\u001b[0m\u001b[1;33m(\u001b[0m\u001b[0mindices\u001b[0m\u001b[1;33m)\u001b[0m\u001b[1;33m\u001b[0m\u001b[1;33m\u001b[0m\u001b[0m\n\u001b[0;32m    833\u001b[0m         \u001b[0mnew_values\u001b[0m \u001b[1;33m=\u001b[0m \u001b[0mself\u001b[0m\u001b[1;33m.\u001b[0m\u001b[0m_values\u001b[0m\u001b[1;33m.\u001b[0m\u001b[0mtake\u001b[0m\u001b[1;33m(\u001b[0m\u001b[0mindices\u001b[0m\u001b[1;33m)\u001b[0m\u001b[1;33m\u001b[0m\u001b[1;33m\u001b[0m\u001b[0m\n",
      "\u001b[1;31mKeyboardInterrupt\u001b[0m: "
     ]
    }
   ],
   "source": [
    "import scipy.stats as stats\n",
    "count = 0\n",
    "\n",
    "for i in range(10000):   \n",
    "    df_temp = df_International['Complete_Timestamp_total'].sample(n=56057)\n",
    "    F_statistic, pVal = stats.f_oneway(df_temp, df_domestic['Complete_Timestamp_total'])\n",
    "    if pVal < 0.05:\n",
    "        count+=1\n",
    "\n",
    "print(count)"
   ]
  }
 ],
 "metadata": {
  "kernelspec": {
   "display_name": "Python 3",
   "language": "python",
   "name": "python3"
  },
  "language_info": {
   "codemirror_mode": {
    "name": "ipython",
    "version": 3
   },
   "file_extension": ".py",
   "mimetype": "text/x-python",
   "name": "python",
   "nbconvert_exporter": "python",
   "pygments_lexer": "ipython3",
   "version": "3.7.6"
  }
 },
 "nbformat": 4,
 "nbformat_minor": 4
}
