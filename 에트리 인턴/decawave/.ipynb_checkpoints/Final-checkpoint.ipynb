{
 "cells": [
  {
   "cell_type": "markdown",
   "metadata": {},
   "source": [
    "## Default Settings"
   ]
  },
  {
   "cell_type": "code",
   "execution_count": 2,
   "metadata": {},
   "outputs": [],
   "source": [
    "import os.path as osp\n",
    "import os\n",
    "import numpy as np\n",
    "import pandas as pd\n",
    "from scipy import stats\n",
    "from sklearn.metrics import mean_squared_error\n",
    "\n",
    "path_dir ='./RawData'\n",
    "file_list = os.listdir(path_dir)"
   ]
  },
  {
   "cell_type": "markdown",
   "metadata": {},
   "source": [
    "## Variable Settings"
   ]
  },
  {
   "cell_type": "code",
   "execution_count": 3,
   "metadata": {},
   "outputs": [
    {
     "ename": "SyntaxError",
     "evalue": "cannot assign to operator (<ipython-input-3-7aebe11e2295>, line 4)",
     "output_type": "error",
     "traceback": [
      "\u001b[1;36m  File \u001b[1;32m\"<ipython-input-3-7aebe11e2295>\"\u001b[1;36m, line \u001b[1;32m4\u001b[0m\n\u001b[1;33m    p-value_x_list = []  # 각 방법의 T_test_x의 p-value 리스트\u001b[0m\n\u001b[1;37m    ^\u001b[0m\n\u001b[1;31mSyntaxError\u001b[0m\u001b[1;31m:\u001b[0m cannot assign to operator\n"
     ]
    }
   ],
   "source": [
    "x_real =  0  #테스트 진행시 지정한 좌표의 x값\n",
    "y_real =  0  #테스트 진행시 지정한 좌표의 y값\n",
    "\n",
    "p_value_x_list = []  # 각 방법의 T_test_x의 p-value 리스트\n",
    "p_value_y_list = []  # 각 방법의 T_test_y의 p-value 리스트\n",
    "\n",
    "rmse_x_list = []     #각 방법의 x의 rmse 값\n",
    "rmse_y_list = []\n",
    "\n",
    "index_list = []"
   ]
  },
  {
   "cell_type": "markdown",
   "metadata": {},
   "source": [
    "## T-test & RMSE"
   ]
  },
  {
   "cell_type": "code",
   "execution_count": 4,
   "metadata": {},
   "outputs": [],
   "source": [
    "for idx, f_name in enumerate(file_list):\n",
    "    data = pd.read_csv(osp.join(path_dir, f_name) , header=None)\n",
    "    df = pd.DataFrame(data, columns = ['Date' , 'Time' , 'TagId' , 'x_hat' ,'y_hat'])\n",
    "    \n",
    "    index_list.append(idx)\n",
    "\n",
    "    x_real =  2.39  #테스트 진행시 지정한 좌표의 x값\n",
    "    y_real =  -0.92  #테스트 진행시 지정한 좌표의 y값\n",
    "    \n",
    "    #T-test 진행\n",
    "    T_test_x = stats.ttest_1samp(df['x_hat'] , x_real)  #귀무 : x_hat의 좌표 평균이 x_real이다\n",
    "    T_test_y = stats.ttest_1samp(df['y_hat'] , y_real)  #귀무 : y_hat의 좌표 평균이 y_real이다 \n",
    "    \n",
    "    #결과 출력\n",
    "    print(\"실험을 통해 추출한 x좌표들의 T-statistic은 %.3f 이며 p-value는 %.3f\" % T_test_x)\n",
    "    print(\"실험을 통해 추출한 y좌표들의 T-statistic은 %.3f 이며 p-value는 %.3f\" % T_test_y)\n",
    "    \n",
    "    #T-test 결과 기록\n",
    "    if(T_test_x[1] < 0.05):\n",
    "        p_value_x_list.append('실험 데이터 x값 이상')\n",
    "    else\n",
    "        p_value_x_list.append('실험 데이터 x값 정상')\n",
    "        \n",
    "        \n",
    "    if(T_test_y[1] < 0.05):\n",
    "        p_value_y_list.append('실험 데이터 y값 이상')\n",
    "    else\n",
    "        p_value_y_list.append('실험 데이터 x값 정상')\n",
    "        \n",
    "        \n",
    "    \n",
    "    #rmse   \n",
    "    x_mse = mean_squared_error(df['x_hat'] , x_real)\n",
    "    rmse_x_list,append(np.sqrt(x_mse))\n",
    "       \n",
    "    y_mse = mean_squared_error(df['y_hat'] , y_real)\n",
    "    rmse_y_list,append(np.sqrt(y_mse))\n",
    "    \n",
    "    \n",
    "    \n",
    "    \n",
    "    \n",
    "    \n",
    "    \n",
    "df_final = pd.Dataframe(data = {'X_p-value':p-value_x_list , 'Y_p-value' : p-value_y_list , 'X_RMSE':rmse_x ,'Y_RMSE':rmse_y},\n",
    "                        index = index_list)\n"
   ]
  },
  {
   "cell_type": "markdown",
   "metadata": {},
   "source": [
    "## Result"
   ]
  },
  {
   "cell_type": "code",
   "execution_count": null,
   "metadata": {},
   "outputs": [],
   "source": [
    "df_final"
   ]
  }
 ],
 "metadata": {
  "interpreter": {
   "hash": "ba5c859c2c10911e2eb31a81dcb24986c7e4545fd19abcb2ae410189b3f972aa"
  },
  "kernelspec": {
   "display_name": "Python 3",
   "language": "python",
   "name": "python3"
  },
  "language_info": {
   "codemirror_mode": {
    "name": "ipython",
    "version": 3
   },
   "file_extension": ".py",
   "mimetype": "text/x-python",
   "name": "python",
   "nbconvert_exporter": "python",
   "pygments_lexer": "ipython3",
   "version": "3.8.8"
  }
 },
 "nbformat": 4,
 "nbformat_minor": 2
}
