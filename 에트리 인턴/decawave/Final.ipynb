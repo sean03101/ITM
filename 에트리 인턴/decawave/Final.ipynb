{
 "cells": [
  {
   "cell_type": "markdown",
   "metadata": {},
   "source": [
    "## Default Settings"
   ]
  },
  {
   "cell_type": "code",
   "execution_count": 1,
   "metadata": {},
   "outputs": [],
   "source": [
    "import os.path as osp\n",
    "import os\n",
    "import numpy as np\n",
    "import pandas as pd\n",
    "from scipy import stats\n",
    "from sklearn.metrics import mean_squared_error\n",
    "\n",
    "path_dir ='./RawData'\n",
    "file_list = os.listdir(path_dir)"
   ]
  },
  {
   "cell_type": "markdown",
   "metadata": {},
   "source": [
    "## Variable Settings"
   ]
  },
  {
   "cell_type": "code",
   "execution_count": 2,
   "metadata": {},
   "outputs": [],
   "source": [
    "x_real =  0  #테스트 진행시 지정한 좌표의 x값\n",
    "y_real =  0  #테스트 진행시 지정한 좌표의 y값\n",
    "\n",
    "p_value_x_list = []  # 각 방법의 T_test_x의 p-value 리스트\n",
    "p_value_y_list = []  # 각 방법의 T_test_y의 p-value 리스트\n",
    "\n",
    "rmse_x_list = []     #각 방법의 x의 rmse 값\n",
    "rmse_y_list = []\n",
    "\n",
    "index_list = []"
   ]
  },
  {
   "cell_type": "markdown",
   "metadata": {},
   "source": [
    "## T-test & RMSE"
   ]
  },
  {
   "cell_type": "code",
   "execution_count": 3,
   "metadata": {},
   "outputs": [
    {
     "name": "stdout",
     "output_type": "stream",
     "text": [
      "Averaging and ClosestToCentroid\n",
      "실험을 통해 추출한 x좌표들의 T-statistic은 1.394 이며 p-value는 0.164\n",
      "실험을 통해 추출한 y좌표들의 T-statistic은 6.454 이며 p-value는 0.000\n",
      "basic\n",
      "실험을 통해 추출한 x좌표들의 T-statistic은 -7.684 이며 p-value는 0.000\n",
      "실험을 통해 추출한 y좌표들의 T-statistic은 11.496 이며 p-value는 0.000\n",
      "clustering and ClosestToCentroid\n",
      "실험을 통해 추출한 x좌표들의 T-statistic은 4.220 이며 p-value는 0.000\n",
      "실험을 통해 추출한 y좌표들의 T-statistic은 12.550 이며 p-value는 0.000\n",
      "simple average\n",
      "실험을 통해 추출한 x좌표들의 T-statistic은 2.022 이며 p-value는 0.044\n",
      "실험을 통해 추출한 y좌표들의 T-statistic은 6.275 이며 p-value는 0.000\n"
     ]
    }
   ],
   "source": [
    "for idx, f_name in enumerate(file_list):\n",
    "    data = pd.read_csv(osp.join(path_dir, f_name) , header=None)\n",
    "    df = pd.DataFrame(data)\n",
    "    df.columns = ['Time' , 'Date' , 'TagId' , 'x_hat' ,'y_hat']   \n",
    "    #df = pd.DataFrame(data, columns = ['Date' , 'Time' , 'TagId' , 'x_hat' ,'y_hat'])\n",
    "    df = df[:-1]\n",
    "    df = df.astype({'x_hat': 'float'})\n",
    "    df = df.astype({'y_hat': 'float'})\n",
    "        \n",
    "    \n",
    "    index_list.append(f_name.split(sep='.')[0])\n",
    "\n",
    "\n",
    "    x_real =  2.4  #테스트 진행시 지정한 좌표의 x값\n",
    "    y_real =  -0.9  #테스트 진행시 지정한 좌표의 y값\n",
    "    \n",
    "    #T-test 진행\n",
    "    T_test_x = stats.ttest_1samp(df['x_hat'] , x_real)  #귀무 : x_hat의 좌표 평균이 x_real이다\n",
    "    T_test_y = stats.ttest_1samp(df['y_hat'] , y_real)  #귀무 : y_hat의 좌표 평균이 y_real이다 \n",
    "    \n",
    "    #결과 출력\n",
    "    print(f_name.split(sep='.')[0])\n",
    "    print(\"실험을 통해 추출한 x좌표들의 T-statistic은 %.3f 이며 p-value는 %.3f\" % T_test_x)\n",
    "    print(\"실험을 통해 추출한 y좌표들의 T-statistic은 %.3f 이며 p-value는 %.3f\" % T_test_y)\n",
    "    \n",
    "    \n",
    "    #T-test 결과 기록\n",
    "    if(T_test_x[1] < 0.01):\n",
    "        p_value_x_list.append('실험 데이터 x값 이상')\n",
    "    else:\n",
    "        p_value_x_list.append('실험 데이터 x값 정상')\n",
    "        \n",
    "        \n",
    "    if(T_test_y[1] < 0.01):\n",
    "        p_value_y_list.append('실험 데이터 y값 이상')\n",
    "    else:\n",
    "        p_value_y_list.append('실험 데이터 x값 정상')\n",
    "        \n",
    "        \n",
    "    \n",
    "    #rmse   \n",
    "    x_rmse = mean_squared_error(df['x_hat'] , [x_real]*len(df) , squared = False)\n",
    "    rmse_x_list.append(x_rmse)\n",
    "       \n",
    "    y_rmse = mean_squared_error(df['y_hat'] , [y_real]*len(df) , squared = False)\n",
    "    rmse_y_list.append(y_rmse)\n",
    "    \n",
    "    \n",
    "    \n",
    "    \n",
    "    \n",
    "    \n",
    "    \n",
    "    \n",
    "    \n",
    "df_final = pd.DataFrame(data = {'X_p-value':p_value_x_list , 'Y_p-value' : p_value_y_list , 'X_RMSE':rmse_x_list ,'Y_RMSE':rmse_y_list},\n",
    "                        index = index_list)\n"
   ]
  },
  {
   "cell_type": "code",
   "execution_count": 4,
   "metadata": {},
   "outputs": [
    {
     "name": "stdout",
     "output_type": "stream",
     "text": [
      "\n"
     ]
    }
   ],
   "source": [
    "abc = 'x: 2.220947822095404e+00'\n",
    "cba = '2.220947822095404e+00'\n",
    "print()"
   ]
  },
  {
   "cell_type": "markdown",
   "metadata": {},
   "source": [
    "## Result"
   ]
  },
  {
   "cell_type": "code",
   "execution_count": 5,
   "metadata": {},
   "outputs": [
    {
     "data": {
      "text/html": [
       "<div>\n",
       "<style scoped>\n",
       "    .dataframe tbody tr th:only-of-type {\n",
       "        vertical-align: middle;\n",
       "    }\n",
       "\n",
       "    .dataframe tbody tr th {\n",
       "        vertical-align: top;\n",
       "    }\n",
       "\n",
       "    .dataframe thead th {\n",
       "        text-align: right;\n",
       "    }\n",
       "</style>\n",
       "<table border=\"1\" class=\"dataframe\">\n",
       "  <thead>\n",
       "    <tr style=\"text-align: right;\">\n",
       "      <th></th>\n",
       "      <th>X_p-value</th>\n",
       "      <th>Y_p-value</th>\n",
       "      <th>X_RMSE</th>\n",
       "      <th>Y_RMSE</th>\n",
       "    </tr>\n",
       "  </thead>\n",
       "  <tbody>\n",
       "    <tr>\n",
       "      <th>Averaging and ClosestToCentroid</th>\n",
       "      <td>실험 데이터 x값 정상</td>\n",
       "      <td>실험 데이터 y값 이상</td>\n",
       "      <td>4.331336</td>\n",
       "      <td>3.739025</td>\n",
       "    </tr>\n",
       "    <tr>\n",
       "      <th>basic</th>\n",
       "      <td>실험 데이터 x값 이상</td>\n",
       "      <td>실험 데이터 y값 이상</td>\n",
       "      <td>0.310986</td>\n",
       "      <td>0.732887</td>\n",
       "    </tr>\n",
       "    <tr>\n",
       "      <th>clustering and ClosestToCentroid</th>\n",
       "      <td>실험 데이터 x값 이상</td>\n",
       "      <td>실험 데이터 y값 이상</td>\n",
       "      <td>1.982377</td>\n",
       "      <td>2.269433</td>\n",
       "    </tr>\n",
       "    <tr>\n",
       "      <th>simple average</th>\n",
       "      <td>실험 데이터 x값 정상</td>\n",
       "      <td>실험 데이터 y값 이상</td>\n",
       "      <td>2.498973</td>\n",
       "      <td>2.490517</td>\n",
       "    </tr>\n",
       "  </tbody>\n",
       "</table>\n",
       "</div>"
      ],
      "text/plain": [
       "                                     X_p-value     Y_p-value    X_RMSE  \\\n",
       "Averaging and ClosestToCentroid   실험 데이터 x값 정상  실험 데이터 y값 이상  4.331336   \n",
       "basic                             실험 데이터 x값 이상  실험 데이터 y값 이상  0.310986   \n",
       "clustering and ClosestToCentroid  실험 데이터 x값 이상  실험 데이터 y값 이상  1.982377   \n",
       "simple average                    실험 데이터 x값 정상  실험 데이터 y값 이상  2.498973   \n",
       "\n",
       "                                    Y_RMSE  \n",
       "Averaging and ClosestToCentroid   3.739025  \n",
       "basic                             0.732887  \n",
       "clustering and ClosestToCentroid  2.269433  \n",
       "simple average                    2.490517  "
      ]
     },
     "execution_count": 5,
     "metadata": {},
     "output_type": "execute_result"
    }
   ],
   "source": [
    "df_final"
   ]
  }
 ],
 "metadata": {
  "interpreter": {
   "hash": "ba5c859c2c10911e2eb31a81dcb24986c7e4545fd19abcb2ae410189b3f972aa"
  },
  "kernelspec": {
   "display_name": "Python 3",
   "language": "python",
   "name": "python3"
  },
  "language_info": {
   "codemirror_mode": {
    "name": "ipython",
    "version": 3
   },
   "file_extension": ".py",
   "mimetype": "text/x-python",
   "name": "python",
   "nbconvert_exporter": "python",
   "pygments_lexer": "ipython3",
   "version": "3.8.8"
  }
 },
 "nbformat": 4,
 "nbformat_minor": 2
}
