{
 "cells": [
  {
   "cell_type": "code",
   "execution_count": 1,
   "metadata": {},
   "outputs": [],
   "source": [
    "import pandas as pd\n",
    "import numpy as np\n",
    "\n",
    "\n",
    "data1=pd.read_csv('rank_count_1.csv')\n",
    "df1 = pd.DataFrame(data1)\n",
    "\n",
    "data3=pd.read_csv('rank_count_3.csv')\n",
    "df3 = pd.DataFrame(data3)\n",
    "\n",
    "data5=pd.read_csv('rank_count_5.csv')\n",
    "df5 = pd.DataFrame(data5)"
   ]
  },
  {
   "cell_type": "code",
   "execution_count": 2,
   "metadata": {},
   "outputs": [
    {
     "data": {
      "text/plain": [
       "0     0.025000\n",
       "1     0.033333\n",
       "2     0.020833\n",
       "3     0.025000\n",
       "4     0.025000\n",
       "5     0.020833\n",
       "6     0.025000\n",
       "7     0.016667\n",
       "8     0.016667\n",
       "9     0.025000\n",
       "10    0.008333\n",
       "11    0.008333\n",
       "12    0.008333\n",
       "13    0.008333\n",
       "14    0.008333\n",
       "15    0.008333\n",
       "16    0.008333\n",
       "17    0.033333\n",
       "18    0.029167\n",
       "19    0.012500\n",
       "20    0.020833\n",
       "21    0.020833\n",
       "22    0.033333\n",
       "23    0.020833\n",
       "24    0.070833\n",
       "25    0.054167\n",
       "26    0.037500\n",
       "27    0.029167\n",
       "28    0.020833\n",
       "29    0.070833\n",
       "30    0.025000\n",
       "31    0.016667\n",
       "32    0.041667\n",
       "33    0.029167\n",
       "34    0.041667\n",
       "35    0.020833\n",
       "36    0.016667\n",
       "37    0.012500\n",
       "38    0.020833\n",
       "39    0.029167\n",
       "Name: count_per, dtype: float64"
      ]
     },
     "execution_count": 2,
     "metadata": {},
     "output_type": "execute_result"
    }
   ],
   "source": [
    "df1\n",
    "\n",
    "df1['from'] = 'score 1'\n",
    "\n",
    "temp = df1['count'].sum()\n",
    "\n",
    "df1['count_per'] = df1['count'] / temp\n",
    "\n",
    "df1['count_per']"
   ]
  },
  {
   "cell_type": "code",
   "execution_count": 3,
   "metadata": {},
   "outputs": [
    {
     "data": {
      "text/plain": [
       "0     0.076487\n",
       "1     0.028329\n",
       "2     0.042493\n",
       "3     0.036827\n",
       "4     0.053824\n",
       "5     0.048159\n",
       "6     0.028329\n",
       "7     0.048159\n",
       "8     0.036827\n",
       "9     0.014164\n",
       "10    0.022663\n",
       "11    0.011331\n",
       "12    0.016997\n",
       "13    0.036827\n",
       "14    0.045326\n",
       "15    0.062323\n",
       "16    0.042493\n",
       "17    0.025496\n",
       "18    0.022663\n",
       "19    0.014164\n",
       "20    0.011331\n",
       "21    0.033994\n",
       "22    0.011331\n",
       "23    0.031161\n",
       "24    0.014164\n",
       "25    0.011331\n",
       "26    0.011331\n",
       "27    0.025496\n",
       "28    0.005666\n",
       "29    0.005666\n",
       "30    0.011331\n",
       "31    0.005666\n",
       "32    0.008499\n",
       "33    0.011331\n",
       "34    0.016997\n",
       "35    0.022663\n",
       "36    0.008499\n",
       "37    0.011331\n",
       "38    0.008499\n",
       "39    0.019830\n",
       "Name: count_per, dtype: float64"
      ]
     },
     "execution_count": 3,
     "metadata": {},
     "output_type": "execute_result"
    }
   ],
   "source": [
    "\n",
    "\n",
    "df3['from'] = 'score 3'\n",
    "\n",
    "df3\n",
    "\n",
    "temp = df3['count'].sum()\n",
    "\n",
    "df3['count_per'] = df3['count'] / temp\n",
    "\n",
    "df3['count_per']"
   ]
  },
  {
   "cell_type": "code",
   "execution_count": 4,
   "metadata": {},
   "outputs": [
    {
     "data": {
      "text/plain": [
       "1.0"
      ]
     },
     "execution_count": 4,
     "metadata": {},
     "output_type": "execute_result"
    }
   ],
   "source": [
    "\n",
    "\n",
    "df5['from'] = 'score 5'\n",
    "\n",
    "temp = df5['count'].sum()\n",
    "\n",
    "df5['count_per'] = df5['count'] / temp\n",
    "\n",
    "df5['count_per'].sum()"
   ]
  },
  {
   "cell_type": "code",
   "execution_count": 5,
   "metadata": {},
   "outputs": [
    {
     "data": {
      "text/plain": [
       "score 5    40\n",
       "score 3    40\n",
       "score 1    40\n",
       "Name: from, dtype: int64"
      ]
     },
     "execution_count": 5,
     "metadata": {},
     "output_type": "execute_result"
    }
   ],
   "source": [
    "df = pd.concat([df1,df3,df5], ignore_index=True)\n",
    "\n",
    "df['from'].value_counts()"
   ]
  },
  {
   "cell_type": "code",
   "execution_count": 6,
   "metadata": {},
   "outputs": [],
   "source": [
    "df.to_csv('rank_count_merge.csv')"
   ]
  },
  {
   "cell_type": "code",
   "execution_count": 8,
   "metadata": {},
   "outputs": [
    {
     "data": {
      "text/plain": [
       "array(['소스', '아쉽다', '주문', '이렇다', '알다', '넣다', '기억', '껍질', '예약', '까지',\n",
       "       '이라고는', '아내', '어울리다', '지금', '되어다', '방법', '다양하다', '이집', '많다', '퍽퍽',\n",
       "       '게다가', '평범하다', '인데', '리뷰', '없다', '정말', '괜찮다', '레스토랑', '와인', '같다',\n",
       "       '들다', '만의', '주다', '자다', '가다', '스타일', '분위기', '때문', '가족', '저녁',\n",
       "       '나오다', '살짝', '생각', '방문', '메뉴', '사실', '모르다', '파스타', '요리', '음식',\n",
       "       '트러플', '좋아하다', '아뮤즈', '디저트', '크다', '익히다', '따다', '조금', '만들다', '감흥',\n",
       "       '버섯', '당연하다', '작다', '감다', '올리다', '식감', '유명하다', '차다', '랍스터', '역시',\n",
       "       '싶다', '느낌', '재료', '정도', '느끼다', '버터', '하나', '새우', '아주', '오다',\n",
       "       '부드럽다', '고구마', '가격', '시키다', '추천', '식당', '들어가다', '샐러드'],\n",
       "      dtype=object)"
      ]
     },
     "execution_count": 8,
     "metadata": {},
     "output_type": "execute_result"
    }
   ],
   "source": [
    "df['Unnamed: 0'].unique()"
   ]
  },
  {
   "cell_type": "code",
   "execution_count": 9,
   "metadata": {},
   "outputs": [
    {
     "data": {
      "text/plain": [
       "(120, 5)"
      ]
     },
     "execution_count": 9,
     "metadata": {},
     "output_type": "execute_result"
    }
   ],
   "source": [
    "df.shape"
   ]
  },
  {
   "cell_type": "code",
   "execution_count": 10,
   "metadata": {},
   "outputs": [
    {
     "data": {
      "text/plain": [
       "count    120.000000\n",
       "mean      38.075000\n",
       "std       50.498217\n",
       "min        2.000000\n",
       "25%        5.000000\n",
       "50%        9.500000\n",
       "75%       59.750000\n",
       "max      198.000000\n",
       "Name: count, dtype: float64"
      ]
     },
     "execution_count": 10,
     "metadata": {},
     "output_type": "execute_result"
    }
   ],
   "source": [
    "df['count'].describe()"
   ]
  }
 ],
 "metadata": {
  "kernelspec": {
   "display_name": "Python 3",
   "language": "python",
   "name": "python3"
  },
  "language_info": {
   "codemirror_mode": {
    "name": "ipython",
    "version": 3
   },
   "file_extension": ".py",
   "mimetype": "text/x-python",
   "name": "python",
   "nbconvert_exporter": "python",
   "pygments_lexer": "ipython3",
   "version": "3.7.6"
  }
 },
 "nbformat": 4,
 "nbformat_minor": 4
}
