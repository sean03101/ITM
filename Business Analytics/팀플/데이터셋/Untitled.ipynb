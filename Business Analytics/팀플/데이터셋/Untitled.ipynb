{
 "cells": [
  {
   "cell_type": "code",
   "execution_count": 1,
   "metadata": {},
   "outputs": [],
   "source": [
    "import pandas as pd\n",
    "import numpy as np\n",
    "\n",
    "\n",
    "data1=pd.read_csv('rank_count_1.csv')\n",
    "df1 = pd.DataFrame(data1)\n",
    "\n",
    "data3=pd.read_csv('rank_count_3.csv')\n",
    "df3 = pd.DataFrame(data3)\n",
    "\n",
    "data5=pd.read_csv('rank_count_5.csv')\n",
    "df5 = pd.DataFrame(data5)"
   ]
  },
  {
   "cell_type": "code",
   "execution_count": 2,
   "metadata": {},
   "outputs": [
    {
     "data": {
      "text/plain": [
       "0     0.080087\n",
       "1     0.188312\n",
       "2     0.038961\n",
       "3     0.054113\n",
       "4     0.012987\n",
       "5     0.038961\n",
       "6     0.058442\n",
       "7     0.041126\n",
       "8     0.030303\n",
       "9     0.047619\n",
       "10    0.017316\n",
       "11    0.012987\n",
       "12    0.012987\n",
       "13    0.010823\n",
       "14    0.019481\n",
       "15    0.010823\n",
       "16    0.012987\n",
       "17    0.008658\n",
       "18    0.008658\n",
       "19    0.004329\n",
       "20    0.004329\n",
       "21    0.004329\n",
       "22    0.004329\n",
       "23    0.004329\n",
       "24    0.004329\n",
       "25    0.017316\n",
       "26    0.015152\n",
       "27    0.006494\n",
       "28    0.010823\n",
       "29    0.010823\n",
       "30    0.010823\n",
       "31    0.036797\n",
       "32    0.028139\n",
       "33    0.019481\n",
       "34    0.015152\n",
       "35    0.010823\n",
       "36    0.012987\n",
       "37    0.036797\n",
       "38    0.015152\n",
       "39    0.021645\n",
       "Name: count_per, dtype: float64"
      ]
     },
     "execution_count": 2,
     "metadata": {},
     "output_type": "execute_result"
    }
   ],
   "source": [
    "df1\n",
    "\n",
    "df1['from'] = 'score 1'\n",
    "\n",
    "temp = df1['count'].sum()\n",
    "\n",
    "df1['count_per'] = df1['count'] / temp\n",
    "\n",
    "df1['count_per']"
   ]
  },
  {
   "cell_type": "code",
   "execution_count": 3,
   "metadata": {},
   "outputs": [
    {
     "data": {
      "text/plain": [
       "0     0.074313\n",
       "1     0.145396\n",
       "2     0.084006\n",
       "3     0.043619\n",
       "4     0.063005\n",
       "5     0.024233\n",
       "6     0.016155\n",
       "7     0.016155\n",
       "8     0.030695\n",
       "9     0.027464\n",
       "10    0.021002\n",
       "11    0.029079\n",
       "12    0.021002\n",
       "13    0.008078\n",
       "14    0.027464\n",
       "15    0.012924\n",
       "16    0.006462\n",
       "17    0.009693\n",
       "18    0.021002\n",
       "19    0.032310\n",
       "20    0.037157\n",
       "21    0.025848\n",
       "22    0.024233\n",
       "23    0.006462\n",
       "24    0.014540\n",
       "25    0.035541\n",
       "26    0.012924\n",
       "27    0.006462\n",
       "28    0.019386\n",
       "29    0.017771\n",
       "30    0.008078\n",
       "31    0.006462\n",
       "32    0.030695\n",
       "33    0.006462\n",
       "34    0.003231\n",
       "35    0.003231\n",
       "36    0.006462\n",
       "37    0.003231\n",
       "38    0.012924\n",
       "39    0.004847\n",
       "Name: count_per, dtype: float64"
      ]
     },
     "execution_count": 3,
     "metadata": {},
     "output_type": "execute_result"
    }
   ],
   "source": [
    "\n",
    "\n",
    "df3['from'] = 'score 3'\n",
    "\n",
    "df3\n",
    "\n",
    "temp = df3['count'].sum()\n",
    "\n",
    "df3['count_per'] = df3['count'] / temp\n",
    "\n",
    "df3['count_per']"
   ]
  },
  {
   "cell_type": "code",
   "execution_count": 4,
   "metadata": {},
   "outputs": [
    {
     "data": {
      "text/plain": [
       "1.0"
      ]
     },
     "execution_count": 4,
     "metadata": {},
     "output_type": "execute_result"
    }
   ],
   "source": [
    "\n",
    "\n",
    "df5['from'] = 'score 5'\n",
    "\n",
    "temp = df5['count'].sum()\n",
    "\n",
    "df5['count_per'] = df5['count'] / temp\n",
    "\n",
    "df5['count_per'].sum()"
   ]
  },
  {
   "cell_type": "code",
   "execution_count": 5,
   "metadata": {},
   "outputs": [
    {
     "data": {
      "text/plain": [
       "score 3    40\n",
       "score 5    40\n",
       "score 1    40\n",
       "Name: from, dtype: int64"
      ]
     },
     "execution_count": 5,
     "metadata": {},
     "output_type": "execute_result"
    }
   ],
   "source": [
    "df = pd.concat([df1,df3,df5], ignore_index=True)\n",
    "\n",
    "df['from'].value_counts()"
   ]
  },
  {
   "cell_type": "code",
   "execution_count": 6,
   "metadata": {},
   "outputs": [],
   "source": [
    "df.to_csv('rank_count_merge.csv')"
   ]
  },
  {
   "cell_type": "code",
   "execution_count": 7,
   "metadata": {},
   "outputs": [
    {
     "data": {
      "text/plain": [
       "array(['먹다', '하다', '있다', '않다', '소스', '아니다', '이다', '보다', '되다', '맛있다',\n",
       "       '아쉽다', '이렇다', '알다', '주문', '좋다', '넣다', '기억', '껍질', '예약', '되어다',\n",
       "       '지금', '아내', '어울리다', '방법', '다양하다', '이집', '많다', '퍽퍽', '게다가', '평범하다',\n",
       "       '리뷰', '없다', '정말', '괜찮다', '레스토랑', '와인', '들다', '같다', '자다', '주다',\n",
       "       '나오다', '살짝', '메뉴', '방문', '생각', '사실', '모르다', '파스타', '음식', '아뮤즈',\n",
       "       '트러플', '요리', '좋아하다', '디저트', '크다', '익히다', '따다', '만들다', '당연하다', '버섯',\n",
       "       '감흥', '식감', '작다', '싶다', '느낌', '재료', '정도', '느끼다', '버터', '가다', '하나',\n",
       "       '새우', '차다', '아주', '오다'], dtype=object)"
      ]
     },
     "execution_count": 7,
     "metadata": {},
     "output_type": "execute_result"
    }
   ],
   "source": [
    "df['Unnamed: 0'].unique()"
   ]
  },
  {
   "cell_type": "code",
   "execution_count": 9,
   "metadata": {},
   "outputs": [
    {
     "data": {
      "text/plain": [
       "(120, 5)"
      ]
     },
     "execution_count": 9,
     "metadata": {},
     "output_type": "execute_result"
    }
   ],
   "source": [
    "df.shape"
   ]
  },
  {
   "cell_type": "code",
   "execution_count": 11,
   "metadata": {},
   "outputs": [
    {
     "data": {
      "text/plain": [
       "count     120.000000\n",
       "mean       69.950000\n",
       "std       137.158796\n",
       "min         2.000000\n",
       "25%         6.000000\n",
       "50%        17.000000\n",
       "75%        85.500000\n",
       "max      1003.000000\n",
       "Name: count, dtype: float64"
      ]
     },
     "execution_count": 11,
     "metadata": {},
     "output_type": "execute_result"
    }
   ],
   "source": [
    "df['count'].describe()"
   ]
  }
 ],
 "metadata": {
  "kernelspec": {
   "display_name": "Python 3",
   "language": "python",
   "name": "python3"
  },
  "language_info": {
   "codemirror_mode": {
    "name": "ipython",
    "version": 3
   },
   "file_extension": ".py",
   "mimetype": "text/x-python",
   "name": "python",
   "nbconvert_exporter": "python",
   "pygments_lexer": "ipython3",
   "version": "3.7.6"
  }
 },
 "nbformat": 4,
 "nbformat_minor": 4
}
