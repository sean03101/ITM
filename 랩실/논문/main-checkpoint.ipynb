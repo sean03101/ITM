{
 "cells": [
  {
   "cell_type": "code",
   "execution_count": 1,
   "metadata": {},
   "outputs": [],
   "source": [
    "import pandas as pd\n",
    "import numpy as np\n",
    "import matplotlib.pyplot as plt\n",
    "from utils import *"
   ]
  },
  {
   "cell_type": "code",
   "execution_count": 2,
   "metadata": {},
   "outputs": [],
   "source": [
    "df = pd.read_csv('PatientInfo.csv')"
   ]
  },
  {
   "cell_type": "code",
   "execution_count": 6,
   "metadata": {},
   "outputs": [
    {
     "name": "stdout",
     "output_type": "stream",
     "text": [
      "<class 'pandas.core.frame.DataFrame'>\n",
      "Int64Index: 5164 entries, 0 to 5164\n",
      "Data columns (total 14 columns):\n",
      " #   Column              Non-Null Count  Dtype         \n",
      "---  ------              --------------  -----         \n",
      " 0   patient_id          5164 non-null   object        \n",
      " 1   sex                 4042 non-null   object        \n",
      " 2   age                 3784 non-null   object        \n",
      " 3   country             5164 non-null   object        \n",
      " 4   province            5164 non-null   object        \n",
      " 5   city                5069 non-null   object        \n",
      " 6   infection_case      4243 non-null   object        \n",
      " 7   infected_by         1325 non-null   object        \n",
      " 8   contact_number      791 non-null    object        \n",
      " 9   symptom_onset_date  689 non-null    datetime64[ns]\n",
      " 10  confirmed_date      5161 non-null   datetime64[ns]\n",
      " 11  released_date       1587 non-null   datetime64[ns]\n",
      " 12  deceased_date       66 non-null     datetime64[ns]\n",
      " 13  state               5164 non-null   object        \n",
      "dtypes: datetime64[ns](4), object(10)\n",
      "memory usage: 605.2+ KB\n",
      "None\n"
     ]
    }
   ],
   "source": [
    "df = read_processed_covid()"
   ]
  },
  {
   "cell_type": "code",
   "execution_count": 7,
   "metadata": {},
   "outputs": [],
   "source": [
    "import json"
   ]
  },
  {
   "cell_type": "code",
   "execution_count": 11,
   "metadata": {},
   "outputs": [],
   "source": [
    "with open(\"./routes_t1.json\", \"r\") as f:\n",
    "    routes = json.load(f)"
   ]
  },
  {
   "cell_type": "code",
   "execution_count": 13,
   "metadata": {},
   "outputs": [],
   "source": [
    "first = list(routes.keys())"
   ]
  },
  {
   "cell_type": "code",
   "execution_count": 14,
   "metadata": {},
   "outputs": [
    {
     "data": {
      "text/plain": [
       "378"
      ]
     },
     "execution_count": 14,
     "metadata": {},
     "output_type": "execute_result"
    }
   ],
   "source": [
    "len(first)"
   ]
  },
  {
   "cell_type": "code",
   "execution_count": 15,
   "metadata": {},
   "outputs": [
    {
     "data": {
      "text/plain": [
       "etc                                              127\n",
       "contact with patient                              55\n",
       "overseas inflow                                   55\n",
       "Coupang Logistics Center                          22\n",
       "Itaewon Clubs                                     15\n",
       "Shincheonji Church                                13\n",
       "Richway                                            9\n",
       "Onchun Church                                      8\n",
       "Guro-gu Call Center                                5\n",
       "Dongan Church                                      5\n",
       "Yangcheon Table Tennis Club                        4\n",
       "Dunsan Electronics Town                            4\n",
       "Eunpyeong St. Mary's Hospital                      4\n",
       "Geochang Church                                    3\n",
       "Ministry of Oceans and Fisheries                   3\n",
       "SMR Newly Planted Churches Group                   3\n",
       "Zumba Dance                                        2\n",
       "gym facility in Cheonan                            2\n",
       "Orange Town                                        2\n",
       "Daezayeon Korea                                    2\n",
       "Korea Campus Crusade of Christ                     1\n",
       "Seocho Family                                      1\n",
       "Pilgrimage to Israel                               1\n",
       "Geumcheon-gu rice milling machine manufacture      1\n",
       "Changnyeong Coin Karaoke                           1\n",
       "Samsung Medical Center                             1\n",
       "Day Care Center                                    1\n",
       "Seongdong-gu APT                                   1\n",
       "Seoul City Hall Station safety worker              1\n",
       "Samsung Fire & Marine Insurance                    1\n",
       "KB Life Insurance                                  1\n",
       "Name: infection_case, dtype: int64"
      ]
     },
     "execution_count": 15,
     "metadata": {},
     "output_type": "execute_result"
    }
   ],
   "source": [
    "df[df.patient_id.isin(first)].infection_case.value_counts()"
   ]
  },
  {
   "cell_type": "code",
   "execution_count": 39,
   "metadata": {},
   "outputs": [
    {
     "data": {
      "text/plain": [
       "female    160\n",
       "male      156\n",
       "Name: sex, dtype: int64"
      ]
     },
     "execution_count": 39,
     "metadata": {},
     "output_type": "execute_result"
    }
   ],
   "source": [
    "df[df.patient_id.isin(first)].sex.value_counts()"
   ]
  },
  {
   "cell_type": "code",
   "execution_count": 40,
   "metadata": {},
   "outputs": [
    {
     "data": {
      "text/plain": [
       "20s    58\n",
       "50s    54\n",
       "60s    49\n",
       "30s    41\n",
       "40s    40\n",
       "70s    18\n",
       "10s    13\n",
       "80s     7\n",
       "0s      1\n",
       "90s     1\n",
       "Name: age, dtype: int64"
      ]
     },
     "execution_count": 40,
     "metadata": {},
     "output_type": "execute_result"
    }
   ],
   "source": [
    "df[df.patient_id.isin(first)].age.value_counts()"
   ]
  },
  {
   "cell_type": "code",
   "execution_count": 272,
   "metadata": {},
   "outputs": [],
   "source": [
    "def change_province(df, route, root, main):\n",
    "    if route[root] == \"NaN\":\n",
    "        return\n",
    "    root_prov = df[df.patient_id == root].province.values[0]\n",
    "    for k in route[root].keys():\n",
    "        k_prov = df[df.patient_id == k].province.values[0]\n",
    "        # print(f\"{root}\\t {root_prov}\\t {k}\\t {k_prov}\")\n",
    "        if root_prov != k_prov:\n",
    "            if k_prov != 'NaN':\n",
    "                origin.append(main)\n",
    "                path.append(((root, root_prov),(k, k_prov)))\n",
    "        change_province(df, route[root], k, main)"
   ]
  },
  {
   "cell_type": "code",
   "execution_count": 273,
   "metadata": {},
   "outputs": [],
   "source": [
    "for i, r in enumerate(first):\n",
    "    change_province(df, routes, r, r)"
   ]
  },
  {
   "cell_type": "code",
   "execution_count": 274,
   "metadata": {},
   "outputs": [
    {
     "data": {
      "text/plain": [
       "[(('1000000014', '서울'), ('2000000019', '경기도')),\n",
       " (('1000000023', '서울'), ('2000000048', '경기도')),\n",
       " (('1000000023', '서울'), ('2000000105', '경기도')),\n",
       " (('1000000023', '서울'), ('2000000137', '경기도')),\n",
       " (('1000000125', '서울'), ('2000000157', '경기도')),\n",
       " (('1000000125', '서울'), ('2000000158', '경기도')),\n",
       " (('1000000125', '서울'), ('2000000159', '경기도')),\n",
       " (('1000000125', '서울'), ('2000000160', '경기도')),\n",
       " (('1000000125', '서울'), ('2000000163', '경기도')),\n",
       " (('1000000125', '서울'), ('2000000164', '경기도'))]"
      ]
     },
     "execution_count": 274,
     "metadata": {},
     "output_type": "execute_result"
    }
   ],
   "source": [
    "path[:10]"
   ]
  },
  {
   "cell_type": "code",
   "execution_count": 280,
   "metadata": {},
   "outputs": [
    {
     "name": "stdout",
     "output_type": "stream",
     "text": [
      "184\n"
     ]
    }
   ],
   "source": [
    "print(len(path))"
   ]
  },
  {
   "cell_type": "code",
   "execution_count": 275,
   "metadata": {},
   "outputs": [],
   "source": [
    "trans = pd.DataFrame(columns=['ori_pid', 'ori_loc', 'dest_pid', 'dest_loc'])"
   ]
  },
  {
   "cell_type": "code",
   "execution_count": 276,
   "metadata": {},
   "outputs": [],
   "source": [
    "for idx in range(len(path)):\n",
    "    trans.loc[idx] = [path[idx][0][0], path[idx][0][1], path[idx][1][0], path[idx][1][1]]"
   ]
  },
  {
   "cell_type": "code",
   "execution_count": 279,
   "metadata": {},
   "outputs": [
    {
     "name": "stdout",
     "output_type": "stream",
     "text": [
      "(184, 4)\n"
     ]
    }
   ],
   "source": [
    "print(trans.shape)"
   ]
  },
  {
   "cell_type": "code",
   "execution_count": 277,
   "metadata": {},
   "outputs": [
    {
     "name": "stdout",
     "output_type": "stream",
     "text": [
      "Ori: 서울\t Dest: 경기도\t #: 110\n",
      "Ori: 서울\t Dest: 충청남도\t #: 1\n",
      "----------------------------------------\n",
      "Ori: 경기도\t Dest: 충청남도\t #: 2\n",
      "Ori: 경기도\t Dest: 서울\t #: 1\n",
      "----------------------------------------\n",
      "Ori: 부산\t Dest: 경기도\t #: 1\n",
      "----------------------------------------\n",
      "Ori: 대구\t Dest: 대전\t #: 1\n",
      "Ori: 대구\t Dest: 울산\t #: 1\n",
      "Ori: 대구\t Dest: 경기도\t #: 4\n",
      "Ori: 대구\t Dest: 경상북도\t #: 4\n",
      "Ori: 대구\t Dest: 경상남도\t #: 1\n",
      "----------------------------------------\n",
      "Ori: 광주\t Dest: 전라남도\t #: 2\n",
      "Ori: 광주\t Dest: 전라북도\t #: 2\n",
      "----------------------------------------\n",
      "Ori: 인천\t Dest: 경기도\t #: 30\n",
      "----------------------------------------\n",
      "Ori: 대전\t Dest: 서울\t #: 1\n",
      "Ori: 대전\t Dest: 경기도\t #: 4\n",
      "Ori: 대전\t Dest: 전라북도\t #: 2\n",
      "Ori: 대전\t Dest: 세종\t #: 2\n",
      "Ori: 대전\t Dest: 충청남도\t #: 4\n",
      "Ori: 대전\t Dest: 대구\t #: 1\n",
      "----------------------------------------\n",
      "Ori: 세종\t Dest: 충청남도\t #: 1\n",
      "----------------------------------------\n",
      "Ori: 울산\t Dest: 전라남도\t #: 1\n",
      "Ori: 울산\t Dest: 서울\t #: 1\n",
      "----------------------------------------\n",
      "Ori: 충청남도\t Dest: 대전\t #: 2\n",
      "----------------------------------------\n",
      "Ori: 전라북도\t Dest: 대전\t #: 1\n",
      "----------------------------------------\n",
      "Ori: 경상북도\t Dest: 경상남도\t #: 1\n",
      "Ori: 경상북도\t Dest: 울산\t #: 1\n",
      "----------------------------------------\n",
      "Ori: 경상남도\t Dest: 부산\t #: 1\n",
      "Ori: 경상남도\t Dest: 충청남도\t #: 1\n",
      "----------------------------------------\n",
      "Total: 184\n"
     ]
    }
   ],
   "source": [
    "s = 0\n",
    "for lo in trans['ori_loc'].unique().tolist():\n",
    "    temp = trans[trans['ori_loc'] == lo]\n",
    "    for ld in temp['dest_loc'].unique().tolist():\n",
    "        sh = temp[temp['dest_loc'] == ld].shape[0]\n",
    "        s += sh\n",
    "        print(f\"Ori: {lo}\\t Dest: {ld}\\t #: {sh}\")\n",
    "    print(\"-\"*40)\n",
    "print(f\"Total: {s}\")"
   ]
  },
  {
   "cell_type": "code",
   "execution_count": 281,
   "metadata": {},
   "outputs": [
    {
     "data": {
      "text/html": [
       "<div>\n",
       "<style scoped>\n",
       "    .dataframe tbody tr th:only-of-type {\n",
       "        vertical-align: middle;\n",
       "    }\n",
       "\n",
       "    .dataframe tbody tr th {\n",
       "        vertical-align: top;\n",
       "    }\n",
       "\n",
       "    .dataframe thead th {\n",
       "        text-align: right;\n",
       "    }\n",
       "</style>\n",
       "<table border=\"1\" class=\"dataframe\">\n",
       "  <thead>\n",
       "    <tr style=\"text-align: right;\">\n",
       "      <th></th>\n",
       "      <th>ori_pid</th>\n",
       "      <th>ori_loc</th>\n",
       "      <th>dest_pid</th>\n",
       "      <th>dest_loc</th>\n",
       "    </tr>\n",
       "  </thead>\n",
       "  <tbody>\n",
       "    <tr>\n",
       "      <th>115</th>\n",
       "      <td>1200000031</td>\n",
       "      <td>대구</td>\n",
       "      <td>2000000013</td>\n",
       "      <td>경기도</td>\n",
       "    </tr>\n",
       "    <tr>\n",
       "      <th>116</th>\n",
       "      <td>1200000031</td>\n",
       "      <td>대구</td>\n",
       "      <td>2000000015</td>\n",
       "      <td>경기도</td>\n",
       "    </tr>\n",
       "    <tr>\n",
       "      <th>117</th>\n",
       "      <td>1200000031</td>\n",
       "      <td>대구</td>\n",
       "      <td>2000000028</td>\n",
       "      <td>경기도</td>\n",
       "    </tr>\n",
       "    <tr>\n",
       "      <th>118</th>\n",
       "      <td>1200000031</td>\n",
       "      <td>대구</td>\n",
       "      <td>2000000050</td>\n",
       "      <td>경기도</td>\n",
       "    </tr>\n",
       "  </tbody>\n",
       "</table>\n",
       "</div>"
      ],
      "text/plain": [
       "        ori_pid ori_loc    dest_pid dest_loc\n",
       "115  1200000031      대구  2000000013      경기도\n",
       "116  1200000031      대구  2000000015      경기도\n",
       "117  1200000031      대구  2000000028      경기도\n",
       "118  1200000031      대구  2000000050      경기도"
      ]
     },
     "execution_count": 281,
     "metadata": {},
     "output_type": "execute_result"
    }
   ],
   "source": [
    "trans[(trans.ori_loc == '대구') & (trans.dest_loc == '경기도')]"
   ]
  },
  {
   "cell_type": "code",
   "execution_count": 282,
   "metadata": {},
   "outputs": [
    {
     "data": {
      "text/html": [
       "<div>\n",
       "<style scoped>\n",
       "    .dataframe tbody tr th:only-of-type {\n",
       "        vertical-align: middle;\n",
       "    }\n",
       "\n",
       "    .dataframe tbody tr th {\n",
       "        vertical-align: top;\n",
       "    }\n",
       "\n",
       "    .dataframe thead th {\n",
       "        text-align: right;\n",
       "    }\n",
       "</style>\n",
       "<table border=\"1\" class=\"dataframe\">\n",
       "  <thead>\n",
       "    <tr style=\"text-align: right;\">\n",
       "      <th></th>\n",
       "      <th>ori_pid</th>\n",
       "      <th>ori_loc</th>\n",
       "      <th>dest_pid</th>\n",
       "      <th>dest_loc</th>\n",
       "    </tr>\n",
       "  </thead>\n",
       "  <tbody>\n",
       "    <tr>\n",
       "      <th>159</th>\n",
       "      <td>1500000051</td>\n",
       "      <td>대전</td>\n",
       "      <td>2000001092</td>\n",
       "      <td>경기도</td>\n",
       "    </tr>\n",
       "    <tr>\n",
       "      <th>160</th>\n",
       "      <td>1500000051</td>\n",
       "      <td>대전</td>\n",
       "      <td>2000001105</td>\n",
       "      <td>경기도</td>\n",
       "    </tr>\n",
       "    <tr>\n",
       "      <th>162</th>\n",
       "      <td>1500000049</td>\n",
       "      <td>대전</td>\n",
       "      <td>1500000052</td>\n",
       "      <td>경기도</td>\n",
       "    </tr>\n",
       "    <tr>\n",
       "      <th>167</th>\n",
       "      <td>1500000049</td>\n",
       "      <td>대전</td>\n",
       "      <td>2000001116</td>\n",
       "      <td>경기도</td>\n",
       "    </tr>\n",
       "  </tbody>\n",
       "</table>\n",
       "</div>"
      ],
      "text/plain": [
       "        ori_pid ori_loc    dest_pid dest_loc\n",
       "159  1500000051      대전  2000001092      경기도\n",
       "160  1500000051      대전  2000001105      경기도\n",
       "162  1500000049      대전  1500000052      경기도\n",
       "167  1500000049      대전  2000001116      경기도"
      ]
     },
     "execution_count": 282,
     "metadata": {},
     "output_type": "execute_result"
    }
   ],
   "source": [
    "trans[(trans.ori_loc == '대전') & (trans.dest_loc == '경기도')]"
   ]
  },
  {
   "cell_type": "code",
   "execution_count": 365,
   "metadata": {},
   "outputs": [],
   "source": [
    "def dplot(dic, name, title, xl, yl):\n",
    "    lists = dic.items()\n",
    "    x, y = zip(*lists) # unpack a list of pairs into two tuples\n",
    "    plt.figure()\n",
    "    plt.plot(x, y)\n",
    "    plt.fill_between(x, y)\n",
    "    plt.title(title)\n",
    "    plt.xlabel(xl)\n",
    "    plt.ylabel(yl)\n",
    "    plt.savefig(f\"./{name}\")\n",
    "    plt.show()"
   ]
  },
  {
   "cell_type": "code",
   "execution_count": 366,
   "metadata": {},
   "outputs": [],
   "source": [
    "d1 = {0.0: 4573, 0.14: 353, 0.28: 110, 0.42: 61, 0.57: 27, 0.71: 7, 0.85: 7, 1.0: 4, 1.14: 4, 1.28: 1, 1.42: 2, 1.57: 3, 1.71: 1, 2.14: 2, 2.42: 2, 2.57: 1, 3.0: 2, 3.42: 2, 3.85: 1, 7.28: 1}"
   ]
  },
  {
   "cell_type": "code",
   "execution_count": 367,
   "metadata": {},
   "outputs": [
    {
     "data": {
      "image/png": "[encoded data removed]",
      "text/plain": [
       "<Figure size 432x288 with 1 Axes>"
      ]
     },
     "metadata": {
      "needs_background": "light"
     },
     "output_type": "display_data"
    }
   ],
   "source": [
    "dplot(d1, 'dist1', '7일 평균 감염시킨 사람수 별 확진자수', '감염시킨 사람수', '확진자수')"
   ]
  },
  {
   "cell_type": "code",
   "execution_count": 301,
   "metadata": {},
   "outputs": [],
   "source": [
    "pd1 = {0.0: 0.8855538342370256, 0.14: 0.9539116963594113, 0.28: 0.9752130131680867, 0.42: 0.9870255615801704, 0.57: 0.9922540666150271, 0.71: 0.9936096049573974, 0.85: 0.9949651432997676, 1.0: 0.9957397366382649, 1.14: 0.9965143299767621, 1.28: 0.9967079783113865, 1.42: 0.9970952749806351, 1.57: 0.9976762199845081, 1.71: 0.9978698683191324, 2.14: 0.998257164988381, 2.42: 0.9986444616576297, 2.57: 0.998838109992254, 3.0: 0.9992254066615026, 3.42: 0.9996127033307513, 3.85: 0.9998063516653756, 7.28: 0.9999999999999999}"
   ]
  },
  {
   "cell_type": "code",
   "execution_count": 306,
   "metadata": {},
   "outputs": [
    {
     "name": "stdout",
     "output_type": "stream",
     "text": [
      "[0.0, 0.14, 0.28, 0.42, 0.57, 0.71, 0.85, 1.0, 1.14, 1.28, 1.42, 1.57, 1.71, 2.14, 2.42, 2.57, 3.0, 3.42, 3.85, 7.28] 20\n",
      "[0.8855538342370256, 0.9539116963594113, 0.9752130131680867, 0.9870255615801704, 0.9922540666150271, 0.9936096049573974, 0.9949651432997676, 0.9957397366382649, 0.9965143299767621, 0.9967079783113865, 0.9970952749806351, 0.9976762199845081, 0.9978698683191324, 0.998257164988381, 0.9986444616576297, 0.998838109992254, 0.9992254066615026, 0.9996127033307513, 0.9998063516653756, 0.9999999999999999, 1] 21\n"
     ]
    }
   ],
   "source": [
    "k = list(pd1.keys())\n",
    "v = list(pd1.values()) + [1]\n",
    "print(k, len(k))\n",
    "print(v, len(v))"
   ]
  },
  {
   "cell_type": "code",
   "execution_count": 363,
   "metadata": {},
   "outputs": [],
   "source": [
    "def pdplot(dic, name):\n",
    "    lists = dic.items()\n",
    "    x, y = zip(*lists) # unpack a list of pairs into two tuples\n",
    "    plt.figure()\n",
    "    plt.plot(y, x)\n",
    "    plt.axis((0, max(y), min(x), max(x)))\n",
    "    plt.fill_between(y, x, alpha=.5)\n",
    "    plt.savefig(f\"./{name}\")\n",
    "    plt.show()\n",
    "    "
   ]
  },
  {
   "cell_type": "code",
   "execution_count": 364,
   "metadata": {},
   "outputs": [
    {
     "data": {
      "image/png": "[encoded data removed]",
      "text/plain": [
       "<Figure size 432x288 with 1 Axes>"
      ]
     },
     "metadata": {
      "needs_background": "light"
     },
     "output_type": "display_data"
    }
   ],
   "source": [
    "pdplot(pd1, 'pdist1')"
   ]
  },
  {
   "cell_type": "code",
   "execution_count": 346,
   "metadata": {},
   "outputs": [
    {
     "name": "stdout",
     "output_type": "stream",
     "text": [
      "p = ~0.8855\t 0.0명\n",
      "-----------------------\n",
      "p = ~0.9539\t 0.14명\n",
      "-----------------------\n",
      "p = ~0.9752\t 0.28명\n",
      "-----------------------\n",
      "p = ~0.987\t 0.42명\n",
      "-----------------------\n",
      "p = ~0.9922\t 0.57명\n",
      "-----------------------\n",
      "p = ~0.9936\t 0.71명\n",
      "-----------------------\n",
      "p = ~0.9949\t 0.85명\n",
      "-----------------------\n",
      "p = ~0.9957\t 1.0명\n",
      "-----------------------\n",
      "p = ~0.9965\t 1.14명\n",
      "-----------------------\n",
      "p = ~0.9967\t 1.28명\n",
      "-----------------------\n",
      "p = ~0.997\t 1.42명\n",
      "-----------------------\n",
      "p = ~0.9976\t 1.57명\n",
      "-----------------------\n",
      "p = ~0.9978\t 1.71명\n",
      "-----------------------\n",
      "p = ~0.9982\t 2.14명\n",
      "-----------------------\n",
      "p = ~0.9986\t 2.42명\n",
      "-----------------------\n",
      "p = ~0.9988\t 2.57명\n",
      "-----------------------\n",
      "p = ~0.9992\t 3.0명\n",
      "-----------------------\n",
      "p = ~0.9996\t 3.42명\n",
      "-----------------------\n",
      "p = ~0.9998\t 3.85명\n",
      "-----------------------\n",
      "p = ~0.9999\t 7.28명\n",
      "-----------------------\n"
     ]
    }
   ],
   "source": [
    "for k, v in pd1.items():\n",
    "    print(f\"p = ~{(v * 10000) // 1 / 10000}\\t {k}명\")\n",
    "    print(\"-\"*23)"
   ]
  },
  {
   "cell_type": "code",
   "execution_count": 321,
   "metadata": {},
   "outputs": [],
   "source": [
    "def pdplot2(dic):\n",
    "    lists = dic.items()\n",
    "    x, y = zip(*lists) # unpack a list of pairs into two tuples\n",
    "    plt.bar(x, y, width=[(x[j+1]-x[j]) for j in range(len(x))])\n",
    "    plt.show()"
   ]
  },
  {
   "cell_type": "code",
   "execution_count": 368,
   "metadata": {},
   "outputs": [],
   "source": [
    "infosum = []\n",
    "for k in list(info.keys()):\n",
    "    infosum.append(np.sum(info[k][\"count\"]))"
   ]
  },
  {
   "cell_type": "code",
   "execution_count": 369,
   "metadata": {},
   "outputs": [
    {
     "data": {
      "text/plain": [
       "378"
      ]
     },
     "execution_count": 369,
     "metadata": {},
     "output_type": "execute_result"
    }
   ],
   "source": [
    "len(infosum)"
   ]
  },
  {
   "cell_type": "code",
   "execution_count": 370,
   "metadata": {},
   "outputs": [],
   "source": [
    "def get_count(lst):\n",
    "    uqn, uqc = np.unique(np.array(lst), return_counts=True)\n",
    "    count = dict(zip(uqn, uqc))\n",
    "    return count"
   ]
  },
  {
   "cell_type": "code",
   "execution_count": 371,
   "metadata": {},
   "outputs": [],
   "source": [
    "def get_dist(count):\n",
    "    total = np.sum(list(count.values()))\n",
    "    dist = {}\n",
    "    keys = sorted(count)\n",
    "    for key in keys:\n",
    "        dist[key] = count[key] / total\n",
    "    # dist = {k : v / total for k, v in sorted(count.items())}\n",
    "    values = [dist[k] for k in keys]\n",
    "    # cumulative dist\n",
    "    cum_values = values.copy()\n",
    "    for i in range(len(values)):\n",
    "        for j in range(i):\n",
    "            cum_values[i] += values[j]\n",
    "    cum_dist = {}\n",
    "    for i, key in enumerate(keys):\n",
    "        cum_dist[key] = cum_values[i]\n",
    "    return cum_dist"
   ]
  },
  {
   "cell_type": "code",
   "execution_count": 378,
   "metadata": {},
   "outputs": [],
   "source": [
    "d2_list = [(x / 7 * 100 // 1 / 100) for x in infosum] # 2번쨰자리 반올림"
   ]
  },
  {
   "cell_type": "code",
   "execution_count": 379,
   "metadata": {},
   "outputs": [],
   "source": [
    "d2_count = get_count(d2_list)"
   ]
  },
  {
   "cell_type": "code",
   "execution_count": 380,
   "metadata": {},
   "outputs": [],
   "source": [
    "d2_dist = get_dist(d2_count)"
   ]
  },
  {
   "cell_type": "code",
   "execution_count": 381,
   "metadata": {},
   "outputs": [
    {
     "name": "stdout",
     "output_type": "stream",
     "text": [
      "{0.14: 194, 0.28: 67, 0.42: 39, 0.57: 19, 0.71: 14, 0.85: 8, 1.0: 5, 1.14: 6, 1.28: 3, 1.42: 3, 1.57: 1, 1.71: 2, 2.0: 3, 2.14: 1, 2.42: 1, 2.57: 1, 2.71: 1, 2.85: 1, 3.14: 1, 3.28: 1, 4.71: 1, 4.85: 1, 5.28: 1, 6.85: 1, 7.28: 1, 9.42: 2}\n",
      "{0.14: 0.5132275132275133, 0.28: 0.6904761904761905, 0.42: 0.7936507936507936, 0.57: 0.8439153439153438, 0.71: 0.8809523809523808, 0.85: 0.9021164021164021, 1.0: 0.9153439153439153, 1.14: 0.9312169312169312, 1.28: 0.9391534391534391, 1.42: 0.947089947089947, 1.57: 0.9497354497354495, 1.71: 0.955026455026455, 2.0: 0.9629629629629628, 2.14: 0.9656084656084654, 2.42: 0.968253968253968, 2.57: 0.9708994708994707, 2.71: 0.9735449735449734, 2.85: 0.976190476190476, 3.14: 0.9788359788359787, 3.28: 0.9814814814814814, 4.71: 0.9841269841269841, 4.85: 0.9867724867724867, 5.28: 0.9894179894179894, 6.85: 0.9920634920634921, 7.28: 0.9947089947089948, 9.42: 1.0000000000000002}\n"
     ]
    }
   ],
   "source": [
    "print(d2_count)\n",
    "print(d2_dist)"
   ]
  },
  {
   "cell_type": "code",
   "execution_count": 384,
   "metadata": {},
   "outputs": [
    {
     "data": {
      "image/png": "[encoded data removed]",
      "text/plain": [
       "<Figure size 432x288 with 1 Axes>"
      ]
     },
     "metadata": {
      "needs_background": "light"
     },
     "output_type": "display_data"
    }
   ],
   "source": [
    "dplot(d2_count, 'dist2', '7일 평균 감염시킨 사람수 별 슈퍼전파자수', '감염시킨 사람수', '슈퍼전파자수')"
   ]
  },
  {
   "cell_type": "code",
   "execution_count": 385,
   "metadata": {},
   "outputs": [
    {
     "name": "stdout",
     "output_type": "stream",
     "text": [
      "p = ~0.5132\t 0.14명\n",
      "-----------------------\n",
      "p = ~0.6904\t 0.28명\n",
      "-----------------------\n",
      "p = ~0.7936\t 0.42명\n",
      "-----------------------\n",
      "p = ~0.8439\t 0.57명\n",
      "-----------------------\n",
      "p = ~0.8809\t 0.71명\n",
      "-----------------------\n",
      "p = ~0.9021\t 0.85명\n",
      "-----------------------\n",
      "p = ~0.9153\t 1.0명\n",
      "-----------------------\n",
      "p = ~0.9312\t 1.14명\n",
      "-----------------------\n",
      "p = ~0.9391\t 1.28명\n",
      "-----------------------\n",
      "p = ~0.947\t 1.42명\n",
      "-----------------------\n",
      "p = ~0.9497\t 1.57명\n",
      "-----------------------\n",
      "p = ~0.955\t 1.71명\n",
      "-----------------------\n",
      "p = ~0.9629\t 2.0명\n",
      "-----------------------\n",
      "p = ~0.9656\t 2.14명\n",
      "-----------------------\n",
      "p = ~0.9682\t 2.42명\n",
      "-----------------------\n",
      "p = ~0.9708\t 2.57명\n",
      "-----------------------\n",
      "p = ~0.9735\t 2.71명\n",
      "-----------------------\n",
      "p = ~0.9761\t 2.85명\n",
      "-----------------------\n",
      "p = ~0.9788\t 3.14명\n",
      "-----------------------\n",
      "p = ~0.9814\t 3.28명\n",
      "-----------------------\n",
      "p = ~0.9841\t 4.71명\n",
      "-----------------------\n",
      "p = ~0.9867\t 4.85명\n",
      "-----------------------\n",
      "p = ~0.9894\t 5.28명\n",
      "-----------------------\n",
      "p = ~0.992\t 6.85명\n",
      "-----------------------\n",
      "p = ~0.9947\t 7.28명\n",
      "-----------------------\n",
      "p = ~1.0\t 9.42명\n",
      "-----------------------\n",
      "\n",
      "26\n"
     ]
    }
   ],
   "source": [
    "c = 0\n",
    "for k, v in d2_dist.items():\n",
    "    c += 1\n",
    "    print(f\"p = ~{(v * 10000) // 1 / 10000}\\t {k}명\")\n",
    "    print(\"-\"*23)\n",
    "    \n",
    "print()\n",
    "print(c)"
   ]
  },
  {
   "cell_type": "code",
   "execution_count": 386,
   "metadata": {},
   "outputs": [
    {
     "name": "stdout",
     "output_type": "stream",
     "text": [
      "<class 'pandas.core.frame.DataFrame'>\n",
      "Int64Index: 5164 entries, 0 to 5164\n",
      "Data columns (total 14 columns):\n",
      " #   Column              Non-Null Count  Dtype         \n",
      "---  ------              --------------  -----         \n",
      " 0   patient_id          5164 non-null   object        \n",
      " 1   sex                 4042 non-null   object        \n",
      " 2   age                 3784 non-null   object        \n",
      " 3   country             5164 non-null   object        \n",
      " 4   province            5164 non-null   object        \n",
      " 5   city                5069 non-null   object        \n",
      " 6   infection_case      4243 non-null   object        \n",
      " 7   infected_by         1325 non-null   object        \n",
      " 8   contact_number      791 non-null    object        \n",
      " 9   symptom_onset_date  689 non-null    datetime64[ns]\n",
      " 10  confirmed_date      5161 non-null   datetime64[ns]\n",
      " 11  released_date       1587 non-null   datetime64[ns]\n",
      " 12  deceased_date       66 non-null     datetime64[ns]\n",
      " 13  state               5164 non-null   object        \n",
      "dtypes: datetime64[ns](4), object(10)\n",
      "memory usage: 605.2+ KB\n"
     ]
    }
   ],
   "source": [
    "df.info()"
   ]
  },
  {
   "cell_type": "code",
   "execution_count": 494,
   "metadata": {},
   "outputs": [],
   "source": [
    "temper = df[(df.province == \"서울\") & (df.confirmed_date <= \"2020-03-07\")]"
   ]
  },
  {
   "cell_type": "code",
   "execution_count": 495,
   "metadata": {},
   "outputs": [
    {
     "data": {
      "text/plain": [
       "(120, 14)"
      ]
     },
     "execution_count": 495,
     "metadata": {},
     "output_type": "execute_result"
    }
   ],
   "source": [
    "temper.shape"
   ]
  },
  {
   "cell_type": "code",
   "execution_count": 391,
   "metadata": {},
   "outputs": [
    {
     "data": {
      "text/plain": [
       "0.0013402061855670104"
      ]
     },
     "execution_count": 391,
     "metadata": {},
     "output_type": "execute_result"
    }
   ],
   "source": [
    "130 / 9700000 * 100"
   ]
  },
  {
   "cell_type": "code",
   "execution_count": 496,
   "metadata": {},
   "outputs": [],
   "source": [
    "temper = df[(df.province == \"부산\") & (df.confirmed_date <= \"2020-03-07\")]"
   ]
  },
  {
   "cell_type": "code",
   "execution_count": 497,
   "metadata": {},
   "outputs": [
    {
     "data": {
      "text/plain": [
       "(89, 14)"
      ]
     },
     "execution_count": 497,
     "metadata": {},
     "output_type": "execute_result"
    }
   ],
   "source": [
    "temper.shape"
   ]
  },
  {
   "cell_type": "code",
   "execution_count": 395,
   "metadata": {},
   "outputs": [
    {
     "data": {
      "text/plain": [
       "0.0026099706744868033"
      ]
     },
     "execution_count": 395,
     "metadata": {},
     "output_type": "execute_result"
    }
   ],
   "source": [
    "89 / 3410000 * 100"
   ]
  },
  {
   "cell_type": "code",
   "execution_count": 425,
   "metadata": {},
   "outputs": [],
   "source": [
    "temploc = df[df.province == \"부산\"]"
   ]
  },
  {
   "cell_type": "code",
   "execution_count": 400,
   "metadata": {},
   "outputs": [],
   "source": [
    "datec = temploc.confirmed_date.nunique()"
   ]
  },
  {
   "cell_type": "code",
   "execution_count": 406,
   "metadata": {},
   "outputs": [
    {
     "name": "stdout",
     "output_type": "stream",
     "text": [
      "55\n"
     ]
    }
   ],
   "source": [
    "print(datec)"
   ]
  },
  {
   "cell_type": "code",
   "execution_count": 402,
   "metadata": {},
   "outputs": [
    {
     "data": {
      "text/plain": [
       "(31, 14)"
      ]
     },
     "execution_count": 402,
     "metadata": {},
     "output_type": "execute_result"
    }
   ],
   "source": [
    "temploc[temploc.infected_by.isin(temploc.patient_id)].shape"
   ]
  },
  {
   "cell_type": "code",
   "execution_count": 403,
   "metadata": {},
   "outputs": [
    {
     "data": {
      "text/plain": [
       "0.5636363636363636"
      ]
     },
     "execution_count": 403,
     "metadata": {},
     "output_type": "execute_result"
    }
   ],
   "source": [
    "31 / datec"
   ]
  },
  {
   "cell_type": "code",
   "execution_count": 404,
   "metadata": {},
   "outputs": [
    {
     "data": {
      "text/plain": [
       "(151, 14)"
      ]
     },
     "execution_count": 404,
     "metadata": {},
     "output_type": "execute_result"
    }
   ],
   "source": [
    "temploc.shape"
   ]
  },
  {
   "cell_type": "code",
   "execution_count": 405,
   "metadata": {},
   "outputs": [
    {
     "data": {
      "text/plain": [
       "(32, 14)"
      ]
     },
     "execution_count": 405,
     "metadata": {},
     "output_type": "execute_result"
    }
   ],
   "source": [
    "temploc[~pd.isnull(temploc.infected_by)].shape"
   ]
  },
  {
   "cell_type": "code",
   "execution_count": 419,
   "metadata": {},
   "outputs": [
    {
     "data": {
      "text/plain": [
       "(32, 14)"
      ]
     },
     "execution_count": 419,
     "metadata": {},
     "output_type": "execute_result"
    }
   ],
   "source": [
    "df[df.infected_by.isin(temploc.patient_id)].shape"
   ]
  },
  {
   "cell_type": "code",
   "execution_count": 426,
   "metadata": {},
   "outputs": [],
   "source": [
    "bfectors = temploc[temploc.infected_by.isin(temploc.patient_id)].infected_by.values"
   ]
  },
  {
   "cell_type": "code",
   "execution_count": 427,
   "metadata": {},
   "outputs": [
    {
     "data": {
      "text/plain": [
       "array(['1100000013', '1100000016', '1100000013', '1100000002',\n",
       "       '1100000011', '1100000029', '1100000029', '1100000015',\n",
       "       '1100000040', '1100000036', '1100000039', '1100000059',\n",
       "       '1100000057', '1100000059', '1100000002', '1100000001',\n",
       "       '1100000066', '1100000054', '1100000059', '1100000076',\n",
       "       '1100000078', '1100000015', '1100000054', '1100000054',\n",
       "       '1100000002', '1100000048', '1100000071', '1100000071',\n",
       "       '1100000097', '1100000097', '1100000100'], dtype=object)"
      ]
     },
     "execution_count": 427,
     "metadata": {},
     "output_type": "execute_result"
    }
   ],
   "source": [
    "bfectors"
   ]
  },
  {
   "cell_type": "code",
   "execution_count": 431,
   "metadata": {},
   "outputs": [],
   "source": [
    "bc = []\n",
    "for bf in bfectors:\n",
    "    t = temploc[temploc.infected_by == bf]\n",
    "    bc.append((t.shape[0], t.confirmed_date.unique().shape[0]))"
   ]
  },
  {
   "cell_type": "code",
   "execution_count": 430,
   "metadata": {},
   "outputs": [
    {
     "data": {
      "text/plain": [
       "1.903225806451613"
      ]
     },
     "execution_count": 430,
     "metadata": {},
     "output_type": "execute_result"
    }
   ],
   "source": [
    "np.mean(bc)"
   ]
  },
  {
   "cell_type": "code",
   "execution_count": 432,
   "metadata": {},
   "outputs": [
    {
     "name": "stdout",
     "output_type": "stream",
     "text": [
      "[(2, 1), (1, 1), (2, 1), (3, 3), (1, 1), (2, 1), (2, 1), (2, 2), (1, 1), (1, 1), (1, 1), (3, 3), (1, 1), (3, 3), (3, 3), (1, 1), (1, 1), (3, 3), (3, 3), (1, 1), (1, 1), (2, 2), (3, 3), (3, 3), (3, 3), (1, 1), (2, 2), (2, 2), (2, 1), (2, 1), (1, 1)]\n"
     ]
    }
   ],
   "source": [
    "print(bc)"
   ]
  },
  {
   "cell_type": "code",
   "execution_count": 433,
   "metadata": {},
   "outputs": [],
   "source": [
    "bc2 = []\n",
    "for bc_ in bc:\n",
    "    bc2.append(bc_[0] / bc_[1])"
   ]
  },
  {
   "cell_type": "code",
   "execution_count": 435,
   "metadata": {},
   "outputs": [
    {
     "name": "stdout",
     "output_type": "stream",
     "text": [
      "[2.0, 1.0, 2.0, 1.0, 1.0, 2.0, 2.0, 1.0, 1.0, 1.0, 1.0, 1.0, 1.0, 1.0, 1.0, 1.0, 1.0, 1.0, 1.0, 1.0, 1.0, 1.0, 1.0, 1.0, 1.0, 1.0, 1.0, 1.0, 2.0, 2.0, 1.0]\n",
      "1.1935483870967742\n"
     ]
    }
   ],
   "source": [
    "print(bc2)\n",
    "print(np.mean(bc2))"
   ]
  },
  {
   "cell_type": "code",
   "execution_count": 436,
   "metadata": {},
   "outputs": [
    {
     "name": "stdout",
     "output_type": "stream",
     "text": [
      "151\n"
     ]
    }
   ],
   "source": [
    "bc3 = bc2 + [0 for _ in range(120)]\n",
    "print(len(bc3))"
   ]
  },
  {
   "cell_type": "code",
   "execution_count": 437,
   "metadata": {},
   "outputs": [
    {
     "name": "stdout",
     "output_type": "stream",
     "text": [
      "0.24503311258278146\n"
     ]
    }
   ],
   "source": [
    "print(np.mean(bc3))"
   ]
  },
  {
   "cell_type": "markdown",
   "metadata": {},
   "source": [
    "예를들어 부산 1번이 전체 기간에 걸쳐 다른 부산시민 2명을 감염시켰는데 그 2명이 서로 다른날 확진되었다면, 하루에 감염시킨 사람수는 한명이다. 만약에 그 2명이 같은날 확진되었다면, 하루에 감염시킨 사람수는 2명이다."
   ]
  },
  {
   "cell_type": "code",
   "execution_count": 410,
   "metadata": {},
   "outputs": [],
   "source": [
    "dates = ['2020-03-08', '2020-03-09', '2020-03-10', '2020-03-11', '2020-03-12',\n",
    "       '2020-03-13', '2020-03-14']"
   ]
  },
  {
   "cell_type": "code",
   "execution_count": 416,
   "metadata": {},
   "outputs": [],
   "source": [
    "cums = []\n",
    "for dat in dates:\n",
    "    cums.append(df[(df.province == \"서울\") & (df.confirmed_date <= dat)].shape[0])"
   ]
  },
  {
   "cell_type": "code",
   "execution_count": 417,
   "metadata": {},
   "outputs": [
    {
     "data": {
      "text/plain": [
       "[130, 156, 202, 220, 231, 240, 248]"
      ]
     },
     "execution_count": 417,
     "metadata": {},
     "output_type": "execute_result"
    }
   ],
   "source": [
    "cums"
   ]
  },
  {
   "cell_type": "code",
   "execution_count": 418,
   "metadata": {},
   "outputs": [
    {
     "data": {
      "text/plain": [
       "array([0.00134021, 0.00160825, 0.00208247, 0.00226804, 0.00238144,\n",
       "       0.00247423, 0.0025567 ])"
      ]
     },
     "execution_count": 418,
     "metadata": {},
     "output_type": "execute_result"
    }
   ],
   "source": [
    "np.divide(cums, 97000)"
   ]
  },
  {
   "cell_type": "code",
   "execution_count": 407,
   "metadata": {},
   "outputs": [
    {
     "data": {
      "text/plain": [
       "{0.0: 4573,\n",
       " 0.14: 353,\n",
       " 0.28: 110,\n",
       " 0.42: 61,\n",
       " 0.57: 27,\n",
       " 0.71: 7,\n",
       " 0.85: 7,\n",
       " 1.0: 4,\n",
       " 1.14: 4,\n",
       " 1.28: 1,\n",
       " 1.42: 2,\n",
       " 1.57: 3,\n",
       " 1.71: 1,\n",
       " 2.14: 2,\n",
       " 2.42: 2,\n",
       " 2.57: 1,\n",
       " 3.0: 2,\n",
       " 3.42: 2,\n",
       " 3.85: 1,\n",
       " 7.28: 1}"
      ]
     },
     "execution_count": 407,
     "metadata": {},
     "output_type": "execute_result"
    }
   ],
   "source": [
    "d1"
   ]
  },
  {
   "cell_type": "code",
   "execution_count": 408,
   "metadata": {},
   "outputs": [
    {
     "data": {
      "text/plain": [
       "{0.0: 0.8855538342370256,\n",
       " 0.14: 0.9539116963594113,\n",
       " 0.28: 0.9752130131680867,\n",
       " 0.42: 0.9870255615801704,\n",
       " 0.57: 0.9922540666150271,\n",
       " 0.71: 0.9936096049573974,\n",
       " 0.85: 0.9949651432997676,\n",
       " 1.0: 0.9957397366382649,\n",
       " 1.14: 0.9965143299767621,\n",
       " 1.28: 0.9967079783113865,\n",
       " 1.42: 0.9970952749806351,\n",
       " 1.57: 0.9976762199845081,\n",
       " 1.71: 0.9978698683191324,\n",
       " 2.14: 0.998257164988381,\n",
       " 2.42: 0.9986444616576297,\n",
       " 2.57: 0.998838109992254,\n",
       " 3.0: 0.9992254066615026,\n",
       " 3.42: 0.9996127033307513,\n",
       " 3.85: 0.9998063516653756,\n",
       " 7.28: 0.9999999999999999}"
      ]
     },
     "execution_count": 408,
     "metadata": {},
     "output_type": "execute_result"
    }
   ],
   "source": [
    "pd1"
   ]
  },
  {
   "cell_type": "code",
   "execution_count": 443,
   "metadata": {},
   "outputs": [],
   "source": [
    "import math\n",
    "import random"
   ]
  },
  {
   "cell_type": "code",
   "execution_count": 449,
   "metadata": {},
   "outputs": [],
   "source": [
    "def get_r(dist, prob):\n",
    "    pick = 0\n",
    "    for k, v in dist.items():\n",
    "        if prob <= v:\n",
    "            pick = k\n",
    "            break\n",
    "    return pick"
   ]
  },
  {
   "cell_type": "code",
   "execution_count": 454,
   "metadata": {},
   "outputs": [],
   "source": [
    "def distributor():\n",
    "    normal_dist = pd1.copy()\n",
    "    # person iteration\n",
    "    weekdays = [\"SUN\",\"MON\",\"TUE\",\"WED\",\"THU\",\"FRI\",\"SAT\"]\n",
    "    record = []\n",
    "    transfer = [1221, 1437, 1312, 1433, 1573, 2254, 1454]\n",
    "    ratio = [0.00134021, 0.00160825, 0.00208247, 0.00226804, 0.00238144, 0.00247423, 0.0025567]\n",
    "    base = [89]\n",
    "    base_ratio = 0.24\n",
    "    for i in range(len(transfer)):\n",
    "        week_t = math.ceil(transfer[i] * ratio[i])\n",
    "        infected = base[i] * (1 + base_ratio)\n",
    "        for j, p in enumerate(range(week_t)):\n",
    "            p_prob = random.uniform(0, 1)\n",
    "            p_r = get_r(normal_dist, p_prob)\n",
    "            print(f\"DAY: {i}\\t TP: {j}\\t INF: {p_r}\")\n",
    "            infected += p_r\n",
    "        base.append(infected)\n",
    "    print(base)\n",
    "#     plt.bar(weekdays, record, align=\"center\")"
   ]
  },
  {
   "cell_type": "code",
   "execution_count": 488,
   "metadata": {},
   "outputs": [
    {
     "name": "stdout",
     "output_type": "stream",
     "text": [
      "DAY: 0\t TP: 0\t INF: 0.0\n",
      "DAY: 0\t TP: 1\t INF: 0.0\n",
      "DAY: 1\t TP: 0\t INF: 0.0\n",
      "DAY: 1\t TP: 1\t INF: 0.0\n",
      "DAY: 1\t TP: 2\t INF: 0.0\n",
      "DAY: 2\t TP: 0\t INF: 0.0\n",
      "DAY: 2\t TP: 1\t INF: 0.14\n",
      "DAY: 2\t TP: 2\t INF: 0.0\n",
      "DAY: 3\t TP: 0\t INF: 0.0\n",
      "DAY: 3\t TP: 1\t INF: 0.0\n",
      "DAY: 3\t TP: 2\t INF: 0.0\n",
      "DAY: 3\t TP: 3\t INF: 0.0\n",
      "DAY: 4\t TP: 0\t INF: 0.0\n",
      "DAY: 4\t TP: 1\t INF: 0.0\n",
      "DAY: 4\t TP: 2\t INF: 0.0\n",
      "DAY: 4\t TP: 3\t INF: 0.0\n",
      "DAY: 5\t TP: 0\t INF: 0.0\n",
      "DAY: 5\t TP: 1\t INF: 0.28\n",
      "DAY: 5\t TP: 2\t INF: 0.0\n",
      "DAY: 5\t TP: 3\t INF: 0.14\n",
      "DAY: 5\t TP: 4\t INF: 0.0\n",
      "DAY: 5\t TP: 5\t INF: 0.0\n",
      "DAY: 6\t TP: 0\t INF: 0.0\n",
      "DAY: 6\t TP: 1\t INF: 0.0\n",
      "DAY: 6\t TP: 2\t INF: 0.0\n",
      "DAY: 6\t TP: 3\t INF: 0.0\n",
      "[89, 110.36, 136.8464, 169.82953599999996, 210.58862463999995, 261.1298945535999, 324.22106924646386, 402.0341258656152]\n"
     ]
    }
   ],
   "source": [
    "distributor()"
   ]
  },
  {
   "cell_type": "code",
   "execution_count": 489,
   "metadata": {},
   "outputs": [
    {
     "data": {
      "text/plain": [
       "['2020-03-08',\n",
       " '2020-03-09',\n",
       " '2020-03-10',\n",
       " '2020-03-11',\n",
       " '2020-03-12',\n",
       " '2020-03-13',\n",
       " '2020-03-14']"
      ]
     },
     "execution_count": 489,
     "metadata": {},
     "output_type": "execute_result"
    }
   ],
   "source": [
    "dates"
   ]
  },
  {
   "cell_type": "code",
   "execution_count": 512,
   "metadata": {},
   "outputs": [],
   "source": [
    "record = pd.DataFrame(columns = ['2020-03-07'] + dates)"
   ]
  },
  {
   "cell_type": "code",
   "execution_count": 513,
   "metadata": {},
   "outputs": [
    {
     "data": {
      "text/plain": [
       "Index(['2020-03-07', '2020-03-08', '2020-03-09', '2020-03-10', '2020-03-11',\n",
       "       '2020-03-12', '2020-03-13', '2020-03-14'],\n",
       "      dtype='object')"
      ]
     },
     "execution_count": 513,
     "metadata": {},
     "output_type": "execute_result"
    }
   ],
   "source": [
    "record.columns"
   ]
  },
  {
   "cell_type": "code",
   "execution_count": 514,
   "metadata": {},
   "outputs": [],
   "source": [
    "def distributor_ex():\n",
    "    normal_dist = pd1.copy()\n",
    "    # person iteration\n",
    "    record = []\n",
    "    transfer = [1221, 1437, 1312, 1433, 1573, 2254, 1454]\n",
    "    ratio = [0.00134021, 0.00160825, 0.00208247, 0.00226804, 0.00238144, 0.00247423, 0.0025567]\n",
    "    base = [89]\n",
    "    base_ratio = 0.24\n",
    "    for i in range(len(transfer)):\n",
    "        week_t = math.ceil(transfer[i] * ratio[i])\n",
    "        infected = base[i] * (1 + base_ratio)\n",
    "        for j, p in enumerate(range(week_t)):\n",
    "            p_prob = random.uniform(0, 1)\n",
    "            p_r = get_r(normal_dist, p_prob)\n",
    "            # print(f\"DAY: {i}\\t TP: {j}\\t INF: {p_r}\")\n",
    "            infected += p_r\n",
    "        base.append(infected)\n",
    "    return base"
   ]
  },
  {
   "cell_type": "code",
   "execution_count": 515,
   "metadata": {},
   "outputs": [],
   "source": [
    "for idx in range(1000):\n",
    "    record.loc[idx] = distributor_ex()"
   ]
  },
  {
   "cell_type": "code",
   "execution_count": 516,
   "metadata": {},
   "outputs": [
    {
     "data": {
      "text/html": [
       "<div>\n",
       "<style scoped>\n",
       "    .dataframe tbody tr th:only-of-type {\n",
       "        vertical-align: middle;\n",
       "    }\n",
       "\n",
       "    .dataframe tbody tr th {\n",
       "        vertical-align: top;\n",
       "    }\n",
       "\n",
       "    .dataframe thead th {\n",
       "        text-align: right;\n",
       "    }\n",
       "</style>\n",
       "<table border=\"1\" class=\"dataframe\">\n",
       "  <thead>\n",
       "    <tr style=\"text-align: right;\">\n",
       "      <th></th>\n",
       "      <th>2020-03-07</th>\n",
       "      <th>2020-03-08</th>\n",
       "      <th>2020-03-09</th>\n",
       "      <th>2020-03-10</th>\n",
       "      <th>2020-03-11</th>\n",
       "      <th>2020-03-12</th>\n",
       "      <th>2020-03-13</th>\n",
       "      <th>2020-03-14</th>\n",
       "    </tr>\n",
       "  </thead>\n",
       "  <tbody>\n",
       "    <tr>\n",
       "      <th>0</th>\n",
       "      <td>89.0</td>\n",
       "      <td>110.36</td>\n",
       "      <td>136.9864</td>\n",
       "      <td>170.143136</td>\n",
       "      <td>210.977489</td>\n",
       "      <td>261.612086</td>\n",
       "      <td>324.538987</td>\n",
       "      <td>402.428343</td>\n",
       "    </tr>\n",
       "    <tr>\n",
       "      <th>1</th>\n",
       "      <td>89.0</td>\n",
       "      <td>110.36</td>\n",
       "      <td>136.8464</td>\n",
       "      <td>170.109536</td>\n",
       "      <td>211.075825</td>\n",
       "      <td>261.734023</td>\n",
       "      <td>325.250188</td>\n",
       "      <td>403.590233</td>\n",
       "    </tr>\n",
       "    <tr>\n",
       "      <th>2</th>\n",
       "      <td>89.0</td>\n",
       "      <td>110.36</td>\n",
       "      <td>136.9864</td>\n",
       "      <td>170.143136</td>\n",
       "      <td>211.117489</td>\n",
       "      <td>261.785686</td>\n",
       "      <td>324.894251</td>\n",
       "      <td>402.868871</td>\n",
       "    </tr>\n",
       "    <tr>\n",
       "      <th>3</th>\n",
       "      <td>89.0</td>\n",
       "      <td>110.36</td>\n",
       "      <td>136.8464</td>\n",
       "      <td>169.689536</td>\n",
       "      <td>210.415025</td>\n",
       "      <td>261.194631</td>\n",
       "      <td>323.881342</td>\n",
       "      <td>401.612864</td>\n",
       "    </tr>\n",
       "    <tr>\n",
       "      <th>4</th>\n",
       "      <td>89.0</td>\n",
       "      <td>110.64</td>\n",
       "      <td>137.1936</td>\n",
       "      <td>170.120064</td>\n",
       "      <td>210.948879</td>\n",
       "      <td>261.576610</td>\n",
       "      <td>324.354997</td>\n",
       "      <td>402.200196</td>\n",
       "    </tr>\n",
       "  </tbody>\n",
       "</table>\n",
       "</div>"
      ],
      "text/plain": [
       "   2020-03-07  2020-03-08  2020-03-09  2020-03-10  2020-03-11  2020-03-12  \\\n",
       "0        89.0      110.36    136.9864  170.143136  210.977489  261.612086   \n",
       "1        89.0      110.36    136.8464  170.109536  211.075825  261.734023   \n",
       "2        89.0      110.36    136.9864  170.143136  211.117489  261.785686   \n",
       "3        89.0      110.36    136.8464  169.689536  210.415025  261.194631   \n",
       "4        89.0      110.64    137.1936  170.120064  210.948879  261.576610   \n",
       "\n",
       "   2020-03-13  2020-03-14  \n",
       "0  324.538987  402.428343  \n",
       "1  325.250188  403.590233  \n",
       "2  324.894251  402.868871  \n",
       "3  323.881342  401.612864  \n",
       "4  324.354997  402.200196  "
      ]
     },
     "execution_count": 516,
     "metadata": {},
     "output_type": "execute_result"
    }
   ],
   "source": [
    "record.head()"
   ]
  },
  {
   "cell_type": "code",
   "execution_count": 518,
   "metadata": {},
   "outputs": [],
   "source": [
    "rdes = record.describe()"
   ]
  },
  {
   "cell_type": "code",
   "execution_count": 525,
   "metadata": {},
   "outputs": [
    {
     "data": {
      "text/html": [
       "<div>\n",
       "<style scoped>\n",
       "    .dataframe tbody tr th:only-of-type {\n",
       "        vertical-align: middle;\n",
       "    }\n",
       "\n",
       "    .dataframe tbody tr th {\n",
       "        vertical-align: top;\n",
       "    }\n",
       "\n",
       "    .dataframe thead th {\n",
       "        text-align: right;\n",
       "    }\n",
       "</style>\n",
       "<table border=\"1\" class=\"dataframe\">\n",
       "  <thead>\n",
       "    <tr style=\"text-align: right;\">\n",
       "      <th></th>\n",
       "      <th>2020-03-07</th>\n",
       "      <th>2020-03-08</th>\n",
       "      <th>2020-03-09</th>\n",
       "      <th>2020-03-10</th>\n",
       "      <th>2020-03-11</th>\n",
       "      <th>2020-03-12</th>\n",
       "      <th>2020-03-13</th>\n",
       "      <th>2020-03-14</th>\n",
       "    </tr>\n",
       "  </thead>\n",
       "  <tbody>\n",
       "    <tr>\n",
       "      <th>count</th>\n",
       "      <td>1000.0</td>\n",
       "      <td>1000.000000</td>\n",
       "      <td>1000.000000</td>\n",
       "      <td>1000.000000</td>\n",
       "      <td>1000.000000</td>\n",
       "      <td>1000.000000</td>\n",
       "      <td>1000.000000</td>\n",
       "      <td>1000.000000</td>\n",
       "    </tr>\n",
       "    <tr>\n",
       "      <th>mean</th>\n",
       "      <td>89.0</td>\n",
       "      <td>110.435560</td>\n",
       "      <td>137.045244</td>\n",
       "      <td>170.030203</td>\n",
       "      <td>210.967702</td>\n",
       "      <td>261.739060</td>\n",
       "      <td>324.767295</td>\n",
       "      <td>402.857235</td>\n",
       "    </tr>\n",
       "    <tr>\n",
       "      <th>std</th>\n",
       "      <td>0.0</td>\n",
       "      <td>0.393023</td>\n",
       "      <td>0.548909</td>\n",
       "      <td>0.722698</td>\n",
       "      <td>0.946881</td>\n",
       "      <td>1.238768</td>\n",
       "      <td>1.595274</td>\n",
       "      <td>2.010423</td>\n",
       "    </tr>\n",
       "    <tr>\n",
       "      <th>min</th>\n",
       "      <td>89.0</td>\n",
       "      <td>110.360000</td>\n",
       "      <td>136.846400</td>\n",
       "      <td>169.689536</td>\n",
       "      <td>210.415025</td>\n",
       "      <td>260.914631</td>\n",
       "      <td>323.534142</td>\n",
       "      <td>401.182336</td>\n",
       "    </tr>\n",
       "    <tr>\n",
       "      <th>25%</th>\n",
       "      <td>89.0</td>\n",
       "      <td>110.360000</td>\n",
       "      <td>136.846400</td>\n",
       "      <td>169.689536</td>\n",
       "      <td>210.555025</td>\n",
       "      <td>261.129895</td>\n",
       "      <td>323.951749</td>\n",
       "      <td>401.808027</td>\n",
       "    </tr>\n",
       "    <tr>\n",
       "      <th>50%</th>\n",
       "      <td>89.0</td>\n",
       "      <td>110.360000</td>\n",
       "      <td>136.846400</td>\n",
       "      <td>169.863136</td>\n",
       "      <td>210.762225</td>\n",
       "      <td>261.448485</td>\n",
       "      <td>324.412964</td>\n",
       "      <td>402.415152</td>\n",
       "    </tr>\n",
       "    <tr>\n",
       "      <th>75%</th>\n",
       "      <td>89.0</td>\n",
       "      <td>110.360000</td>\n",
       "      <td>137.046600</td>\n",
       "      <td>170.120064</td>\n",
       "      <td>211.113116</td>\n",
       "      <td>261.930677</td>\n",
       "      <td>325.010555</td>\n",
       "      <td>403.186854</td>\n",
       "    </tr>\n",
       "    <tr>\n",
       "      <th>max</th>\n",
       "      <td>89.0</td>\n",
       "      <td>117.640000</td>\n",
       "      <td>145.873600</td>\n",
       "      <td>180.883264</td>\n",
       "      <td>224.715247</td>\n",
       "      <td>278.646907</td>\n",
       "      <td>346.008836</td>\n",
       "      <td>429.190957</td>\n",
       "    </tr>\n",
       "  </tbody>\n",
       "</table>\n",
       "</div>"
      ],
      "text/plain": [
       "       2020-03-07   2020-03-08   2020-03-09   2020-03-10   2020-03-11  \\\n",
       "count      1000.0  1000.000000  1000.000000  1000.000000  1000.000000   \n",
       "mean         89.0   110.435560   137.045244   170.030203   210.967702   \n",
       "std           0.0     0.393023     0.548909     0.722698     0.946881   \n",
       "min          89.0   110.360000   136.846400   169.689536   210.415025   \n",
       "25%          89.0   110.360000   136.846400   169.689536   210.555025   \n",
       "50%          89.0   110.360000   136.846400   169.863136   210.762225   \n",
       "75%          89.0   110.360000   137.046600   170.120064   211.113116   \n",
       "max          89.0   117.640000   145.873600   180.883264   224.715247   \n",
       "\n",
       "        2020-03-12   2020-03-13   2020-03-14  \n",
       "count  1000.000000  1000.000000  1000.000000  \n",
       "mean    261.739060   324.767295   402.857235  \n",
       "std       1.238768     1.595274     2.010423  \n",
       "min     260.914631   323.534142   401.182336  \n",
       "25%     261.129895   323.951749   401.808027  \n",
       "50%     261.448485   324.412964   402.415152  \n",
       "75%     261.930677   325.010555   403.186854  \n",
       "max     278.646907   346.008836   429.190957  "
      ]
     },
     "execution_count": 525,
     "metadata": {},
     "output_type": "execute_result"
    }
   ],
   "source": [
    "rdes"
   ]
  },
  {
   "cell_type": "code",
   "execution_count": 520,
   "metadata": {},
   "outputs": [
    {
     "data": {
      "text/plain": [
       "<matplotlib.axes._subplots.AxesSubplot at 0x7f8705832b70>"
      ]
     },
     "execution_count": 520,
     "metadata": {},
     "output_type": "execute_result"
    },
    {
     "data": {
      "image/png": "[encoded data removed]",
      "text/plain": [
       "<Figure size 432x288 with 1 Axes>"
      ]
     },
     "metadata": {
      "needs_background": "light"
     },
     "output_type": "display_data"
    }
   ],
   "source": [
    "rdes.loc['mean'].plot()"
   ]
  },
  {
   "cell_type": "code",
   "execution_count": 553,
   "metadata": {},
   "outputs": [
    {
     "data": {
      "image/png": "[encoded data removed]",
      "text/plain": [
       "<Figure size 432x288 with 1 Axes>"
      ]
     },
     "metadata": {
      "needs_background": "light"
     },
     "output_type": "display_data"
    }
   ],
   "source": [
    "plt.figure()\n",
    "rdes.loc['min'].plot(color=\"red\")\n",
    "rdes.loc['25%'].plot(color=\"yellow\", linestyle=\"--\")\n",
    "rdes.loc['mean'].plot(color=\"green\")\n",
    "rdes.loc['75%'].plot(color=\"blue\", linestyle=\"--\")\n",
    "rdes.loc['max'].plot(color=\"purple\")\n",
    "plt.xticks(\n",
    "    rotation=45, \n",
    "    horizontalalignment='right',\n",
    "    fontweight='light',\n",
    "    fontsize='medium'  \n",
    ")\n",
    "plt.title('날짜별 누적 확진자수')\n",
    "plt.xlabel('날짜')\n",
    "plt.ylabel('누적 확진자수')\n",
    "plt.legend()\n",
    "plt.tight_layout()\n",
    "plt.savefig('./result1')\n",
    "plt.show()"
   ]
  },
  {
   "cell_type": "code",
   "execution_count": 531,
   "metadata": {},
   "outputs": [],
   "source": [
    "strip = [89,0,0,0,0,0,0,0]\n",
    "for i in range(7):\n",
    "    strip[i+1] = strip[i] * 1.24"
   ]
  },
  {
   "cell_type": "code",
   "execution_count": 532,
   "metadata": {},
   "outputs": [
    {
     "name": "stdout",
     "output_type": "stream",
     "text": [
      "[89, 110.36, 136.8464, 169.68953599999998, 210.41502463999996, 260.9146305535999, 323.5341418864639, 401.1823359392152]\n"
     ]
    }
   ],
   "source": [
    "print(strip)"
   ]
  },
  {
   "cell_type": "code",
   "execution_count": 541,
   "metadata": {},
   "outputs": [],
   "source": [
    "rdestrip = rdes.copy()"
   ]
  },
  {
   "cell_type": "code",
   "execution_count": 542,
   "metadata": {},
   "outputs": [
    {
     "data": {
      "text/plain": [
       "Index(['count', 'mean', 'std', 'min', '25%', '50%', '75%', 'max'], dtype='object')"
      ]
     },
     "execution_count": 542,
     "metadata": {},
     "output_type": "execute_result"
    }
   ],
   "source": [
    "rdestrip.index"
   ]
  },
  {
   "cell_type": "code",
   "execution_count": 543,
   "metadata": {},
   "outputs": [],
   "source": [
    "for idxs in rdestrip.index.tolist():\n",
    "    rdestrip.loc[idxs] = rdes.loc[idxs].values - np.array(strip)"
   ]
  },
  {
   "cell_type": "code",
   "execution_count": 544,
   "metadata": {},
   "outputs": [],
   "source": [
    "a = np.array([1,2,3])\n",
    "b = np.array([1,0,1])"
   ]
  },
  {
   "cell_type": "code",
   "execution_count": 545,
   "metadata": {},
   "outputs": [
    {
     "name": "stdout",
     "output_type": "stream",
     "text": [
      "[0 2 2]\n"
     ]
    }
   ],
   "source": [
    "print(a-b)"
   ]
  },
  {
   "cell_type": "code",
   "execution_count": 546,
   "metadata": {},
   "outputs": [
    {
     "data": {
      "text/html": [
       "<div>\n",
       "<style scoped>\n",
       "    .dataframe tbody tr th:only-of-type {\n",
       "        vertical-align: middle;\n",
       "    }\n",
       "\n",
       "    .dataframe tbody tr th {\n",
       "        vertical-align: top;\n",
       "    }\n",
       "\n",
       "    .dataframe thead th {\n",
       "        text-align: right;\n",
       "    }\n",
       "</style>\n",
       "<table border=\"1\" class=\"dataframe\">\n",
       "  <thead>\n",
       "    <tr style=\"text-align: right;\">\n",
       "      <th></th>\n",
       "      <th>2020-03-07</th>\n",
       "      <th>2020-03-08</th>\n",
       "      <th>2020-03-09</th>\n",
       "      <th>2020-03-10</th>\n",
       "      <th>2020-03-11</th>\n",
       "      <th>2020-03-12</th>\n",
       "      <th>2020-03-13</th>\n",
       "      <th>2020-03-14</th>\n",
       "    </tr>\n",
       "  </thead>\n",
       "  <tbody>\n",
       "    <tr>\n",
       "      <th>count</th>\n",
       "      <td>911.0</td>\n",
       "      <td>889.640000</td>\n",
       "      <td>863.153600</td>\n",
       "      <td>830.310464</td>\n",
       "      <td>789.584975</td>\n",
       "      <td>739.085369</td>\n",
       "      <td>676.465858</td>\n",
       "      <td>598.817664</td>\n",
       "    </tr>\n",
       "    <tr>\n",
       "      <th>mean</th>\n",
       "      <td>0.0</td>\n",
       "      <td>0.075560</td>\n",
       "      <td>0.198844</td>\n",
       "      <td>0.340667</td>\n",
       "      <td>0.552677</td>\n",
       "      <td>0.824430</td>\n",
       "      <td>1.233153</td>\n",
       "      <td>1.674899</td>\n",
       "    </tr>\n",
       "    <tr>\n",
       "      <th>std</th>\n",
       "      <td>-89.0</td>\n",
       "      <td>-109.966977</td>\n",
       "      <td>-136.297491</td>\n",
       "      <td>-168.966838</td>\n",
       "      <td>-209.468143</td>\n",
       "      <td>-259.675862</td>\n",
       "      <td>-321.938868</td>\n",
       "      <td>-399.171913</td>\n",
       "    </tr>\n",
       "    <tr>\n",
       "      <th>min</th>\n",
       "      <td>0.0</td>\n",
       "      <td>0.000000</td>\n",
       "      <td>0.000000</td>\n",
       "      <td>0.000000</td>\n",
       "      <td>0.000000</td>\n",
       "      <td>0.000000</td>\n",
       "      <td>0.000000</td>\n",
       "      <td>0.000000</td>\n",
       "    </tr>\n",
       "    <tr>\n",
       "      <th>25%</th>\n",
       "      <td>0.0</td>\n",
       "      <td>0.000000</td>\n",
       "      <td>0.000000</td>\n",
       "      <td>0.000000</td>\n",
       "      <td>0.140000</td>\n",
       "      <td>0.215264</td>\n",
       "      <td>0.417607</td>\n",
       "      <td>0.625692</td>\n",
       "    </tr>\n",
       "    <tr>\n",
       "      <th>50%</th>\n",
       "      <td>0.0</td>\n",
       "      <td>0.000000</td>\n",
       "      <td>0.000000</td>\n",
       "      <td>0.173600</td>\n",
       "      <td>0.347200</td>\n",
       "      <td>0.533855</td>\n",
       "      <td>0.878822</td>\n",
       "      <td>1.232816</td>\n",
       "    </tr>\n",
       "    <tr>\n",
       "      <th>75%</th>\n",
       "      <td>0.0</td>\n",
       "      <td>0.000000</td>\n",
       "      <td>0.200200</td>\n",
       "      <td>0.430528</td>\n",
       "      <td>0.698092</td>\n",
       "      <td>1.016046</td>\n",
       "      <td>1.476413</td>\n",
       "      <td>2.004518</td>\n",
       "    </tr>\n",
       "    <tr>\n",
       "      <th>max</th>\n",
       "      <td>0.0</td>\n",
       "      <td>7.280000</td>\n",
       "      <td>9.027200</td>\n",
       "      <td>11.193728</td>\n",
       "      <td>14.300223</td>\n",
       "      <td>17.732276</td>\n",
       "      <td>22.474694</td>\n",
       "      <td>28.008621</td>\n",
       "    </tr>\n",
       "  </tbody>\n",
       "</table>\n",
       "</div>"
      ],
      "text/plain": [
       "       2020-03-07  2020-03-08  2020-03-09  2020-03-10  2020-03-11  2020-03-12  \\\n",
       "count       911.0  889.640000  863.153600  830.310464  789.584975  739.085369   \n",
       "mean          0.0    0.075560    0.198844    0.340667    0.552677    0.824430   \n",
       "std         -89.0 -109.966977 -136.297491 -168.966838 -209.468143 -259.675862   \n",
       "min           0.0    0.000000    0.000000    0.000000    0.000000    0.000000   \n",
       "25%           0.0    0.000000    0.000000    0.000000    0.140000    0.215264   \n",
       "50%           0.0    0.000000    0.000000    0.173600    0.347200    0.533855   \n",
       "75%           0.0    0.000000    0.200200    0.430528    0.698092    1.016046   \n",
       "max           0.0    7.280000    9.027200   11.193728   14.300223   17.732276   \n",
       "\n",
       "       2020-03-13  2020-03-14  \n",
       "count  676.465858  598.817664  \n",
       "mean     1.233153    1.674899  \n",
       "std   -321.938868 -399.171913  \n",
       "min      0.000000    0.000000  \n",
       "25%      0.417607    0.625692  \n",
       "50%      0.878822    1.232816  \n",
       "75%      1.476413    2.004518  \n",
       "max     22.474694   28.008621  "
      ]
     },
     "execution_count": 546,
     "metadata": {},
     "output_type": "execute_result"
    }
   ],
   "source": [
    "rdestrip"
   ]
  },
  {
   "cell_type": "code",
   "execution_count": 552,
   "metadata": {},
   "outputs": [
    {
     "data": {
      "image/png": "[encoded data removed]",
      "text/plain": [
       "<Figure size 432x288 with 1 Axes>"
      ]
     },
     "metadata": {
      "needs_background": "light"
     },
     "output_type": "display_data"
    }
   ],
   "source": [
    "plt.figure()\n",
    "rdestrip.loc['min'].plot(color=\"red\")\n",
    "rdestrip.loc['25%'].plot(color=\"yellow\", linestyle=\"--\")\n",
    "rdestrip.loc['mean'].plot(color=\"green\")\n",
    "rdestrip.loc['75%'].plot(color=\"blue\", linestyle=\"--\")\n",
    "rdestrip.loc['max'].plot(color=\"purple\")\n",
    "plt.xticks(\n",
    "    rotation=45, \n",
    "    horizontalalignment='right',\n",
    "    fontweight='light',\n",
    "    fontsize='medium'  \n",
    ")\n",
    "plt.title('날짜별 확진자 증가량')\n",
    "plt.xlabel('날짜')\n",
    "plt.ylabel('누적 확진자 증가량')\n",
    "plt.legend()\n",
    "plt.tight_layout()\n",
    "plt.savefig('./result2')\n",
    "plt.show()"
   ]
  },
  {
   "cell_type": "code",
   "execution_count": null,
   "metadata": {},
   "outputs": [],
   "source": []
  }
 ],
 "metadata": {
  "kernelspec": {
   "display_name": "Python 3",
   "language": "python",
   "name": "python3"
  },
  "language_info": {
   "codemirror_mode": {
    "name": "ipython",
    "version": 3
   },
   "file_extension": ".py",
   "mimetype": "text/x-python",
   "name": "python",
   "nbconvert_exporter": "python",
   "pygments_lexer": "ipython3",
   "version": "3.7.6"
  }
 },
 "nbformat": 4,
 "nbformat_minor": 4
}
