{
 "cells": [
  {
   "cell_type": "code",
   "execution_count": 1,
   "metadata": {},
   "outputs": [],
   "source": [
    "import pandas as pd\n",
    "import numpy as np\n",
    "import matplotlib.pyplot as plt\n",
    "from utils import *"
   ]
  },
  {
   "cell_type": "markdown",
   "metadata": {},
   "source": [
    "경부선\n",
    "\n",
    "- 행신, 서울, 영등포, 광명, 천안아산, 수원, 오송, 대전, 김천(구미), 동대구, 신경주, 포항, 울산, 밀양, 구포, 부산\n",
    "\n",
    "호남선\n",
    "\n",
    "- 행신, 용산, 광명, 천안아산, 오송, 공주, 서대전, 계룡, 논산, 익산, 정읍, 광주송정, 나주, 목포\n",
    "\n",
    "경전선\n",
    "\n",
    "- 행신, 서울, 광병, 천안아산, 오송, 대전, 김천(구미), 동대구, 밀양, 진영, 창원중앙, 창원, 마산, 진주\n",
    "    - 밀양까지는 경부선과 동일\n",
    "\n",
    "전라선\n",
    "\n",
    "- 행신, 용산, 광명, 천안아산, 오송, 공주, 서대전, 계룡, 익산, 전주, 남원, 곡성,구례구, 순천, 여천, 여수엑스포\n",
    "    - 익산까지는 호남선과 동일\n"
   ]
  },
  {
   "cell_type": "code",
   "execution_count": 2,
   "metadata": {},
   "outputs": [],
   "source": [
    "korail = pd.read_csv('./KR_TB_TR_STN_DAY_CON_20200101_20200531_UTF8.csv')"
   ]
  },
  {
   "cell_type": "code",
   "execution_count": 3,
   "metadata": {},
   "outputs": [
    {
     "data": {
      "text/html": [
       "<div>\n",
       "<style scoped>\n",
       "    .dataframe tbody tr th:only-of-type {\n",
       "        vertical-align: middle;\n",
       "    }\n",
       "\n",
       "    .dataframe tbody tr th {\n",
       "        vertical-align: top;\n",
       "    }\n",
       "\n",
       "    .dataframe thead th {\n",
       "        text-align: right;\n",
       "    }\n",
       "</style>\n",
       "<table border=\"1\" class=\"dataframe\">\n",
       "  <thead>\n",
       "    <tr style=\"text-align: right;\">\n",
       "      <th></th>\n",
       "      <th>RUN_DT</th>\n",
       "      <th>STN_CD</th>\n",
       "      <th>STN_CD_NM</th>\n",
       "      <th>ABRD_PRNB</th>\n",
       "      <th>GOFF_PRNB</th>\n",
       "    </tr>\n",
       "  </thead>\n",
       "  <tbody>\n",
       "    <tr>\n",
       "      <th>0</th>\n",
       "      <td>20200101</td>\n",
       "      <td>924</td>\n",
       "      <td>송도교</td>\n",
       "      <td>2</td>\n",
       "      <td>-</td>\n",
       "    </tr>\n",
       "    <tr>\n",
       "      <th>1</th>\n",
       "      <td>20200101</td>\n",
       "      <td>3900023</td>\n",
       "      <td>서울</td>\n",
       "      <td>38,306</td>\n",
       "      <td>50,440</td>\n",
       "    </tr>\n",
       "    <tr>\n",
       "      <th>2</th>\n",
       "      <td>20200101</td>\n",
       "      <td>3900025</td>\n",
       "      <td>용산</td>\n",
       "      <td>19,702</td>\n",
       "      <td>23,967</td>\n",
       "    </tr>\n",
       "    <tr>\n",
       "      <th>3</th>\n",
       "      <td>20200101</td>\n",
       "      <td>3900030</td>\n",
       "      <td>영등포</td>\n",
       "      <td>10,812</td>\n",
       "      <td>11,125</td>\n",
       "    </tr>\n",
       "    <tr>\n",
       "      <th>4</th>\n",
       "      <td>20200101</td>\n",
       "      <td>3900039</td>\n",
       "      <td>안양</td>\n",
       "      <td>387</td>\n",
       "      <td>269</td>\n",
       "    </tr>\n",
       "  </tbody>\n",
       "</table>\n",
       "</div>"
      ],
      "text/plain": [
       "     RUN_DT   STN_CD STN_CD_NM  ABRD_PRNB   GOFF_PRNB \n",
       "0  20200101      924       송도교          2           - \n",
       "1  20200101  3900023        서울     38,306      50,440 \n",
       "2  20200101  3900025        용산     19,702      23,967 \n",
       "3  20200101  3900030       영등포     10,812      11,125 \n",
       "4  20200101  3900039        안양        387         269 "
      ]
     },
     "execution_count": 3,
     "metadata": {},
     "output_type": "execute_result"
    }
   ],
   "source": [
    "korail.head()"
   ]
  },
  {
   "cell_type": "code",
   "execution_count": 5,
   "metadata": {},
   "outputs": [
    {
     "data": {
      "text/html": [
       "<div>\n",
       "<style scoped>\n",
       "    .dataframe tbody tr th:only-of-type {\n",
       "        vertical-align: middle;\n",
       "    }\n",
       "\n",
       "    .dataframe tbody tr th {\n",
       "        vertical-align: top;\n",
       "    }\n",
       "\n",
       "    .dataframe thead th {\n",
       "        text-align: right;\n",
       "    }\n",
       "</style>\n",
       "<table border=\"1\" class=\"dataframe\">\n",
       "  <thead>\n",
       "    <tr style=\"text-align: right;\">\n",
       "      <th></th>\n",
       "      <th>date</th>\n",
       "      <th>sid</th>\n",
       "      <th>station</th>\n",
       "      <th>on</th>\n",
       "      <th>off</th>\n",
       "    </tr>\n",
       "  </thead>\n",
       "  <tbody>\n",
       "    <tr>\n",
       "      <th>35035</th>\n",
       "      <td>20200531</td>\n",
       "      <td>3901063</td>\n",
       "      <td>인천공항T2</td>\n",
       "      <td>1</td>\n",
       "      <td>-</td>\n",
       "    </tr>\n",
       "    <tr>\n",
       "      <th>35036</th>\n",
       "      <td>20200531</td>\n",
       "      <td>3901065</td>\n",
       "      <td>월포</td>\n",
       "      <td>31</td>\n",
       "      <td>14</td>\n",
       "    </tr>\n",
       "    <tr>\n",
       "      <th>35037</th>\n",
       "      <td>20200531</td>\n",
       "      <td>3901066</td>\n",
       "      <td>장사</td>\n",
       "      <td>5</td>\n",
       "      <td>6</td>\n",
       "    </tr>\n",
       "    <tr>\n",
       "      <th>35038</th>\n",
       "      <td>20200531</td>\n",
       "      <td>3901067</td>\n",
       "      <td>강구</td>\n",
       "      <td>33</td>\n",
       "      <td>9</td>\n",
       "    </tr>\n",
       "    <tr>\n",
       "      <th>35039</th>\n",
       "      <td>20200531</td>\n",
       "      <td>3901068</td>\n",
       "      <td>영덕</td>\n",
       "      <td>108</td>\n",
       "      <td>119</td>\n",
       "    </tr>\n",
       "  </tbody>\n",
       "</table>\n",
       "</div>"
      ],
      "text/plain": [
       "           date      sid station     on    off\n",
       "35035  20200531  3901063  인천공항T2     1      - \n",
       "35036  20200531  3901065      월포    31     14 \n",
       "35037  20200531  3901066      장사     5      6 \n",
       "35038  20200531  3901067      강구    33      9 \n",
       "35039  20200531  3901068      영덕   108    119 "
      ]
     },
     "execution_count": 5,
     "metadata": {},
     "output_type": "execute_result"
    }
   ],
   "source": [
    "korail.tail()"
   ]
  },
  {
   "cell_type": "code",
   "execution_count": 4,
   "metadata": {},
   "outputs": [],
   "source": [
    "korail.columns = ['date', 'sid', 'station', 'on', 'off']"
   ]
  },
  {
   "cell_type": "code",
   "execution_count": 6,
   "metadata": {},
   "outputs": [
    {
     "data": {
      "text/plain": [
       "243"
      ]
     },
     "execution_count": 6,
     "metadata": {},
     "output_type": "execute_result"
    }
   ],
   "source": [
    "korail.station.nunique()"
   ]
  },
  {
   "cell_type": "code",
   "execution_count": null,
   "metadata": {},
   "outputs": [],
   "source": []
  },
  {
   "cell_type": "code",
   "execution_count": 7,
   "metadata": {},
   "outputs": [],
   "source": [
    "gyeongbu = ['행신', '서울', '영등포', '광명', '천안아산', '수원', '오송', '대전', '김천구미', '동대구', '신경주', '포항', '울산', '밀양', '구포', '부산']"
   ]
  },
  {
   "cell_type": "code",
   "execution_count": null,
   "metadata": {},
   "outputs": [],
   "source": [
    "honam = ['행신', '용산', '광명', '천안아산', '오송', '공주', '서대전', '계룡', '논산', '익산', '정읍', '광주송정', '나주', '목포']"
   ]
  },
  {
   "cell_type": "markdown",
   "metadata": {},
   "source": [
    "line = gyeongbu.copy()"
   ]
  },
  {
   "cell_type": "markdown",
   "metadata": {},
   "source": [
    "일부역은 on, off 가 없는 역도 있으므로, 미리 역을 뽑아서 설정"
   ]
  },
  {
   "cell_type": "code",
   "execution_count": 8,
   "metadata": {},
   "outputs": [],
   "source": [
    "korail = korail[korail.station.isin(gyeongbu)]"
   ]
  },
  {
   "cell_type": "code",
   "execution_count": 9,
   "metadata": {},
   "outputs": [],
   "source": [
    "korail.date = korail.date.apply(lambda x: pd.to_datetime(str(x), format='%Y-%m-%d', errors='coerce'))"
   ]
  },
  {
   "cell_type": "code",
   "execution_count": 10,
   "metadata": {},
   "outputs": [],
   "source": [
    "korail.on = korail.on.apply(lambda x: int(float(x.replace(',', ''))))\n",
    "korail.off = korail.off.apply(lambda x: int(float(x.replace(',', ''))))"
   ]
  },
  {
   "cell_type": "code",
   "execution_count": 11,
   "metadata": {},
   "outputs": [
    {
     "name": "stdout",
     "output_type": "stream",
     "text": [
      "<class 'pandas.core.frame.DataFrame'>\n",
      "Int64Index: 2432 entries, 1 to 35030\n",
      "Data columns (total 5 columns):\n",
      " #   Column   Non-Null Count  Dtype         \n",
      "---  ------   --------------  -----         \n",
      " 0   date     2432 non-null   datetime64[ns]\n",
      " 1   sid      2432 non-null   int64         \n",
      " 2   station  2432 non-null   object        \n",
      " 3   on       2432 non-null   int64         \n",
      " 4   off      2432 non-null   int64         \n",
      "dtypes: datetime64[ns](1), int64(3), object(1)\n",
      "memory usage: 114.0+ KB\n"
     ]
    }
   ],
   "source": [
    "korail.info()"
   ]
  },
  {
   "cell_type": "code",
   "execution_count": 12,
   "metadata": {},
   "outputs": [
    {
     "data": {
      "text/plain": [
       "16"
      ]
     },
     "execution_count": 12,
     "metadata": {},
     "output_type": "execute_result"
    }
   ],
   "source": [
    "len(korail.station.unique())"
   ]
  },
  {
   "cell_type": "code",
   "execution_count": 13,
   "metadata": {},
   "outputs": [],
   "source": [
    "korail = korail.loc[(korail.date > '2020-03-07') & (korail.date <= '2020-03-14')] # 2nd week of March"
   ]
  },
  {
   "cell_type": "code",
   "execution_count": 14,
   "metadata": {},
   "outputs": [
    {
     "data": {
      "text/plain": [
       "array(['2020-03-08T00:00:00.000000000', '2020-03-09T00:00:00.000000000',\n",
       "       '2020-03-10T00:00:00.000000000', '2020-03-11T00:00:00.000000000',\n",
       "       '2020-03-12T00:00:00.000000000', '2020-03-13T00:00:00.000000000',\n",
       "       '2020-03-14T00:00:00.000000000'], dtype='datetime64[ns]')"
      ]
     },
     "execution_count": 14,
     "metadata": {},
     "output_type": "execute_result"
    }
   ],
   "source": [
    "korail.date.unique()"
   ]
  },
  {
   "cell_type": "code",
   "execution_count": 22,
   "metadata": {},
   "outputs": [],
   "source": [
    "ko_temp = korail[korail.date == '2020-03-09']"
   ]
  },
  {
   "cell_type": "code",
   "execution_count": 23,
   "metadata": {},
   "outputs": [],
   "source": [
    "down = {gb : None for gb in gyeongbu}\n",
    "up = {bg : None for bg in list(reversed(gyeongbu))}"
   ]
  },
  {
   "cell_type": "code",
   "execution_count": 24,
   "metadata": {},
   "outputs": [
    {
     "name": "stdout",
     "output_type": "stream",
     "text": [
      "['행신', '서울', '영등포', '광명', '천안아산', '수원', '오송', '대전', '김천구미', '동대구', '신경주', '포항', '울산', '밀양', '구포', '부산']\n"
     ]
    }
   ],
   "source": [
    "print(list(down.keys()))"
   ]
  },
  {
   "cell_type": "code",
   "execution_count": 25,
   "metadata": {},
   "outputs": [],
   "source": [
    "for i in range(0, len(gyeongbu)):\n",
    "    temp = {}\n",
    "    on = int(ko_temp[ko_temp.station == gyeongbu[i]]['on'].values[0])\n",
    "    # calculate total off\n",
    "    total_off = 0\n",
    "    for j in range(i+1, len(gyeongbu)):\n",
    "#         print(gyeongbu[j])\n",
    "        total_off += int(ko_temp[ko_temp.station == gyeongbu[j]]['off'].values[0])\n",
    "#     print(\"-\"*20)\n",
    "#     print(f\"total {total_off}\")\n",
    "    # get ratio for each off stations\n",
    "    for j in range(i+1, len(gyeongbu)):\n",
    "        ratio = int(ko_temp[ko_temp.station == gyeongbu[j]]['off'].values[0]) / total_off\n",
    "        temp[gyeongbu[j]] = round(on * ratio)\n",
    "#     print(temp)\n",
    "#     break\n",
    "    down[gyeongbu[i]] = temp.copy()"
   ]
  },
  {
   "cell_type": "code",
   "execution_count": 26,
   "metadata": {},
   "outputs": [
    {
     "data": {
      "text/plain": [
       "{'영등포': 1896,\n",
       " '광명': 1554,\n",
       " '천안아산': 1372,\n",
       " '수원': 2588,\n",
       " '오송': 1449,\n",
       " '대전': 2435,\n",
       " '김천구미': 256,\n",
       " '동대구': 1219,\n",
       " '신경주': 114,\n",
       " '포항': 255,\n",
       " '울산': 535,\n",
       " '밀양': 361,\n",
       " '구포': 416,\n",
       " '부산': 1437}"
      ]
     },
     "execution_count": 26,
     "metadata": {},
     "output_type": "execute_result"
    }
   ],
   "source": [
    "down['서울']"
   ]
  },
  {
   "cell_type": "code",
   "execution_count": 62,
   "metadata": {},
   "outputs": [
    {
     "data": {
      "text/plain": [
       "11169"
      ]
     },
     "execution_count": 62,
     "metadata": {},
     "output_type": "execute_result"
    }
   ],
   "source": [
    "sum(down['서울'].values())"
   ]
  },
  {
   "cell_type": "code",
   "execution_count": 63,
   "metadata": {},
   "outputs": [
    {
     "data": {
      "text/plain": [
       "15590    11169\n",
       "Name: on, dtype: int64"
      ]
     },
     "execution_count": 63,
     "metadata": {},
     "output_type": "execute_result"
    }
   ],
   "source": [
    "ko_temp[ko_temp.station == '서울'].on"
   ]
  },
  {
   "cell_type": "markdown",
   "metadata": {},
   "source": [
    "함수제작"
   ]
  },
  {
   "cell_type": "code",
   "execution_count": 70,
   "metadata": {},
   "outputs": [],
   "source": [
    "stacks = pd.DataFrame(columns = ['날짜'] + list(down['서울'].keys()))"
   ]
  },
  {
   "cell_type": "code",
   "execution_count": 71,
   "metadata": {},
   "outputs": [
    {
     "data": {
      "text/html": [
       "<div>\n",
       "<style scoped>\n",
       "    .dataframe tbody tr th:only-of-type {\n",
       "        vertical-align: middle;\n",
       "    }\n",
       "\n",
       "    .dataframe tbody tr th {\n",
       "        vertical-align: top;\n",
       "    }\n",
       "\n",
       "    .dataframe thead th {\n",
       "        text-align: right;\n",
       "    }\n",
       "</style>\n",
       "<table border=\"1\" class=\"dataframe\">\n",
       "  <thead>\n",
       "    <tr style=\"text-align: right;\">\n",
       "      <th></th>\n",
       "      <th>날짜</th>\n",
       "      <th>영등포</th>\n",
       "      <th>광명</th>\n",
       "      <th>천안아산</th>\n",
       "      <th>수원</th>\n",
       "      <th>오송</th>\n",
       "      <th>대전</th>\n",
       "      <th>김천구미</th>\n",
       "      <th>동대구</th>\n",
       "      <th>신경주</th>\n",
       "      <th>포항</th>\n",
       "      <th>울산</th>\n",
       "      <th>밀양</th>\n",
       "      <th>구포</th>\n",
       "      <th>부산</th>\n",
       "    </tr>\n",
       "  </thead>\n",
       "  <tbody>\n",
       "  </tbody>\n",
       "</table>\n",
       "</div>"
      ],
      "text/plain": [
       "Empty DataFrame\n",
       "Columns: [날짜, 영등포, 광명, 천안아산, 수원, 오송, 대전, 김천구미, 동대구, 신경주, 포항, 울산, 밀양, 구포, 부산]\n",
       "Index: []"
      ]
     },
     "execution_count": 71,
     "metadata": {},
     "output_type": "execute_result"
    }
   ],
   "source": [
    "stacks"
   ]
  },
  {
   "cell_type": "code",
   "execution_count": 72,
   "metadata": {},
   "outputs": [
    {
     "data": {
      "text/plain": [
       "array(['2020-03-08T00:00:00.000000000', '2020-03-09T00:00:00.000000000',\n",
       "       '2020-03-10T00:00:00.000000000', '2020-03-11T00:00:00.000000000',\n",
       "       '2020-03-12T00:00:00.000000000', '2020-03-13T00:00:00.000000000',\n",
       "       '2020-03-14T00:00:00.000000000'], dtype='datetime64[ns]')"
      ]
     },
     "execution_count": 72,
     "metadata": {},
     "output_type": "execute_result"
    }
   ],
   "source": [
    "korail.date.unique()"
   ]
  },
  {
   "cell_type": "code",
   "execution_count": 73,
   "metadata": {},
   "outputs": [
    {
     "name": "stdout",
     "output_type": "stream",
     "text": [
      "0\t 2020-03-08T00:00:00.000000000\n",
      "1\t 2020-03-09T00:00:00.000000000\n",
      "2\t 2020-03-10T00:00:00.000000000\n",
      "3\t 2020-03-11T00:00:00.000000000\n",
      "4\t 2020-03-12T00:00:00.000000000\n",
      "5\t 2020-03-13T00:00:00.000000000\n",
      "6\t 2020-03-14T00:00:00.000000000\n"
     ]
    }
   ],
   "source": [
    "for k, d in enumerate(korail.date.unique()):\n",
    "    print(f\"{k}\\t {d}\")\n",
    "    obs = []\n",
    "    ko_temp = korail[korail.date == d]\n",
    "#     print(ko_temp)\n",
    "    obs.append(d)\n",
    "    down = {gb : None for gb in gyeongbu}\n",
    "    for i in range(0, len(gyeongbu)):\n",
    "        temp = {}\n",
    "        on = int(ko_temp[ko_temp.station == gyeongbu[i]]['on'].values[0])\n",
    "        # calculate total off\n",
    "        total_off = 0\n",
    "        for j in range(i+1, len(gyeongbu)):\n",
    "            total_off += int(ko_temp[ko_temp.station == gyeongbu[j]]['off'].values[0])\n",
    "        # get ratio for each off stations\n",
    "        for j in range(i+1, len(gyeongbu)):\n",
    "            ratio = int(ko_temp[ko_temp.station == gyeongbu[j]]['off'].values[0]) / total_off\n",
    "            temp[gyeongbu[j]] = round(on * ratio)\n",
    "        down[gyeongbu[i]] = temp.copy()\n",
    "    for s in list(down['서울'].keys()):\n",
    "        obs.append(down['서울'][s])\n",
    "    stacks.loc[k] = obs.copy()"
   ]
  },
  {
   "cell_type": "code",
   "execution_count": 74,
   "metadata": {},
   "outputs": [],
   "source": [
    "stacks['날짜'] = stacks['날짜'].dt.strftime('%Y-%m-%d')"
   ]
  },
  {
   "cell_type": "code",
   "execution_count": 75,
   "metadata": {},
   "outputs": [
    {
     "data": {
      "text/html": [
       "<div>\n",
       "<style scoped>\n",
       "    .dataframe tbody tr th:only-of-type {\n",
       "        vertical-align: middle;\n",
       "    }\n",
       "\n",
       "    .dataframe tbody tr th {\n",
       "        vertical-align: top;\n",
       "    }\n",
       "\n",
       "    .dataframe thead th {\n",
       "        text-align: right;\n",
       "    }\n",
       "</style>\n",
       "<table border=\"1\" class=\"dataframe\">\n",
       "  <thead>\n",
       "    <tr style=\"text-align: right;\">\n",
       "      <th></th>\n",
       "      <th>날짜</th>\n",
       "      <th>영등포</th>\n",
       "      <th>광명</th>\n",
       "      <th>천안아산</th>\n",
       "      <th>수원</th>\n",
       "      <th>오송</th>\n",
       "      <th>대전</th>\n",
       "      <th>김천구미</th>\n",
       "      <th>동대구</th>\n",
       "      <th>신경주</th>\n",
       "      <th>포항</th>\n",
       "      <th>울산</th>\n",
       "      <th>밀양</th>\n",
       "      <th>구포</th>\n",
       "      <th>부산</th>\n",
       "    </tr>\n",
       "  </thead>\n",
       "  <tbody>\n",
       "    <tr>\n",
       "      <th>0</th>\n",
       "      <td>2020-03-08</td>\n",
       "      <td>1486</td>\n",
       "      <td>1101</td>\n",
       "      <td>743</td>\n",
       "      <td>1688</td>\n",
       "      <td>758</td>\n",
       "      <td>1584</td>\n",
       "      <td>166</td>\n",
       "      <td>1080</td>\n",
       "      <td>101</td>\n",
       "      <td>207</td>\n",
       "      <td>466</td>\n",
       "      <td>224</td>\n",
       "      <td>344</td>\n",
       "      <td>1221</td>\n",
       "    </tr>\n",
       "    <tr>\n",
       "      <th>1</th>\n",
       "      <td>2020-03-09</td>\n",
       "      <td>1896</td>\n",
       "      <td>1554</td>\n",
       "      <td>1372</td>\n",
       "      <td>2588</td>\n",
       "      <td>1449</td>\n",
       "      <td>2435</td>\n",
       "      <td>256</td>\n",
       "      <td>1219</td>\n",
       "      <td>114</td>\n",
       "      <td>255</td>\n",
       "      <td>535</td>\n",
       "      <td>361</td>\n",
       "      <td>416</td>\n",
       "      <td>1437</td>\n",
       "    </tr>\n",
       "    <tr>\n",
       "      <th>2</th>\n",
       "      <td>2020-03-10</td>\n",
       "      <td>1712</td>\n",
       "      <td>1506</td>\n",
       "      <td>1256</td>\n",
       "      <td>2451</td>\n",
       "      <td>1326</td>\n",
       "      <td>2129</td>\n",
       "      <td>222</td>\n",
       "      <td>1079</td>\n",
       "      <td>95</td>\n",
       "      <td>226</td>\n",
       "      <td>466</td>\n",
       "      <td>338</td>\n",
       "      <td>354</td>\n",
       "      <td>1312</td>\n",
       "    </tr>\n",
       "    <tr>\n",
       "      <th>3</th>\n",
       "      <td>2020-03-11</td>\n",
       "      <td>1760</td>\n",
       "      <td>1518</td>\n",
       "      <td>1236</td>\n",
       "      <td>2534</td>\n",
       "      <td>1382</td>\n",
       "      <td>2282</td>\n",
       "      <td>204</td>\n",
       "      <td>1169</td>\n",
       "      <td>94</td>\n",
       "      <td>220</td>\n",
       "      <td>466</td>\n",
       "      <td>358</td>\n",
       "      <td>397</td>\n",
       "      <td>1433</td>\n",
       "    </tr>\n",
       "    <tr>\n",
       "      <th>4</th>\n",
       "      <td>2020-03-12</td>\n",
       "      <td>1791</td>\n",
       "      <td>1679</td>\n",
       "      <td>1274</td>\n",
       "      <td>2563</td>\n",
       "      <td>1402</td>\n",
       "      <td>2285</td>\n",
       "      <td>231</td>\n",
       "      <td>1232</td>\n",
       "      <td>87</td>\n",
       "      <td>271</td>\n",
       "      <td>493</td>\n",
       "      <td>353</td>\n",
       "      <td>421</td>\n",
       "      <td>1573</td>\n",
       "    </tr>\n",
       "    <tr>\n",
       "      <th>5</th>\n",
       "      <td>2020-03-13</td>\n",
       "      <td>2307</td>\n",
       "      <td>2379</td>\n",
       "      <td>1524</td>\n",
       "      <td>3252</td>\n",
       "      <td>1692</td>\n",
       "      <td>3202</td>\n",
       "      <td>294</td>\n",
       "      <td>1603</td>\n",
       "      <td>152</td>\n",
       "      <td>335</td>\n",
       "      <td>738</td>\n",
       "      <td>466</td>\n",
       "      <td>648</td>\n",
       "      <td>2254</td>\n",
       "    </tr>\n",
       "    <tr>\n",
       "      <th>6</th>\n",
       "      <td>2020-03-14</td>\n",
       "      <td>1582</td>\n",
       "      <td>1016</td>\n",
       "      <td>726</td>\n",
       "      <td>2077</td>\n",
       "      <td>638</td>\n",
       "      <td>2063</td>\n",
       "      <td>155</td>\n",
       "      <td>1177</td>\n",
       "      <td>101</td>\n",
       "      <td>244</td>\n",
       "      <td>434</td>\n",
       "      <td>330</td>\n",
       "      <td>406</td>\n",
       "      <td>1454</td>\n",
       "    </tr>\n",
       "  </tbody>\n",
       "</table>\n",
       "</div>"
      ],
      "text/plain": [
       "           날짜   영등포    광명  천안아산    수원    오송    대전 김천구미   동대구  신경주   포항   울산  \\\n",
       "0  2020-03-08  1486  1101   743  1688   758  1584  166  1080  101  207  466   \n",
       "1  2020-03-09  1896  1554  1372  2588  1449  2435  256  1219  114  255  535   \n",
       "2  2020-03-10  1712  1506  1256  2451  1326  2129  222  1079   95  226  466   \n",
       "3  2020-03-11  1760  1518  1236  2534  1382  2282  204  1169   94  220  466   \n",
       "4  2020-03-12  1791  1679  1274  2563  1402  2285  231  1232   87  271  493   \n",
       "5  2020-03-13  2307  2379  1524  3252  1692  3202  294  1603  152  335  738   \n",
       "6  2020-03-14  1582  1016   726  2077   638  2063  155  1177  101  244  434   \n",
       "\n",
       "    밀양   구포    부산  \n",
       "0  224  344  1221  \n",
       "1  361  416  1437  \n",
       "2  338  354  1312  \n",
       "3  358  397  1433  \n",
       "4  353  421  1573  \n",
       "5  466  648  2254  \n",
       "6  330  406  1454  "
      ]
     },
     "execution_count": 75,
     "metadata": {},
     "output_type": "execute_result"
    }
   ],
   "source": [
    "stacks"
   ]
  },
  {
   "cell_type": "code",
   "execution_count": 76,
   "metadata": {},
   "outputs": [],
   "source": [
    "stacks.set_index(stacks['날짜'], inplace=True)"
   ]
  },
  {
   "cell_type": "code",
   "execution_count": 77,
   "metadata": {},
   "outputs": [],
   "source": [
    "stacks.drop('날짜', axis=1, inplace=True)"
   ]
  },
  {
   "cell_type": "code",
   "execution_count": 78,
   "metadata": {},
   "outputs": [
    {
     "data": {
      "text/html": [
       "<div>\n",
       "<style scoped>\n",
       "    .dataframe tbody tr th:only-of-type {\n",
       "        vertical-align: middle;\n",
       "    }\n",
       "\n",
       "    .dataframe tbody tr th {\n",
       "        vertical-align: top;\n",
       "    }\n",
       "\n",
       "    .dataframe thead th {\n",
       "        text-align: right;\n",
       "    }\n",
       "</style>\n",
       "<table border=\"1\" class=\"dataframe\">\n",
       "  <thead>\n",
       "    <tr style=\"text-align: right;\">\n",
       "      <th></th>\n",
       "      <th>영등포</th>\n",
       "      <th>광명</th>\n",
       "      <th>천안아산</th>\n",
       "      <th>수원</th>\n",
       "      <th>오송</th>\n",
       "      <th>대전</th>\n",
       "      <th>김천구미</th>\n",
       "      <th>동대구</th>\n",
       "      <th>신경주</th>\n",
       "      <th>포항</th>\n",
       "      <th>울산</th>\n",
       "      <th>밀양</th>\n",
       "      <th>구포</th>\n",
       "      <th>부산</th>\n",
       "    </tr>\n",
       "    <tr>\n",
       "      <th>날짜</th>\n",
       "      <th></th>\n",
       "      <th></th>\n",
       "      <th></th>\n",
       "      <th></th>\n",
       "      <th></th>\n",
       "      <th></th>\n",
       "      <th></th>\n",
       "      <th></th>\n",
       "      <th></th>\n",
       "      <th></th>\n",
       "      <th></th>\n",
       "      <th></th>\n",
       "      <th></th>\n",
       "      <th></th>\n",
       "    </tr>\n",
       "  </thead>\n",
       "  <tbody>\n",
       "    <tr>\n",
       "      <th>2020-03-08</th>\n",
       "      <td>1486</td>\n",
       "      <td>1101</td>\n",
       "      <td>743</td>\n",
       "      <td>1688</td>\n",
       "      <td>758</td>\n",
       "      <td>1584</td>\n",
       "      <td>166</td>\n",
       "      <td>1080</td>\n",
       "      <td>101</td>\n",
       "      <td>207</td>\n",
       "      <td>466</td>\n",
       "      <td>224</td>\n",
       "      <td>344</td>\n",
       "      <td>1221</td>\n",
       "    </tr>\n",
       "    <tr>\n",
       "      <th>2020-03-09</th>\n",
       "      <td>1896</td>\n",
       "      <td>1554</td>\n",
       "      <td>1372</td>\n",
       "      <td>2588</td>\n",
       "      <td>1449</td>\n",
       "      <td>2435</td>\n",
       "      <td>256</td>\n",
       "      <td>1219</td>\n",
       "      <td>114</td>\n",
       "      <td>255</td>\n",
       "      <td>535</td>\n",
       "      <td>361</td>\n",
       "      <td>416</td>\n",
       "      <td>1437</td>\n",
       "    </tr>\n",
       "    <tr>\n",
       "      <th>2020-03-10</th>\n",
       "      <td>1712</td>\n",
       "      <td>1506</td>\n",
       "      <td>1256</td>\n",
       "      <td>2451</td>\n",
       "      <td>1326</td>\n",
       "      <td>2129</td>\n",
       "      <td>222</td>\n",
       "      <td>1079</td>\n",
       "      <td>95</td>\n",
       "      <td>226</td>\n",
       "      <td>466</td>\n",
       "      <td>338</td>\n",
       "      <td>354</td>\n",
       "      <td>1312</td>\n",
       "    </tr>\n",
       "    <tr>\n",
       "      <th>2020-03-11</th>\n",
       "      <td>1760</td>\n",
       "      <td>1518</td>\n",
       "      <td>1236</td>\n",
       "      <td>2534</td>\n",
       "      <td>1382</td>\n",
       "      <td>2282</td>\n",
       "      <td>204</td>\n",
       "      <td>1169</td>\n",
       "      <td>94</td>\n",
       "      <td>220</td>\n",
       "      <td>466</td>\n",
       "      <td>358</td>\n",
       "      <td>397</td>\n",
       "      <td>1433</td>\n",
       "    </tr>\n",
       "    <tr>\n",
       "      <th>2020-03-12</th>\n",
       "      <td>1791</td>\n",
       "      <td>1679</td>\n",
       "      <td>1274</td>\n",
       "      <td>2563</td>\n",
       "      <td>1402</td>\n",
       "      <td>2285</td>\n",
       "      <td>231</td>\n",
       "      <td>1232</td>\n",
       "      <td>87</td>\n",
       "      <td>271</td>\n",
       "      <td>493</td>\n",
       "      <td>353</td>\n",
       "      <td>421</td>\n",
       "      <td>1573</td>\n",
       "    </tr>\n",
       "    <tr>\n",
       "      <th>2020-03-13</th>\n",
       "      <td>2307</td>\n",
       "      <td>2379</td>\n",
       "      <td>1524</td>\n",
       "      <td>3252</td>\n",
       "      <td>1692</td>\n",
       "      <td>3202</td>\n",
       "      <td>294</td>\n",
       "      <td>1603</td>\n",
       "      <td>152</td>\n",
       "      <td>335</td>\n",
       "      <td>738</td>\n",
       "      <td>466</td>\n",
       "      <td>648</td>\n",
       "      <td>2254</td>\n",
       "    </tr>\n",
       "    <tr>\n",
       "      <th>2020-03-14</th>\n",
       "      <td>1582</td>\n",
       "      <td>1016</td>\n",
       "      <td>726</td>\n",
       "      <td>2077</td>\n",
       "      <td>638</td>\n",
       "      <td>2063</td>\n",
       "      <td>155</td>\n",
       "      <td>1177</td>\n",
       "      <td>101</td>\n",
       "      <td>244</td>\n",
       "      <td>434</td>\n",
       "      <td>330</td>\n",
       "      <td>406</td>\n",
       "      <td>1454</td>\n",
       "    </tr>\n",
       "  </tbody>\n",
       "</table>\n",
       "</div>"
      ],
      "text/plain": [
       "             영등포    광명  천안아산    수원    오송    대전 김천구미   동대구  신경주   포항   울산   밀양  \\\n",
       "날짜                                                                              \n",
       "2020-03-08  1486  1101   743  1688   758  1584  166  1080  101  207  466  224   \n",
       "2020-03-09  1896  1554  1372  2588  1449  2435  256  1219  114  255  535  361   \n",
       "2020-03-10  1712  1506  1256  2451  1326  2129  222  1079   95  226  466  338   \n",
       "2020-03-11  1760  1518  1236  2534  1382  2282  204  1169   94  220  466  358   \n",
       "2020-03-12  1791  1679  1274  2563  1402  2285  231  1232   87  271  493  353   \n",
       "2020-03-13  2307  2379  1524  3252  1692  3202  294  1603  152  335  738  466   \n",
       "2020-03-14  1582  1016   726  2077   638  2063  155  1177  101  244  434  330   \n",
       "\n",
       "             구포    부산  \n",
       "날짜                     \n",
       "2020-03-08  344  1221  \n",
       "2020-03-09  416  1437  \n",
       "2020-03-10  354  1312  \n",
       "2020-03-11  397  1433  \n",
       "2020-03-12  421  1573  \n",
       "2020-03-13  648  2254  \n",
       "2020-03-14  406  1454  "
      ]
     },
     "execution_count": 78,
     "metadata": {},
     "output_type": "execute_result"
    }
   ],
   "source": [
    "stacks"
   ]
  },
  {
   "cell_type": "code",
   "execution_count": 110,
   "metadata": {},
   "outputs": [
    {
     "data": {
      "text/plain": [
       "<Figure size 864x216 with 0 Axes>"
      ]
     },
     "metadata": {},
     "output_type": "display_data"
    },
    {
     "data": {
      "image/png": "[encoded data removed]",
      "text/plain": [
       "<Figure size 432x288 with 1 Axes>"
      ]
     },
     "metadata": {
      "needs_background": "light"
     },
     "output_type": "display_data"
    }
   ],
   "source": [
    "plt.figure(figsize=(12,3))\n",
    "stacks.plot(kind='bar',stacked=True,legend=True)\n",
    "plt.legend(loc='upper left', bbox_to_anchor=(1, 1.02),\n",
    "          ncol=1, fancybox=True, shadow=True)\n",
    "plt.xticks(\n",
    "    rotation=45, \n",
    "    horizontalalignment='right',\n",
    "    fontweight='light',\n",
    "    fontsize='medium'  \n",
    ")\n",
    "plt.ylabel('서울역 탑승자의 역별 하차수')\n",
    "plt.tight_layout() # 외부 legend 일때 설정안해주면 legend 잘림\n",
    "plt.savefig('./stob')\n",
    "plt.show()"
   ]
  },
  {
   "cell_type": "code",
   "execution_count": 96,
   "metadata": {},
   "outputs": [],
   "source": [
    "rstacks = stacks.copy()"
   ]
  },
  {
   "cell_type": "code",
   "execution_count": 99,
   "metadata": {},
   "outputs": [],
   "source": [
    "st = stacks.columns.tolist()\n",
    "dt = stacks.index.tolist()"
   ]
  },
  {
   "cell_type": "code",
   "execution_count": 101,
   "metadata": {},
   "outputs": [],
   "source": [
    "for d in dt:\n",
    "    tobs = rstacks.loc[d].values\n",
    "    sums = np.sum(tobs)\n",
    "    tobs = tobs / sums\n",
    "    rstacks.loc[d] = tobs"
   ]
  },
  {
   "cell_type": "code",
   "execution_count": 102,
   "metadata": {},
   "outputs": [
    {
     "data": {
      "text/html": [
       "<div>\n",
       "<style scoped>\n",
       "    .dataframe tbody tr th:only-of-type {\n",
       "        vertical-align: middle;\n",
       "    }\n",
       "\n",
       "    .dataframe tbody tr th {\n",
       "        vertical-align: top;\n",
       "    }\n",
       "\n",
       "    .dataframe thead th {\n",
       "        text-align: right;\n",
       "    }\n",
       "</style>\n",
       "<table border=\"1\" class=\"dataframe\">\n",
       "  <thead>\n",
       "    <tr style=\"text-align: right;\">\n",
       "      <th></th>\n",
       "      <th>영등포</th>\n",
       "      <th>광명</th>\n",
       "      <th>천안아산</th>\n",
       "      <th>수원</th>\n",
       "      <th>오송</th>\n",
       "      <th>대전</th>\n",
       "      <th>김천구미</th>\n",
       "      <th>동대구</th>\n",
       "      <th>신경주</th>\n",
       "      <th>포항</th>\n",
       "      <th>울산</th>\n",
       "      <th>밀양</th>\n",
       "      <th>구포</th>\n",
       "      <th>부산</th>\n",
       "    </tr>\n",
       "    <tr>\n",
       "      <th>날짜</th>\n",
       "      <th></th>\n",
       "      <th></th>\n",
       "      <th></th>\n",
       "      <th></th>\n",
       "      <th></th>\n",
       "      <th></th>\n",
       "      <th></th>\n",
       "      <th></th>\n",
       "      <th></th>\n",
       "      <th></th>\n",
       "      <th></th>\n",
       "      <th></th>\n",
       "      <th></th>\n",
       "      <th></th>\n",
       "    </tr>\n",
       "  </thead>\n",
       "  <tbody>\n",
       "    <tr>\n",
       "      <th>2020-03-08</th>\n",
       "      <td>0.133047</td>\n",
       "      <td>0.0985764</td>\n",
       "      <td>0.0665234</td>\n",
       "      <td>0.151133</td>\n",
       "      <td>0.0678664</td>\n",
       "      <td>0.141821</td>\n",
       "      <td>0.0148626</td>\n",
       "      <td>0.0966962</td>\n",
       "      <td>0.00904289</td>\n",
       "      <td>0.0185334</td>\n",
       "      <td>0.0417226</td>\n",
       "      <td>0.0200555</td>\n",
       "      <td>0.0307995</td>\n",
       "      <td>0.10932</td>\n",
       "    </tr>\n",
       "    <tr>\n",
       "      <th>2020-03-09</th>\n",
       "      <td>0.119343</td>\n",
       "      <td>0.0978158</td>\n",
       "      <td>0.0863599</td>\n",
       "      <td>0.1629</td>\n",
       "      <td>0.0912066</td>\n",
       "      <td>0.15327</td>\n",
       "      <td>0.0161138</td>\n",
       "      <td>0.0767294</td>\n",
       "      <td>0.00717568</td>\n",
       "      <td>0.0160509</td>\n",
       "      <td>0.0336753</td>\n",
       "      <td>0.022723</td>\n",
       "      <td>0.0261849</td>\n",
       "      <td>0.0904513</td>\n",
       "    </tr>\n",
       "    <tr>\n",
       "      <th>2020-03-10</th>\n",
       "      <td>0.118297</td>\n",
       "      <td>0.104063</td>\n",
       "      <td>0.0867883</td>\n",
       "      <td>0.169362</td>\n",
       "      <td>0.0916252</td>\n",
       "      <td>0.147112</td>\n",
       "      <td>0.01534</td>\n",
       "      <td>0.0745578</td>\n",
       "      <td>0.0065644</td>\n",
       "      <td>0.0156164</td>\n",
       "      <td>0.0322001</td>\n",
       "      <td>0.0233554</td>\n",
       "      <td>0.024461</td>\n",
       "      <td>0.0906578</td>\n",
       "    </tr>\n",
       "    <tr>\n",
       "      <th>2020-03-11</th>\n",
       "      <td>0.11692</td>\n",
       "      <td>0.100844</td>\n",
       "      <td>0.0821099</td>\n",
       "      <td>0.168339</td>\n",
       "      <td>0.0918089</td>\n",
       "      <td>0.151598</td>\n",
       "      <td>0.0135521</td>\n",
       "      <td>0.0776589</td>\n",
       "      <td>0.0062446</td>\n",
       "      <td>0.014615</td>\n",
       "      <td>0.0309573</td>\n",
       "      <td>0.0237826</td>\n",
       "      <td>0.0263735</td>\n",
       "      <td>0.095197</td>\n",
       "    </tr>\n",
       "    <tr>\n",
       "      <th>2020-03-12</th>\n",
       "      <td>0.114404</td>\n",
       "      <td>0.10725</td>\n",
       "      <td>0.0813798</td>\n",
       "      <td>0.163718</td>\n",
       "      <td>0.0895561</td>\n",
       "      <td>0.14596</td>\n",
       "      <td>0.0147557</td>\n",
       "      <td>0.0786969</td>\n",
       "      <td>0.00555733</td>\n",
       "      <td>0.0173108</td>\n",
       "      <td>0.0314915</td>\n",
       "      <td>0.0225487</td>\n",
       "      <td>0.0268924</td>\n",
       "      <td>0.100479</td>\n",
       "    </tr>\n",
       "    <tr>\n",
       "      <th>2020-03-13</th>\n",
       "      <td>0.110669</td>\n",
       "      <td>0.114123</td>\n",
       "      <td>0.0731076</td>\n",
       "      <td>0.156001</td>\n",
       "      <td>0.0811667</td>\n",
       "      <td>0.153603</td>\n",
       "      <td>0.0141034</td>\n",
       "      <td>0.0768972</td>\n",
       "      <td>0.00729157</td>\n",
       "      <td>0.0160702</td>\n",
       "      <td>0.0354025</td>\n",
       "      <td>0.0223544</td>\n",
       "      <td>0.0310851</td>\n",
       "      <td>0.108126</td>\n",
       "    </tr>\n",
       "    <tr>\n",
       "      <th>2020-03-14</th>\n",
       "      <td>0.12755</td>\n",
       "      <td>0.0819157</td>\n",
       "      <td>0.0585342</td>\n",
       "      <td>0.167459</td>\n",
       "      <td>0.0514392</td>\n",
       "      <td>0.166331</td>\n",
       "      <td>0.012497</td>\n",
       "      <td>0.0948964</td>\n",
       "      <td>0.00814319</td>\n",
       "      <td>0.0196727</td>\n",
       "      <td>0.0349915</td>\n",
       "      <td>0.0266065</td>\n",
       "      <td>0.032734</td>\n",
       "      <td>0.11723</td>\n",
       "    </tr>\n",
       "  </tbody>\n",
       "</table>\n",
       "</div>"
      ],
      "text/plain": [
       "                 영등포         광명       천안아산        수원         오송        대전  \\\n",
       "날짜                                                                          \n",
       "2020-03-08  0.133047  0.0985764  0.0665234  0.151133  0.0678664  0.141821   \n",
       "2020-03-09  0.119343  0.0978158  0.0863599    0.1629  0.0912066   0.15327   \n",
       "2020-03-10  0.118297   0.104063  0.0867883  0.169362  0.0916252  0.147112   \n",
       "2020-03-11   0.11692   0.100844  0.0821099  0.168339  0.0918089  0.151598   \n",
       "2020-03-12  0.114404    0.10725  0.0813798  0.163718  0.0895561   0.14596   \n",
       "2020-03-13  0.110669   0.114123  0.0731076  0.156001  0.0811667  0.153603   \n",
       "2020-03-14   0.12755  0.0819157  0.0585342  0.167459  0.0514392  0.166331   \n",
       "\n",
       "                 김천구미        동대구         신경주         포항         울산         밀양  \\\n",
       "날짜                                                                              \n",
       "2020-03-08  0.0148626  0.0966962  0.00904289  0.0185334  0.0417226  0.0200555   \n",
       "2020-03-09  0.0161138  0.0767294  0.00717568  0.0160509  0.0336753   0.022723   \n",
       "2020-03-10    0.01534  0.0745578   0.0065644  0.0156164  0.0322001  0.0233554   \n",
       "2020-03-11  0.0135521  0.0776589   0.0062446   0.014615  0.0309573  0.0237826   \n",
       "2020-03-12  0.0147557  0.0786969  0.00555733  0.0173108  0.0314915  0.0225487   \n",
       "2020-03-13  0.0141034  0.0768972  0.00729157  0.0160702  0.0354025  0.0223544   \n",
       "2020-03-14   0.012497  0.0948964  0.00814319  0.0196727  0.0349915  0.0266065   \n",
       "\n",
       "                   구포         부산  \n",
       "날짜                                \n",
       "2020-03-08  0.0307995    0.10932  \n",
       "2020-03-09  0.0261849  0.0904513  \n",
       "2020-03-10   0.024461  0.0906578  \n",
       "2020-03-11  0.0263735   0.095197  \n",
       "2020-03-12  0.0268924   0.100479  \n",
       "2020-03-13  0.0310851   0.108126  \n",
       "2020-03-14   0.032734    0.11723  "
      ]
     },
     "execution_count": 102,
     "metadata": {},
     "output_type": "execute_result"
    }
   ],
   "source": [
    "rstacks"
   ]
  },
  {
   "cell_type": "code",
   "execution_count": 104,
   "metadata": {},
   "outputs": [
    {
     "data": {
      "text/plain": [
       "1.0"
      ]
     },
     "execution_count": 104,
     "metadata": {},
     "output_type": "execute_result"
    }
   ],
   "source": [
    "rstacks.loc['2020-03-09'].values.sum()"
   ]
  },
  {
   "cell_type": "code",
   "execution_count": 108,
   "metadata": {},
   "outputs": [
    {
     "data": {
      "text/plain": [
       "<Figure size 864x216 with 0 Axes>"
      ]
     },
     "metadata": {},
     "output_type": "display_data"
    },
    {
     "data": {
      "image/png": "[encoded data removed]",
      "text/plain": [
       "<Figure size 432x288 with 1 Axes>"
      ]
     },
     "metadata": {
      "needs_background": "light"
     },
     "output_type": "display_data"
    }
   ],
   "source": [
    "plt.figure(figsize=(12,3))\n",
    "rstacks.plot(kind='bar',stacked=True,legend=False)\n",
    "plt.xticks(\n",
    "    rotation=45, \n",
    "    horizontalalignment='right',\n",
    "    fontweight='light',\n",
    "    fontsize='medium'  \n",
    ")\n",
    "plt.ylabel('서울역 탑승자의 역별 하차 비율')\n",
    "plt.tight_layout() # 외부 legend 일때 설정안해주면 legend 잘림\n",
    "plt.savefig('./stob_ratio')\n",
    "plt.show()"
   ]
  },
  {
   "cell_type": "code",
   "execution_count": 111,
   "metadata": {},
   "outputs": [
    {
     "data": {
      "text/html": [
       "<div>\n",
       "<style scoped>\n",
       "    .dataframe tbody tr th:only-of-type {\n",
       "        vertical-align: middle;\n",
       "    }\n",
       "\n",
       "    .dataframe tbody tr th {\n",
       "        vertical-align: top;\n",
       "    }\n",
       "\n",
       "    .dataframe thead th {\n",
       "        text-align: right;\n",
       "    }\n",
       "</style>\n",
       "<table border=\"1\" class=\"dataframe\">\n",
       "  <thead>\n",
       "    <tr style=\"text-align: right;\">\n",
       "      <th></th>\n",
       "      <th>영등포</th>\n",
       "      <th>광명</th>\n",
       "      <th>천안아산</th>\n",
       "      <th>수원</th>\n",
       "      <th>오송</th>\n",
       "      <th>대전</th>\n",
       "      <th>김천구미</th>\n",
       "      <th>동대구</th>\n",
       "      <th>신경주</th>\n",
       "      <th>포항</th>\n",
       "      <th>울산</th>\n",
       "      <th>밀양</th>\n",
       "      <th>구포</th>\n",
       "      <th>부산</th>\n",
       "    </tr>\n",
       "  </thead>\n",
       "  <tbody>\n",
       "    <tr>\n",
       "      <th>count</th>\n",
       "      <td>7</td>\n",
       "      <td>7</td>\n",
       "      <td>7</td>\n",
       "      <td>7</td>\n",
       "      <td>7</td>\n",
       "      <td>7</td>\n",
       "      <td>7</td>\n",
       "      <td>7</td>\n",
       "      <td>7</td>\n",
       "      <td>7</td>\n",
       "      <td>7</td>\n",
       "      <td>7</td>\n",
       "      <td>7</td>\n",
       "      <td>7</td>\n",
       "    </tr>\n",
       "    <tr>\n",
       "      <th>unique</th>\n",
       "      <td>7</td>\n",
       "      <td>7</td>\n",
       "      <td>7</td>\n",
       "      <td>7</td>\n",
       "      <td>7</td>\n",
       "      <td>7</td>\n",
       "      <td>7</td>\n",
       "      <td>7</td>\n",
       "      <td>6</td>\n",
       "      <td>7</td>\n",
       "      <td>5</td>\n",
       "      <td>7</td>\n",
       "      <td>7</td>\n",
       "      <td>7</td>\n",
       "    </tr>\n",
       "    <tr>\n",
       "      <th>top</th>\n",
       "      <td>1791</td>\n",
       "      <td>1679</td>\n",
       "      <td>1372</td>\n",
       "      <td>2077</td>\n",
       "      <td>1326</td>\n",
       "      <td>2063</td>\n",
       "      <td>222</td>\n",
       "      <td>1177</td>\n",
       "      <td>101</td>\n",
       "      <td>207</td>\n",
       "      <td>466</td>\n",
       "      <td>466</td>\n",
       "      <td>397</td>\n",
       "      <td>2254</td>\n",
       "    </tr>\n",
       "    <tr>\n",
       "      <th>freq</th>\n",
       "      <td>1</td>\n",
       "      <td>1</td>\n",
       "      <td>1</td>\n",
       "      <td>1</td>\n",
       "      <td>1</td>\n",
       "      <td>1</td>\n",
       "      <td>1</td>\n",
       "      <td>1</td>\n",
       "      <td>2</td>\n",
       "      <td>1</td>\n",
       "      <td>3</td>\n",
       "      <td>1</td>\n",
       "      <td>1</td>\n",
       "      <td>1</td>\n",
       "    </tr>\n",
       "  </tbody>\n",
       "</table>\n",
       "</div>"
      ],
      "text/plain": [
       "         영등포    광명  천안아산    수원    오송    대전  김천구미   동대구  신경주   포항   울산   밀양  \\\n",
       "count      7     7     7     7     7     7     7     7    7    7    7    7   \n",
       "unique     7     7     7     7     7     7     7     7    6    7    5    7   \n",
       "top     1791  1679  1372  2077  1326  2063   222  1177  101  207  466  466   \n",
       "freq       1     1     1     1     1     1     1     1    2    1    3    1   \n",
       "\n",
       "         구포    부산  \n",
       "count     7     7  \n",
       "unique    7     7  \n",
       "top     397  2254  \n",
       "freq      1     1  "
      ]
     },
     "execution_count": 111,
     "metadata": {},
     "output_type": "execute_result"
    }
   ],
   "source": [
    "stacks.describe()"
   ]
  },
  {
   "cell_type": "code",
   "execution_count": 114,
   "metadata": {},
   "outputs": [
    {
     "data": {
      "text/html": [
       "<div>\n",
       "<style scoped>\n",
       "    .dataframe tbody tr th:only-of-type {\n",
       "        vertical-align: middle;\n",
       "    }\n",
       "\n",
       "    .dataframe tbody tr th {\n",
       "        vertical-align: top;\n",
       "    }\n",
       "\n",
       "    .dataframe thead th {\n",
       "        text-align: right;\n",
       "    }\n",
       "</style>\n",
       "<table border=\"1\" class=\"dataframe\">\n",
       "  <thead>\n",
       "    <tr style=\"text-align: right;\">\n",
       "      <th></th>\n",
       "      <th>date</th>\n",
       "      <th>on</th>\n",
       "    </tr>\n",
       "  </thead>\n",
       "  <tbody>\n",
       "    <tr>\n",
       "      <th>15590</th>\n",
       "      <td>2020-03-08</td>\n",
       "      <td>11169</td>\n",
       "    </tr>\n",
       "    <tr>\n",
       "      <th>15816</th>\n",
       "      <td>2020-03-09</td>\n",
       "      <td>15886</td>\n",
       "    </tr>\n",
       "    <tr>\n",
       "      <th>16045</th>\n",
       "      <td>2020-03-10</td>\n",
       "      <td>14470</td>\n",
       "    </tr>\n",
       "    <tr>\n",
       "      <th>16272</th>\n",
       "      <td>2020-03-11</td>\n",
       "      <td>15053</td>\n",
       "    </tr>\n",
       "    <tr>\n",
       "      <th>16497</th>\n",
       "      <td>2020-03-12</td>\n",
       "      <td>15656</td>\n",
       "    </tr>\n",
       "    <tr>\n",
       "      <th>16725</th>\n",
       "      <td>2020-03-13</td>\n",
       "      <td>20848</td>\n",
       "    </tr>\n",
       "    <tr>\n",
       "      <th>16954</th>\n",
       "      <td>2020-03-14</td>\n",
       "      <td>12403</td>\n",
       "    </tr>\n",
       "  </tbody>\n",
       "</table>\n",
       "</div>"
      ],
      "text/plain": [
       "            date     on\n",
       "15590 2020-03-08  11169\n",
       "15816 2020-03-09  15886\n",
       "16045 2020-03-10  14470\n",
       "16272 2020-03-11  15053\n",
       "16497 2020-03-12  15656\n",
       "16725 2020-03-13  20848\n",
       "16954 2020-03-14  12403"
      ]
     },
     "execution_count": 114,
     "metadata": {},
     "output_type": "execute_result"
    }
   ],
   "source": [
    "korail[korail.station == '서울'][['date', 'on']]"
   ]
  },
  {
   "cell_type": "code",
   "execution_count": 115,
   "metadata": {},
   "outputs": [
    {
     "name": "stdout",
     "output_type": "stream",
     "text": [
      "영등포       0.114404\n",
      "광명         0.10725\n",
      "천안아산     0.0813798\n",
      "수원        0.163718\n",
      "오송       0.0895561\n",
      "대전         0.14596\n",
      "김천구미     0.0147557\n",
      "동대구      0.0786969\n",
      "신경주     0.00555733\n",
      "포항       0.0173108\n",
      "울산       0.0314915\n",
      "밀양       0.0225487\n",
      "구포       0.0268924\n",
      "부산        0.100479\n",
      "Name: 2020-03-12, dtype: object\n"
     ]
    }
   ],
   "source": [
    "print(rstacks.loc['2020-03-12'])"
   ]
  },
  {
   "cell_type": "code",
   "execution_count": 119,
   "metadata": {},
   "outputs": [
    {
     "data": {
      "image/png": "[encoded data removed]",
      "text/plain": [
       "<Figure size 432x288 with 1 Axes>"
      ]
     },
     "metadata": {
      "needs_background": "light"
     },
     "output_type": "display_data"
    }
   ],
   "source": [
    "plt.figure()\n",
    "rstacks.loc['2020-03-12'].plot()\n",
    "rstacks.loc['2020-03-13'].plot()\n",
    "rstacks.loc['2020-03-14'].plot()\n",
    "plt.show()"
   ]
  },
  {
   "cell_type": "code",
   "execution_count": 116,
   "metadata": {},
   "outputs": [
    {
     "name": "stdout",
     "output_type": "stream",
     "text": [
      "영등포       0.11692\n",
      "광명       0.100844\n",
      "천안아산    0.0821099\n",
      "수원       0.168339\n",
      "오송      0.0918089\n",
      "대전       0.151598\n",
      "김천구미    0.0135521\n",
      "동대구     0.0776589\n",
      "신경주     0.0062446\n",
      "포항       0.014615\n",
      "울산      0.0309573\n",
      "밀양      0.0237826\n",
      "구포      0.0263735\n",
      "부산       0.095197\n",
      "Name: 2020-03-11, dtype: object\n"
     ]
    }
   ],
   "source": [
    "print(rstacks.loc['2020-03-11'])"
   ]
  },
  {
   "cell_type": "code",
   "execution_count": 120,
   "metadata": {},
   "outputs": [
    {
     "data": {
      "text/plain": [
       "날짜\n",
       "2020-03-08    1221\n",
       "2020-03-09    1437\n",
       "2020-03-10    1312\n",
       "2020-03-11    1433\n",
       "2020-03-12    1573\n",
       "2020-03-13    2254\n",
       "2020-03-14    1454\n",
       "Name: 부산, dtype: object"
      ]
     },
     "execution_count": 120,
     "metadata": {},
     "output_type": "execute_result"
    }
   ],
   "source": [
    "stacks[\"부산\"]"
   ]
  },
  {
   "cell_type": "code",
   "execution_count": 122,
   "metadata": {},
   "outputs": [
    {
     "data": {
      "text/plain": [
       "0.015872999999999998"
      ]
     },
     "execution_count": 122,
     "metadata": {},
     "output_type": "execute_result"
    }
   ],
   "source": [
    "1221 * 0.0013 / 100"
   ]
  },
  {
   "cell_type": "code",
   "execution_count": 123,
   "metadata": {},
   "outputs": [
    {
     "data": {
      "text/plain": [
       "array([1221, 1437, 1312, 1433, 1573, 2254, 1454], dtype=object)"
      ]
     },
     "execution_count": 123,
     "metadata": {},
     "output_type": "execute_result"
    }
   ],
   "source": [
    "stacks[\"부산\"].values"
   ]
  },
  {
   "cell_type": "code",
   "execution_count": 127,
   "metadata": {},
   "outputs": [
    {
     "data": {
      "text/plain": [
       "Index(['2020-03-08', '2020-03-09', '2020-03-10', '2020-03-11', '2020-03-12',\n",
       "       '2020-03-13', '2020-03-14'],\n",
       "      dtype='object', name='날짜')"
      ]
     },
     "execution_count": 127,
     "metadata": {},
     "output_type": "execute_result"
    }
   ],
   "source": [
    "stacks.index.unique()"
   ]
  },
  {
   "cell_type": "code",
   "execution_count": null,
   "metadata": {},
   "outputs": [],
   "source": []
  }
 ],
 "metadata": {
  "kernelspec": {
   "display_name": "Python 3",
   "language": "python",
   "name": "python3"
  },
  "language_info": {
   "codemirror_mode": {
    "name": "ipython",
    "version": 3
   },
   "file_extension": ".py",
   "mimetype": "text/x-python",
   "name": "python",
   "nbconvert_exporter": "python",
   "pygments_lexer": "ipython3",
   "version": "3.6.12"
  }
 },
 "nbformat": 4,
 "nbformat_minor": 4
}
