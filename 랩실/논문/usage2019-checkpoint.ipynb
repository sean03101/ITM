{
 "cells": [
  {
   "cell_type": "code",
   "execution_count": null,
   "metadata": {},
   "outputs": [],
   "source": [
    "import pandas as pd\n",
    "import numpy as np\n",
    "import matplotlib.pyplot as plt\n",
    "from utils import *"
   ]
  },
  {
   "cell_type": "markdown",
   "metadata": {},
   "source": [
    "경부선\n",
    "\n",
    "- 행신, 서울, 영등포, 광명, 천안아산, 수원, 오송, 대전, 김천(구미), 동대구, 신경주, 포항, 울산, 밀양, 구포, 부산\n",
    "\n",
    "호남선\n",
    "\n",
    "- 행신, 용산, 광명, 천안아산, 오송, 공주, 서대전, 계룡, 논산, 익산, 정읍, 광주송정, 나주, 목포\n",
    "\n",
    "경전선\n",
    "\n",
    "- 행신, 서울, 광병, 천안아산, 오송, 대전, 김천(구미), 동대구, 밀양, 진영, 창원중앙, 창원, 마산, 진주\n",
    "    - 밀양까지는 경부선과 동일\n",
    "\n",
    "전라선\n",
    "\n",
    "- 행신, 용산, 광명, 천안아산, 오송, 공주, 서대전, 계룡, 익산, 전주, 남원, 곡성,구례구, 순천, 여천, 여수엑스포\n",
    "    - 익산까지는 호남선과 동일\n"
   ]
  },
  {
   "cell_type": "code",
   "execution_count": null,
   "metadata": {},
   "outputs": [],
   "source": [
    "korail = pd.read_csv('./KR_TB_TR_STN_DAY_CON_20190101_20190531_UTF8.csv')"
   ]
  },
  {
   "cell_type": "code",
   "execution_count": null,
   "metadata": {},
   "outputs": [],
   "source": [
    "korail.head()"
   ]
  },
  {
   "cell_type": "code",
   "execution_count": null,
   "metadata": {},
   "outputs": [],
   "source": [
    "korail.tail()"
   ]
  },
  {
   "cell_type": "code",
   "execution_count": null,
   "metadata": {},
   "outputs": [],
   "source": [
    "korail.columns = ['date', 'sid', 'station', 'on', 'off']"
   ]
  },
  {
   "cell_type": "code",
   "execution_count": null,
   "metadata": {},
   "outputs": [],
   "source": [
    "korail.station.nunique()"
   ]
  },
  {
   "cell_type": "code",
   "execution_count": null,
   "metadata": {},
   "outputs": [],
   "source": [
    "gyeongbu = ['행신', '서울', '영등포', '광명', '천안아산', '수원', '오송', '대전', '김천구미', \n",
    "            '동대구', '신경주', '포항', '울산', '밀양', '구포', '부산']"
   ]
  },
  {
   "cell_type": "code",
   "execution_count": null,
   "metadata": {},
   "outputs": [],
   "source": [
    "honam = ['행신', '용산', '광명', '천안아산', '오송', '공주', '서대전', '계룡', '논산', '익산', '정읍', '광주송정', '나주', '목포']"
   ]
  },
  {
   "cell_type": "markdown",
   "metadata": {},
   "source": [
    "line = gyeongbu.copy()"
   ]
  },
  {
   "cell_type": "markdown",
   "metadata": {},
   "source": [
    "일부역은 on, off 가 없는 역도 있으므로, 미리 역을 뽑아서 설정"
   ]
  },
  {
   "cell_type": "code",
   "execution_count": null,
   "metadata": {},
   "outputs": [],
   "source": [
    "korail = korail[korail.station.isin(gyeongbu)]"
   ]
  },
  {
   "cell_type": "code",
   "execution_count": null,
   "metadata": {},
   "outputs": [],
   "source": [
    "korail.date = korail.date.apply(lambda x: pd.to_datetime(str(x), format='%Y-%m-%d', errors='coerce'))"
   ]
  },
  {
   "cell_type": "code",
   "execution_count": null,
   "metadata": {},
   "outputs": [],
   "source": [
    "korail.on = korail.on.apply(lambda x: int(float(x.replace(',', ''))))\n",
    "korail.off = korail.off.apply(lambda x: int(float(x.replace(',', ''))))"
   ]
  },
  {
   "cell_type": "code",
   "execution_count": null,
   "metadata": {},
   "outputs": [],
   "source": [
    "korail.info()"
   ]
  },
  {
   "cell_type": "code",
   "execution_count": null,
   "metadata": {},
   "outputs": [],
   "source": [
    "len(korail.station.unique())"
   ]
  },
  {
   "cell_type": "code",
   "execution_count": null,
   "metadata": {},
   "outputs": [],
   "source": [
    "print(korail.date.min())\n",
    "print(korail.date.max())"
   ]
  },
  {
   "cell_type": "code",
   "execution_count": null,
   "metadata": {},
   "outputs": [],
   "source": [
    "korail.date.nunique()"
   ]
  },
  {
   "cell_type": "code",
   "execution_count": null,
   "metadata": {},
   "outputs": [],
   "source": [
    "korail = korail.loc[(korail.date > '2019-03-09') & (korail.date <= '2019-03-16')] # 2nd week of March"
   ]
  },
  {
   "cell_type": "code",
   "execution_count": null,
   "metadata": {},
   "outputs": [],
   "source": [
    "korail.date.unique()"
   ]
  },
  {
   "cell_type": "code",
   "execution_count": null,
   "metadata": {},
   "outputs": [],
   "source": [
    "ko_temp = korail[korail.date == '2019-03-10']"
   ]
  },
  {
   "cell_type": "code",
   "execution_count": null,
   "metadata": {},
   "outputs": [],
   "source": [
    "down = {gb : None for gb in gyeongbu}\n",
    "up = {bg : None for bg in list(reversed(gyeongbu))}"
   ]
  },
  {
   "cell_type": "code",
   "execution_count": null,
   "metadata": {},
   "outputs": [],
   "source": [
    "print(list(down.keys()))"
   ]
  },
  {
   "cell_type": "code",
   "execution_count": null,
   "metadata": {},
   "outputs": [],
   "source": [
    "for i in range(0, len(gyeongbu)):\n",
    "    temp = {}\n",
    "    on = int(ko_temp[ko_temp.station == gyeongbu[i]]['on'].values[0])\n",
    "    # calculate total off\n",
    "    total_off = 0\n",
    "    for j in range(i+1, len(gyeongbu)):\n",
    "#         print(gyeongbu[j])\n",
    "        total_off += int(ko_temp[ko_temp.station == gyeongbu[j]]['off'].values[0])\n",
    "#     print(\"-\"*20)\n",
    "#     print(f\"total {total_off}\")\n",
    "    # get ratio for each off stations\n",
    "    for j in range(i+1, len(gyeongbu)):\n",
    "        ratio = int(ko_temp[ko_temp.station == gyeongbu[j]]['off'].values[0]) / total_off\n",
    "        temp[gyeongbu[j]] = round(on * ratio)\n",
    "#     print(temp)\n",
    "#     break\n",
    "    down[gyeongbu[i]] = temp.copy()"
   ]
  },
  {
   "cell_type": "code",
   "execution_count": null,
   "metadata": {},
   "outputs": [],
   "source": [
    "down['서울']"
   ]
  },
  {
   "cell_type": "code",
   "execution_count": null,
   "metadata": {},
   "outputs": [],
   "source": [
    "sum(down['서울'].values())"
   ]
  },
  {
   "cell_type": "code",
   "execution_count": null,
   "metadata": {},
   "outputs": [],
   "source": [
    "ko_temp[ko_temp.station == '서울'].on"
   ]
  },
  {
   "cell_type": "markdown",
   "metadata": {},
   "source": [
    "함수제작"
   ]
  },
  {
   "cell_type": "code",
   "execution_count": null,
   "metadata": {},
   "outputs": [],
   "source": [
    "stacks = pd.DataFrame(columns = ['날짜'] + list(down['서울'].keys()))"
   ]
  },
  {
   "cell_type": "code",
   "execution_count": null,
   "metadata": {},
   "outputs": [],
   "source": [
    "stacks"
   ]
  },
  {
   "cell_type": "code",
   "execution_count": null,
   "metadata": {},
   "outputs": [],
   "source": [
    "korail.date.unique()"
   ]
  },
  {
   "cell_type": "code",
   "execution_count": null,
   "metadata": {},
   "outputs": [],
   "source": [
    "for k, d in enumerate(korail.date.unique()):\n",
    "    print(f\"{k}\\t {d}\")\n",
    "    obs = []\n",
    "    ko_temp = korail[korail.date == d]\n",
    "#     print(ko_temp)\n",
    "    obs.append(d)\n",
    "    down = {gb : None for gb in gyeongbu}\n",
    "    for i in range(0, len(gyeongbu)):\n",
    "        temp = {}\n",
    "        on = int(ko_temp[ko_temp.station == gyeongbu[i]]['on'].values[0])\n",
    "        # calculate total off\n",
    "        total_off = 0\n",
    "        for j in range(i+1, len(gyeongbu)):\n",
    "            total_off += int(ko_temp[ko_temp.station == gyeongbu[j]]['off'].values[0])\n",
    "        # get ratio for each off stations\n",
    "        for j in range(i+1, len(gyeongbu)):\n",
    "            ratio = int(ko_temp[ko_temp.station == gyeongbu[j]]['off'].values[0]) / total_off\n",
    "            temp[gyeongbu[j]] = round(on * ratio)\n",
    "        down[gyeongbu[i]] = temp.copy()\n",
    "    for s in list(down['서울'].keys()):\n",
    "        obs.append(down['서울'][s])\n",
    "    stacks.loc[k] = obs.copy()"
   ]
  },
  {
   "cell_type": "code",
   "execution_count": null,
   "metadata": {},
   "outputs": [],
   "source": [
    "stacks['날짜'] = stacks['날짜'].dt.strftime('%Y-%m-%d')"
   ]
  },
  {
   "cell_type": "code",
   "execution_count": null,
   "metadata": {},
   "outputs": [],
   "source": [
    "stacks"
   ]
  },
  {
   "cell_type": "markdown",
   "metadata": {},
   "source": [
    "---"
   ]
  }
 ],
 "metadata": {
  "kernelspec": {
   "display_name": "Python 3",
   "language": "python",
   "name": "python3"
  },
  "language_info": {
   "codemirror_mode": {
    "name": "ipython",
    "version": 3
   },
   "file_extension": ".py",
   "mimetype": "text/x-python",
   "name": "python",
   "nbconvert_exporter": "python",
   "pygments_lexer": "ipython3",
   "version": "3.7.6"
  }
 },
 "nbformat": 4,
 "nbformat_minor": 4
}
