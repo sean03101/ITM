{
 "cells": [
  {
   "cell_type": "code",
   "execution_count": 20,
   "metadata": {},
   "outputs": [],
   "source": [
    "import numpy as np\n",
    "import pandas as pd\n",
    "from sklearn import datasets\n",
    "from sklearn.model_selection import train_test_split\n",
    "from sklearn.linear_model import LogisticRegression\n",
    "from sklearn import metrics\n",
    "import statsmodels.api as sm"
   ]
  },
  {
   "cell_type": "code",
   "execution_count": 22,
   "metadata": {},
   "outputs": [
    {
     "name": "stderr",
     "output_type": "stream",
     "text": [
      "C:\\Users\\sean\\anaconda3\\lib\\site-packages\\sklearn\\utils\\validation.py:760: DataConversionWarning: A column-vector y was passed when a 1d array was expected. Please change the shape of y to (n_samples, ), for example using ravel().\n",
      "  y = column_or_1d(y, warn=True)\n"
     ]
    },
    {
     "name": "stdout",
     "output_type": "stream",
     "text": [
      "                            OLS Regression Results                            \n",
      "==============================================================================\n",
      "Dep. Variable:                      y   R-squared:                       0.063\n",
      "Model:                            OLS   Adj. R-squared:                  0.063\n",
      "Method:                 Least Squares   F-statistic:                     1305.\n",
      "Date:                Sun, 24 May 2020   Prob (F-statistic):               0.00\n",
      "Time:                        15:50:24   Log-Likelihood:                 74668.\n",
      "No. Observations:               57854   AIC:                        -1.493e+05\n",
      "Df Residuals:                   57850   BIC:                        -1.493e+05\n",
      "Df Model:                           3                                         \n",
      "Covariance Type:            nonrobust                                         \n",
      "==============================================================================\n",
      "                 coef    std err          t      P>|t|      [0.025      0.975]\n",
      "------------------------------------------------------------------------------\n",
      "const         -0.0509      0.001    -43.813      0.000      -0.053      -0.049\n",
      "x1             0.0081      0.000     34.195      0.000       0.008       0.009\n",
      "x2             0.0012   2.42e-05     50.316      0.000       0.001       0.001\n",
      "x3            -0.0089      0.000    -38.149      0.000      -0.009      -0.008\n",
      "==============================================================================\n",
      "Omnibus:                   102277.880   Durbin-Watson:                   0.209\n",
      "Prob(Omnibus):                  0.000   Jarque-Bera (JB):         79701060.341\n",
      "Skew:                          13.041   Prob(JB):                         0.00\n",
      "Kurtosis:                     182.952   Cond. No.                         243.\n",
      "==============================================================================\n",
      "\n",
      "Warnings:\n",
      "[1] Standard Errors assume that the covariance matrix of the errors is correctly specified.\n",
      "정확도 : 0.9997234513274337\n"
     ]
    }
   ],
   "source": [
    "data = pd.read_csv('plant1_train.csv')\n",
    "df = pd.DataFrame(data)\n",
    "df = df.dropna(axis=0)\n",
    "\n",
    "x = np.array(pd.DataFrame(df , columns = ['plant1_train.tem_in_loc1' , 'plant1_train.hum_in_loc1' , 'plant1_train.tem_coil_loc1']))\n",
    "y = np.array(pd.DataFrame(df, columns=['plant1_train.cond_loc1']))\n",
    "\n",
    "x_train, x_test, y_train, y_test = train_test_split(x, y, test_size=0.25, random_state=0)\n",
    "\n",
    "\n",
    "log_reg = LogisticRegression()\n",
    "log_reg.fit(x_train, y_train)\n",
    " \n",
    "x2 = sm.add_constant(x)\n",
    "model = sm.OLS(y, x2)\n",
    "result = model.fit()\n",
    "print(result.summary())\n",
    " \n",
    "y_pred = log_reg.predict(x_test)\n",
    "\n",
    " \n",
    "print('정확도 :', metrics.accuracy_score(y_test, y_pred))\n"
   ]
  },
  {
   "cell_type": "code",
   "execution_count": 23,
   "metadata": {},
   "outputs": [
    {
     "name": "stderr",
     "output_type": "stream",
     "text": [
      "C:\\Users\\sean\\anaconda3\\lib\\site-packages\\sklearn\\utils\\validation.py:760: DataConversionWarning: A column-vector y was passed when a 1d array was expected. Please change the shape of y to (n_samples, ), for example using ravel().\n",
      "  y = column_or_1d(y, warn=True)\n"
     ]
    },
    {
     "name": "stdout",
     "output_type": "stream",
     "text": [
      "                            OLS Regression Results                            \n",
      "==============================================================================\n",
      "Dep. Variable:                      y   R-squared:                       0.091\n",
      "Model:                            OLS   Adj. R-squared:                  0.091\n",
      "Method:                 Least Squares   F-statistic:                     1942.\n",
      "Date:                Sun, 24 May 2020   Prob (F-statistic):               0.00\n",
      "Time:                        15:55:52   Log-Likelihood:                 59243.\n",
      "No. Observations:               57854   AIC:                        -1.185e+05\n",
      "Df Residuals:                   57850   BIC:                        -1.184e+05\n",
      "Df Model:                           3                                         \n",
      "Covariance Type:            nonrobust                                         \n",
      "==============================================================================\n",
      "                 coef    std err          t      P>|t|      [0.025      0.975]\n",
      "------------------------------------------------------------------------------\n",
      "const         -0.0630      0.001    -43.324      0.000      -0.066      -0.060\n",
      "x1             0.0113      0.000     47.108      0.000       0.011       0.012\n",
      "x2             0.0018   2.86e-05     63.473      0.000       0.002       0.002\n",
      "x3            -0.0128      0.000    -52.056      0.000      -0.013      -0.012\n",
      "==============================================================================\n",
      "Omnibus:                    85251.740   Durbin-Watson:                   0.227\n",
      "Prob(Omnibus):                  0.000   Jarque-Bera (JB):         22161705.983\n",
      "Skew:                           9.317   Prob(JB):                         0.00\n",
      "Kurtosis:                      97.055   Cond. No.                         241.\n",
      "==============================================================================\n",
      "\n",
      "Warnings:\n",
      "[1] Standard Errors assume that the covariance matrix of the errors is correctly specified.\n",
      "정확도 : 0.997441924778761\n"
     ]
    }
   ],
   "source": [
    "x = np.array(pd.DataFrame(df , columns = ['plant1_train.tem_in_loc2' , 'plant1_train.hum_in_loc2' , 'plant1_train.tem_coil_loc1']))\n",
    "y = np.array(pd.DataFrame(df, columns=['plant1_train.cond_loc2']))\n",
    "\n",
    "x_train, x_test, y_train, y_test = train_test_split(x, y, test_size=0.25, random_state=0)\n",
    "\n",
    "\n",
    "log_reg = LogisticRegression()\n",
    "log_reg.fit(x_train, y_train)\n",
    " \n",
    "x2 = sm.add_constant(x)\n",
    "model = sm.OLS(y, x2)\n",
    "result = model.fit()\n",
    "print(result.summary())\n",
    " \n",
    "y_pred = log_reg.predict(x_test)\n",
    "\n",
    " \n",
    "print('정확도 :', metrics.accuracy_score(y_test, y_pred))"
   ]
  },
  {
   "cell_type": "code",
   "execution_count": 31,
   "metadata": {},
   "outputs": [
    {
     "name": "stderr",
     "output_type": "stream",
     "text": [
      "C:\\Users\\sean\\anaconda3\\lib\\site-packages\\sklearn\\utils\\validation.py:760: DataConversionWarning: A column-vector y was passed when a 1d array was expected. Please change the shape of y to (n_samples, ), for example using ravel().\n",
      "  y = column_or_1d(y, warn=True)\n",
      "C:\\Users\\sean\\anaconda3\\lib\\site-packages\\sklearn\\linear_model\\_logistic.py:940: ConvergenceWarning: lbfgs failed to converge (status=1):\n",
      "STOP: TOTAL NO. of ITERATIONS REACHED LIMIT.\n",
      "\n",
      "Increase the number of iterations (max_iter) or scale the data as shown in:\n",
      "    https://scikit-learn.org/stable/modules/preprocessing.html\n",
      "Please also refer to the documentation for alternative solver options:\n",
      "    https://scikit-learn.org/stable/modules/linear_model.html#logistic-regression\n",
      "  extra_warning_msg=_LOGISTIC_SOLVER_CONVERGENCE_MSG)\n"
     ]
    },
    {
     "name": "stdout",
     "output_type": "stream",
     "text": [
      "                            OLS Regression Results                            \n",
      "==============================================================================\n",
      "Dep. Variable:                      y   R-squared:                       0.112\n",
      "Model:                            OLS   Adj. R-squared:                  0.112\n",
      "Method:                 Least Squares   F-statistic:                     909.3\n",
      "Date:                Sun, 24 May 2020   Prob (F-statistic):               0.00\n",
      "Time:                        16:00:56   Log-Likelihood:                 52492.\n",
      "No. Observations:               57854   AIC:                        -1.050e+05\n",
      "Df Residuals:                   57845   BIC:                        -1.049e+05\n",
      "Df Model:                           8                                         \n",
      "Covariance Type:            nonrobust                                         \n",
      "==============================================================================\n",
      "                 coef    std err          t      P>|t|      [0.025      0.975]\n",
      "------------------------------------------------------------------------------\n",
      "const         -0.0802      0.003    -30.813      0.000      -0.085      -0.075\n",
      "x1             0.0150      0.002      8.155      0.000       0.011       0.019\n",
      "x2             0.0043      0.000      9.175      0.000       0.003       0.005\n",
      "x3            -0.0059      0.000    -13.329      0.000      -0.007      -0.005\n",
      "x4             0.0049      0.001      4.302      0.000       0.003       0.007\n",
      "x5             0.0029      0.000     10.585      0.000       0.002       0.003\n",
      "x6            -0.0059      0.000    -13.329      0.000      -0.007      -0.005\n",
      "x7            -0.0075      0.002     -4.698      0.000      -0.011      -0.004\n",
      "x8            -0.0047      0.000    -12.158      0.000      -0.006      -0.004\n",
      "x9            -0.0029      0.001     -4.322      0.000      -0.004      -0.002\n",
      "==============================================================================\n",
      "Omnibus:                    77163.676   Durbin-Watson:                   0.241\n",
      "Prob(Omnibus):                  0.000   Jarque-Bera (JB):         11897423.661\n",
      "Skew:                           7.874   Prob(JB):                         0.00\n",
      "Kurtosis:                      71.465   Cond. No.                     1.86e+18\n",
      "==============================================================================\n",
      "\n",
      "Warnings:\n",
      "[1] Standard Errors assume that the covariance matrix of the errors is correctly specified.\n",
      "[2] The smallest eigenvalue is 1.8e-28. This might indicate that there are\n",
      "strong multicollinearity problems or that the design matrix is singular.\n",
      "정확도 : 0.9949529867256637\n"
     ]
    }
   ],
   "source": [
    "data = pd.read_csv('plant1_train.csv')\n",
    "df = pd.DataFrame(data)\n",
    "df = df.dropna(axis=0, how='any')\n",
    "\n",
    "x = np.array(pd.DataFrame(df , columns = ['plant1_train.tem_in_loc2' , 'plant1_train.hum_in_loc2' , 'plant1_train.tem_coil_loc1',\n",
    "                                         'plant1_train.tem_in_loc1' , 'plant1_train.hum_in_loc1' , 'plant1_train.tem_coil_loc1',\n",
    "                                         'plant1_train.tem_in_loc3' , 'plant1_train.hum_in_loc3' , 'plant1_train.tem_coil_loc3']))\n",
    "y = np.array(pd.DataFrame(df, columns=['plant1_train.cond_loc3']))\n",
    "\n",
    "x_train, x_test, y_train, y_test = train_test_split(x, y, test_size=0.25, random_state=0)\n",
    "\n",
    "\n",
    "log_reg = LogisticRegression()\n",
    "log_reg.fit(x_train, y_train)\n",
    " \n",
    "x2 = sm.add_constant(x)\n",
    "model = sm.OLS(y, x2)\n",
    "result = model.fit()\n",
    "print(result.summary())\n",
    " \n",
    "y_pred = log_reg.predict(x_test)\n",
    "\n",
    " \n",
    "print('정확도 :', metrics.accuracy_score(y_test, y_pred))"
   ]
  }
 ],
 "metadata": {
  "kernelspec": {
   "display_name": "Python 3",
   "language": "python",
   "name": "python3"
  },
  "language_info": {
   "codemirror_mode": {
    "name": "ipython",
    "version": 3
   },
   "file_extension": ".py",
   "mimetype": "text/x-python",
   "name": "python",
   "nbconvert_exporter": "python",
   "pygments_lexer": "ipython3",
   "version": "3.7.6"
  }
 },
 "nbformat": 4,
 "nbformat_minor": 4
}
