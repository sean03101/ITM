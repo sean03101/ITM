{
 "cells": [
  {
   "cell_type": "code",
   "execution_count": 1,
   "metadata": {},
   "outputs": [],
   "source": [
    "import pandas as pd\n",
    "import numpy as np\n",
    "import datetime"
   ]
  },
  {
   "cell_type": "code",
   "execution_count": 30,
   "metadata": {},
   "outputs": [],
   "source": [
    "df = pd.read_csv('./plant1_train.csv', index_col=0)"
   ]
  },
  {
   "cell_type": "code",
   "execution_count": 31,
   "metadata": {},
   "outputs": [
    {
     "data": {
      "text/html": [
       "<div>\n",
       "<style scoped>\n",
       "    .dataframe tbody tr th:only-of-type {\n",
       "        vertical-align: middle;\n",
       "    }\n",
       "\n",
       "    .dataframe tbody tr th {\n",
       "        vertical-align: top;\n",
       "    }\n",
       "\n",
       "    .dataframe thead th {\n",
       "        text-align: right;\n",
       "    }\n",
       "</style>\n",
       "<table border=\"1\" class=\"dataframe\">\n",
       "  <thead>\n",
       "    <tr style=\"text-align: right;\">\n",
       "      <th></th>\n",
       "      <th>plant1_train.mea_ddhr</th>\n",
       "      <th>plant1_train.tem_in_loc1</th>\n",
       "      <th>plant1_train.hum_in_loc1</th>\n",
       "      <th>plant1_train.tem_coil_loc1</th>\n",
       "      <th>plant1_train.tem_in_loc2</th>\n",
       "      <th>plant1_train.hum_in_loc2</th>\n",
       "      <th>plant1_train.tem_coil_loc2</th>\n",
       "      <th>plant1_train.tem_in_loc3</th>\n",
       "      <th>plant1_train.hum_in_loc3</th>\n",
       "      <th>plant1_train.tem_coil_loc3</th>\n",
       "      <th>plant1_train.tem_out_loc1</th>\n",
       "      <th>plant1_train.hum_out_loc1</th>\n",
       "      <th>plant1_train.cond_loc1</th>\n",
       "      <th>plant1_train.cond_loc2</th>\n",
       "      <th>plant1_train.cond_loc3</th>\n",
       "    </tr>\n",
       "  </thead>\n",
       "  <tbody>\n",
       "    <tr>\n",
       "      <th>1</th>\n",
       "      <td>2016-04-01 0:00</td>\n",
       "      <td>16.0</td>\n",
       "      <td>24.0</td>\n",
       "      <td>11.0</td>\n",
       "      <td>14.0</td>\n",
       "      <td>23.0</td>\n",
       "      <td>11.0</td>\n",
       "      <td>13.0</td>\n",
       "      <td>32.0</td>\n",
       "      <td>10.0</td>\n",
       "      <td>9.0</td>\n",
       "      <td>42.0</td>\n",
       "      <td>0.0</td>\n",
       "      <td>0.0</td>\n",
       "      <td>0.0</td>\n",
       "    </tr>\n",
       "    <tr>\n",
       "      <th>2</th>\n",
       "      <td>2016-04-01 3:00</td>\n",
       "      <td>14.0</td>\n",
       "      <td>28.0</td>\n",
       "      <td>10.0</td>\n",
       "      <td>12.0</td>\n",
       "      <td>32.0</td>\n",
       "      <td>9.0</td>\n",
       "      <td>11.0</td>\n",
       "      <td>42.0</td>\n",
       "      <td>7.0</td>\n",
       "      <td>7.0</td>\n",
       "      <td>59.0</td>\n",
       "      <td>0.0</td>\n",
       "      <td>0.0</td>\n",
       "      <td>0.0</td>\n",
       "    </tr>\n",
       "    <tr>\n",
       "      <th>3</th>\n",
       "      <td>2016-04-01 6:00</td>\n",
       "      <td>13.0</td>\n",
       "      <td>33.0</td>\n",
       "      <td>10.0</td>\n",
       "      <td>11.0</td>\n",
       "      <td>37.0</td>\n",
       "      <td>9.0</td>\n",
       "      <td>10.0</td>\n",
       "      <td>44.0</td>\n",
       "      <td>7.0</td>\n",
       "      <td>6.0</td>\n",
       "      <td>56.0</td>\n",
       "      <td>0.0</td>\n",
       "      <td>0.0</td>\n",
       "      <td>0.0</td>\n",
       "    </tr>\n",
       "    <tr>\n",
       "      <th>4</th>\n",
       "      <td>2016-04-01 9:00</td>\n",
       "      <td>13.0</td>\n",
       "      <td>33.0</td>\n",
       "      <td>10.0</td>\n",
       "      <td>11.0</td>\n",
       "      <td>35.0</td>\n",
       "      <td>9.0</td>\n",
       "      <td>10.0</td>\n",
       "      <td>41.0</td>\n",
       "      <td>8.0</td>\n",
       "      <td>18.0</td>\n",
       "      <td>30.0</td>\n",
       "      <td>0.0</td>\n",
       "      <td>0.0</td>\n",
       "      <td>0.0</td>\n",
       "    </tr>\n",
       "    <tr>\n",
       "      <th>5</th>\n",
       "      <td>2016-04-01 12:00</td>\n",
       "      <td>16.0</td>\n",
       "      <td>28.0</td>\n",
       "      <td>10.0</td>\n",
       "      <td>15.0</td>\n",
       "      <td>27.0</td>\n",
       "      <td>11.0</td>\n",
       "      <td>14.0</td>\n",
       "      <td>30.0</td>\n",
       "      <td>9.0</td>\n",
       "      <td>18.0</td>\n",
       "      <td>20.0</td>\n",
       "      <td>0.0</td>\n",
       "      <td>0.0</td>\n",
       "      <td>0.0</td>\n",
       "    </tr>\n",
       "    <tr>\n",
       "      <th>6</th>\n",
       "      <td>2016-04-01 15:00</td>\n",
       "      <td>18.0</td>\n",
       "      <td>24.0</td>\n",
       "      <td>14.0</td>\n",
       "      <td>18.0</td>\n",
       "      <td>21.0</td>\n",
       "      <td>14.0</td>\n",
       "      <td>16.0</td>\n",
       "      <td>27.0</td>\n",
       "      <td>12.0</td>\n",
       "      <td>17.0</td>\n",
       "      <td>23.0</td>\n",
       "      <td>0.0</td>\n",
       "      <td>0.0</td>\n",
       "      <td>0.0</td>\n",
       "    </tr>\n",
       "    <tr>\n",
       "      <th>7</th>\n",
       "      <td>2016-04-01 18:00</td>\n",
       "      <td>17.0</td>\n",
       "      <td>28.0</td>\n",
       "      <td>14.0</td>\n",
       "      <td>17.0</td>\n",
       "      <td>29.0</td>\n",
       "      <td>14.0</td>\n",
       "      <td>15.0</td>\n",
       "      <td>38.0</td>\n",
       "      <td>12.0</td>\n",
       "      <td>12.0</td>\n",
       "      <td>52.0</td>\n",
       "      <td>0.0</td>\n",
       "      <td>0.0</td>\n",
       "      <td>0.0</td>\n",
       "    </tr>\n",
       "    <tr>\n",
       "      <th>8</th>\n",
       "      <td>2016-04-01 21:00</td>\n",
       "      <td>16.0</td>\n",
       "      <td>38.0</td>\n",
       "      <td>12.0</td>\n",
       "      <td>15.0</td>\n",
       "      <td>36.0</td>\n",
       "      <td>12.0</td>\n",
       "      <td>14.0</td>\n",
       "      <td>41.0</td>\n",
       "      <td>11.0</td>\n",
       "      <td>11.0</td>\n",
       "      <td>55.0</td>\n",
       "      <td>0.0</td>\n",
       "      <td>0.0</td>\n",
       "      <td>0.0</td>\n",
       "    </tr>\n",
       "    <tr>\n",
       "      <th>9</th>\n",
       "      <td>2016-04-02 0:00</td>\n",
       "      <td>15.0</td>\n",
       "      <td>41.0</td>\n",
       "      <td>12.0</td>\n",
       "      <td>14.0</td>\n",
       "      <td>43.0</td>\n",
       "      <td>12.0</td>\n",
       "      <td>13.0</td>\n",
       "      <td>49.0</td>\n",
       "      <td>11.0</td>\n",
       "      <td>10.0</td>\n",
       "      <td>57.0</td>\n",
       "      <td>0.0</td>\n",
       "      <td>0.0</td>\n",
       "      <td>0.0</td>\n",
       "    </tr>\n",
       "    <tr>\n",
       "      <th>10</th>\n",
       "      <td>2016-04-02 3:00</td>\n",
       "      <td>14.0</td>\n",
       "      <td>41.0</td>\n",
       "      <td>10.0</td>\n",
       "      <td>12.0</td>\n",
       "      <td>44.0</td>\n",
       "      <td>9.0</td>\n",
       "      <td>12.0</td>\n",
       "      <td>49.0</td>\n",
       "      <td>8.0</td>\n",
       "      <td>10.0</td>\n",
       "      <td>54.0</td>\n",
       "      <td>0.0</td>\n",
       "      <td>0.0</td>\n",
       "      <td>0.0</td>\n",
       "    </tr>\n",
       "  </tbody>\n",
       "</table>\n",
       "</div>"
      ],
      "text/plain": [
       "   plant1_train.mea_ddhr  plant1_train.tem_in_loc1  plant1_train.hum_in_loc1  \\\n",
       "1        2016-04-01 0:00                      16.0                      24.0   \n",
       "2        2016-04-01 3:00                      14.0                      28.0   \n",
       "3        2016-04-01 6:00                      13.0                      33.0   \n",
       "4        2016-04-01 9:00                      13.0                      33.0   \n",
       "5       2016-04-01 12:00                      16.0                      28.0   \n",
       "6       2016-04-01 15:00                      18.0                      24.0   \n",
       "7       2016-04-01 18:00                      17.0                      28.0   \n",
       "8       2016-04-01 21:00                      16.0                      38.0   \n",
       "9        2016-04-02 0:00                      15.0                      41.0   \n",
       "10       2016-04-02 3:00                      14.0                      41.0   \n",
       "\n",
       "    plant1_train.tem_coil_loc1  plant1_train.tem_in_loc2  \\\n",
       "1                         11.0                      14.0   \n",
       "2                         10.0                      12.0   \n",
       "3                         10.0                      11.0   \n",
       "4                         10.0                      11.0   \n",
       "5                         10.0                      15.0   \n",
       "6                         14.0                      18.0   \n",
       "7                         14.0                      17.0   \n",
       "8                         12.0                      15.0   \n",
       "9                         12.0                      14.0   \n",
       "10                        10.0                      12.0   \n",
       "\n",
       "    plant1_train.hum_in_loc2  plant1_train.tem_coil_loc2  \\\n",
       "1                       23.0                        11.0   \n",
       "2                       32.0                         9.0   \n",
       "3                       37.0                         9.0   \n",
       "4                       35.0                         9.0   \n",
       "5                       27.0                        11.0   \n",
       "6                       21.0                        14.0   \n",
       "7                       29.0                        14.0   \n",
       "8                       36.0                        12.0   \n",
       "9                       43.0                        12.0   \n",
       "10                      44.0                         9.0   \n",
       "\n",
       "    plant1_train.tem_in_loc3  plant1_train.hum_in_loc3  \\\n",
       "1                       13.0                      32.0   \n",
       "2                       11.0                      42.0   \n",
       "3                       10.0                      44.0   \n",
       "4                       10.0                      41.0   \n",
       "5                       14.0                      30.0   \n",
       "6                       16.0                      27.0   \n",
       "7                       15.0                      38.0   \n",
       "8                       14.0                      41.0   \n",
       "9                       13.0                      49.0   \n",
       "10                      12.0                      49.0   \n",
       "\n",
       "    plant1_train.tem_coil_loc3  plant1_train.tem_out_loc1  \\\n",
       "1                         10.0                        9.0   \n",
       "2                          7.0                        7.0   \n",
       "3                          7.0                        6.0   \n",
       "4                          8.0                       18.0   \n",
       "5                          9.0                       18.0   \n",
       "6                         12.0                       17.0   \n",
       "7                         12.0                       12.0   \n",
       "8                         11.0                       11.0   \n",
       "9                         11.0                       10.0   \n",
       "10                         8.0                       10.0   \n",
       "\n",
       "    plant1_train.hum_out_loc1  plant1_train.cond_loc1  plant1_train.cond_loc2  \\\n",
       "1                        42.0                     0.0                     0.0   \n",
       "2                        59.0                     0.0                     0.0   \n",
       "3                        56.0                     0.0                     0.0   \n",
       "4                        30.0                     0.0                     0.0   \n",
       "5                        20.0                     0.0                     0.0   \n",
       "6                        23.0                     0.0                     0.0   \n",
       "7                        52.0                     0.0                     0.0   \n",
       "8                        55.0                     0.0                     0.0   \n",
       "9                        57.0                     0.0                     0.0   \n",
       "10                       54.0                     0.0                     0.0   \n",
       "\n",
       "    plant1_train.cond_loc3  \n",
       "1                      0.0  \n",
       "2                      0.0  \n",
       "3                      0.0  \n",
       "4                      0.0  \n",
       "5                      0.0  \n",
       "6                      0.0  \n",
       "7                      0.0  \n",
       "8                      0.0  \n",
       "9                      0.0  \n",
       "10                     0.0  "
      ]
     },
     "execution_count": 31,
     "metadata": {},
     "output_type": "execute_result"
    }
   ],
   "source": [
    "df.head(10)"
   ]
  },
  {
   "cell_type": "code",
   "execution_count": 5,
   "metadata": {},
   "outputs": [
    {
     "name": "stdout",
     "output_type": "stream",
     "text": [
      "['plant1_train.mea_ddhr', 'plant1_train.tem_in_loc1', 'plant1_train.hum_in_loc1', 'plant1_train.tem_coil_loc1', 'plant1_train.tem_out_loc1', 'plant1_train.hum_out_loc1', 'plant1_train.cond_loc1']\n"
     ]
    }
   ],
   "source": [
    "df_loc1 = ['plant1_train.mea_ddhr'] + [x for x in df.columns if x[-1] == str(1)]\n",
    "print(df_loc1)"
   ]
  },
  {
   "cell_type": "code",
   "execution_count": 6,
   "metadata": {},
   "outputs": [
    {
     "name": "stdout",
     "output_type": "stream",
     "text": [
      "['plant1_train.mea_ddhr', 'plant1_train.tem_in_loc2', 'plant1_train.hum_in_loc2', 'plant1_train.tem_coil_loc2', 'plant1_train.tem_out_loc1', 'plant1_train.hum_out_loc1', 'plant1_train.cond_loc2']\n"
     ]
    }
   ],
   "source": [
    "df_loc2 = ['plant1_train.mea_ddhr'] + [x for x in df.columns if x[-1] == str(2) and x != 'plant1_train.cond_loc2'] + ['plant1_train.tem_out_loc1', 'plant1_train.hum_out_loc1'] + ['plant1_train.cond_loc2']\n",
    "print(df_loc2)"
   ]
  },
  {
   "cell_type": "code",
   "execution_count": 8,
   "metadata": {},
   "outputs": [
    {
     "name": "stdout",
     "output_type": "stream",
     "text": [
      "['plant1_train.mea_ddhr', 'plant1_train.tem_in_loc3', 'plant1_train.hum_in_loc3', 'plant1_train.tem_coil_loc3', 'plant1_train.tem_out_loc1', 'plant1_train.hum_out_loc1', 'plant1_train.cond_loc3']\n"
     ]
    }
   ],
   "source": [
    "df_loc3 = ['plant1_train.mea_ddhr'] + [x for x in df.columns if x[-1] == str(3) and x != 'plant1_train.cond_loc3'] + ['plant1_train.tem_out_loc1', 'plant1_train.hum_out_loc1'] + ['plant1_train.cond_loc3']\n",
    "print(df_loc3)"
   ]
  },
  {
   "cell_type": "code",
   "execution_count": 9,
   "metadata": {},
   "outputs": [],
   "source": [
    "df1 = df[df_loc1]\n",
    "df2 = df[df_loc2]\n",
    "df3 = df[df_loc3]"
   ]
  },
  {
   "cell_type": "code",
   "execution_count": 10,
   "metadata": {},
   "outputs": [
    {
     "name": "stderr",
     "output_type": "stream",
     "text": [
      "C:\\Users\\sean\\anaconda3\\lib\\site-packages\\ipykernel_launcher.py:1: SettingWithCopyWarning: \n",
      "A value is trying to be set on a copy of a slice from a DataFrame.\n",
      "Try using .loc[row_indexer,col_indexer] = value instead\n",
      "\n",
      "See the caveats in the documentation: https://pandas.pydata.org/pandas-docs/stable/user_guide/indexing.html#returning-a-view-versus-a-copy\n",
      "  \"\"\"Entry point for launching an IPython kernel.\n",
      "C:\\Users\\sean\\anaconda3\\lib\\site-packages\\ipykernel_launcher.py:2: SettingWithCopyWarning: \n",
      "A value is trying to be set on a copy of a slice from a DataFrame.\n",
      "Try using .loc[row_indexer,col_indexer] = value instead\n",
      "\n",
      "See the caveats in the documentation: https://pandas.pydata.org/pandas-docs/stable/user_guide/indexing.html#returning-a-view-versus-a-copy\n",
      "  \n",
      "C:\\Users\\sean\\anaconda3\\lib\\site-packages\\ipykernel_launcher.py:3: SettingWithCopyWarning: \n",
      "A value is trying to be set on a copy of a slice from a DataFrame.\n",
      "Try using .loc[row_indexer,col_indexer] = value instead\n",
      "\n",
      "See the caveats in the documentation: https://pandas.pydata.org/pandas-docs/stable/user_guide/indexing.html#returning-a-view-versus-a-copy\n",
      "  This is separate from the ipykernel package so we can avoid doing imports until\n"
     ]
    }
   ],
   "source": [
    "df1['loc'] = 1\n",
    "df2['loc'] = 2\n",
    "df3['loc'] = 3"
   ]
  },
  {
   "cell_type": "code",
   "execution_count": 11,
   "metadata": {},
   "outputs": [
    {
     "data": {
      "text/html": [
       "<div>\n",
       "<style scoped>\n",
       "    .dataframe tbody tr th:only-of-type {\n",
       "        vertical-align: middle;\n",
       "    }\n",
       "\n",
       "    .dataframe tbody tr th {\n",
       "        vertical-align: top;\n",
       "    }\n",
       "\n",
       "    .dataframe thead th {\n",
       "        text-align: right;\n",
       "    }\n",
       "</style>\n",
       "<table border=\"1\" class=\"dataframe\">\n",
       "  <thead>\n",
       "    <tr style=\"text-align: right;\">\n",
       "      <th></th>\n",
       "      <th>plant1_train.mea_ddhr</th>\n",
       "      <th>plant1_train.tem_in_loc1</th>\n",
       "      <th>plant1_train.hum_in_loc1</th>\n",
       "      <th>plant1_train.tem_coil_loc1</th>\n",
       "      <th>plant1_train.tem_out_loc1</th>\n",
       "      <th>plant1_train.hum_out_loc1</th>\n",
       "      <th>plant1_train.cond_loc1</th>\n",
       "      <th>loc</th>\n",
       "    </tr>\n",
       "  </thead>\n",
       "  <tbody>\n",
       "    <tr>\n",
       "      <th>1</th>\n",
       "      <td>2016-04-01 0:00</td>\n",
       "      <td>16.0</td>\n",
       "      <td>24.0</td>\n",
       "      <td>11.0</td>\n",
       "      <td>9.0</td>\n",
       "      <td>42.0</td>\n",
       "      <td>0.0</td>\n",
       "      <td>1</td>\n",
       "    </tr>\n",
       "    <tr>\n",
       "      <th>2</th>\n",
       "      <td>2016-04-01 3:00</td>\n",
       "      <td>14.0</td>\n",
       "      <td>28.0</td>\n",
       "      <td>10.0</td>\n",
       "      <td>7.0</td>\n",
       "      <td>59.0</td>\n",
       "      <td>0.0</td>\n",
       "      <td>1</td>\n",
       "    </tr>\n",
       "    <tr>\n",
       "      <th>3</th>\n",
       "      <td>2016-04-01 6:00</td>\n",
       "      <td>13.0</td>\n",
       "      <td>33.0</td>\n",
       "      <td>10.0</td>\n",
       "      <td>6.0</td>\n",
       "      <td>56.0</td>\n",
       "      <td>0.0</td>\n",
       "      <td>1</td>\n",
       "    </tr>\n",
       "    <tr>\n",
       "      <th>4</th>\n",
       "      <td>2016-04-01 9:00</td>\n",
       "      <td>13.0</td>\n",
       "      <td>33.0</td>\n",
       "      <td>10.0</td>\n",
       "      <td>18.0</td>\n",
       "      <td>30.0</td>\n",
       "      <td>0.0</td>\n",
       "      <td>1</td>\n",
       "    </tr>\n",
       "    <tr>\n",
       "      <th>5</th>\n",
       "      <td>2016-04-01 12:00</td>\n",
       "      <td>16.0</td>\n",
       "      <td>28.0</td>\n",
       "      <td>10.0</td>\n",
       "      <td>18.0</td>\n",
       "      <td>20.0</td>\n",
       "      <td>0.0</td>\n",
       "      <td>1</td>\n",
       "    </tr>\n",
       "  </tbody>\n",
       "</table>\n",
       "</div>"
      ],
      "text/plain": [
       "  plant1_train.mea_ddhr  plant1_train.tem_in_loc1  plant1_train.hum_in_loc1  \\\n",
       "1       2016-04-01 0:00                      16.0                      24.0   \n",
       "2       2016-04-01 3:00                      14.0                      28.0   \n",
       "3       2016-04-01 6:00                      13.0                      33.0   \n",
       "4       2016-04-01 9:00                      13.0                      33.0   \n",
       "5      2016-04-01 12:00                      16.0                      28.0   \n",
       "\n",
       "   plant1_train.tem_coil_loc1  plant1_train.tem_out_loc1  \\\n",
       "1                        11.0                        9.0   \n",
       "2                        10.0                        7.0   \n",
       "3                        10.0                        6.0   \n",
       "4                        10.0                       18.0   \n",
       "5                        10.0                       18.0   \n",
       "\n",
       "   plant1_train.hum_out_loc1  plant1_train.cond_loc1  loc  \n",
       "1                       42.0                     0.0    1  \n",
       "2                       59.0                     0.0    1  \n",
       "3                       56.0                     0.0    1  \n",
       "4                       30.0                     0.0    1  \n",
       "5                       20.0                     0.0    1  "
      ]
     },
     "execution_count": 11,
     "metadata": {},
     "output_type": "execute_result"
    }
   ],
   "source": [
    "df1.head()"
   ]
  },
  {
   "cell_type": "code",
   "execution_count": 12,
   "metadata": {},
   "outputs": [
    {
     "data": {
      "text/plain": [
       "1    58749\n",
       "Name: loc, dtype: int64"
      ]
     },
     "execution_count": 12,
     "metadata": {},
     "output_type": "execute_result"
    }
   ],
   "source": [
    "pd.value_counts(df1['loc'])"
   ]
  },
  {
   "cell_type": "code",
   "execution_count": 13,
   "metadata": {},
   "outputs": [
    {
     "name": "stdout",
     "output_type": "stream",
     "text": [
      "(58749, 8) (58749, 8) (58749, 8)\n"
     ]
    }
   ],
   "source": [
    "print(df1.values.shape, \n",
    "      df2.values.shape, \n",
    "      df3.values.shape)"
   ]
  },
  {
   "cell_type": "code",
   "execution_count": 14,
   "metadata": {},
   "outputs": [],
   "source": [
    "whole = np.vstack((df1.values, df2.values, df3.values))"
   ]
  },
  {
   "cell_type": "code",
   "execution_count": 15,
   "metadata": {},
   "outputs": [
    {
     "data": {
      "text/plain": [
       "(176247, 8)"
      ]
     },
     "execution_count": 15,
     "metadata": {},
     "output_type": "execute_result"
    }
   ],
   "source": [
    "whole.shape"
   ]
  },
  {
   "cell_type": "code",
   "execution_count": 16,
   "metadata": {},
   "outputs": [],
   "source": [
    "new_df = pd.DataFrame(whole, columns=['mea_ddhr', 'tem_in', 'hum_in', 'tem_coil', 'tem_out', 'hum_out', 'cond', 'loc'])"
   ]
  },
  {
   "cell_type": "code",
   "execution_count": 17,
   "metadata": {},
   "outputs": [
    {
     "data": {
      "text/html": [
       "<div>\n",
       "<style scoped>\n",
       "    .dataframe tbody tr th:only-of-type {\n",
       "        vertical-align: middle;\n",
       "    }\n",
       "\n",
       "    .dataframe tbody tr th {\n",
       "        vertical-align: top;\n",
       "    }\n",
       "\n",
       "    .dataframe thead th {\n",
       "        text-align: right;\n",
       "    }\n",
       "</style>\n",
       "<table border=\"1\" class=\"dataframe\">\n",
       "  <thead>\n",
       "    <tr style=\"text-align: right;\">\n",
       "      <th></th>\n",
       "      <th>mea_ddhr</th>\n",
       "      <th>tem_in</th>\n",
       "      <th>hum_in</th>\n",
       "      <th>tem_coil</th>\n",
       "      <th>tem_out</th>\n",
       "      <th>hum_out</th>\n",
       "      <th>cond</th>\n",
       "      <th>loc</th>\n",
       "    </tr>\n",
       "  </thead>\n",
       "  <tbody>\n",
       "    <tr>\n",
       "      <th>0</th>\n",
       "      <td>2016-04-01 0:00</td>\n",
       "      <td>16</td>\n",
       "      <td>24</td>\n",
       "      <td>11</td>\n",
       "      <td>9</td>\n",
       "      <td>42</td>\n",
       "      <td>0</td>\n",
       "      <td>1</td>\n",
       "    </tr>\n",
       "    <tr>\n",
       "      <th>1</th>\n",
       "      <td>2016-04-01 3:00</td>\n",
       "      <td>14</td>\n",
       "      <td>28</td>\n",
       "      <td>10</td>\n",
       "      <td>7</td>\n",
       "      <td>59</td>\n",
       "      <td>0</td>\n",
       "      <td>1</td>\n",
       "    </tr>\n",
       "    <tr>\n",
       "      <th>2</th>\n",
       "      <td>2016-04-01 6:00</td>\n",
       "      <td>13</td>\n",
       "      <td>33</td>\n",
       "      <td>10</td>\n",
       "      <td>6</td>\n",
       "      <td>56</td>\n",
       "      <td>0</td>\n",
       "      <td>1</td>\n",
       "    </tr>\n",
       "    <tr>\n",
       "      <th>3</th>\n",
       "      <td>2016-04-01 9:00</td>\n",
       "      <td>13</td>\n",
       "      <td>33</td>\n",
       "      <td>10</td>\n",
       "      <td>18</td>\n",
       "      <td>30</td>\n",
       "      <td>0</td>\n",
       "      <td>1</td>\n",
       "    </tr>\n",
       "    <tr>\n",
       "      <th>4</th>\n",
       "      <td>2016-04-01 12:00</td>\n",
       "      <td>16</td>\n",
       "      <td>28</td>\n",
       "      <td>10</td>\n",
       "      <td>18</td>\n",
       "      <td>20</td>\n",
       "      <td>0</td>\n",
       "      <td>1</td>\n",
       "    </tr>\n",
       "  </tbody>\n",
       "</table>\n",
       "</div>"
      ],
      "text/plain": [
       "           mea_ddhr tem_in hum_in tem_coil tem_out hum_out cond loc\n",
       "0   2016-04-01 0:00     16     24       11       9      42    0   1\n",
       "1   2016-04-01 3:00     14     28       10       7      59    0   1\n",
       "2   2016-04-01 6:00     13     33       10       6      56    0   1\n",
       "3   2016-04-01 9:00     13     33       10      18      30    0   1\n",
       "4  2016-04-01 12:00     16     28       10      18      20    0   1"
      ]
     },
     "execution_count": 17,
     "metadata": {},
     "output_type": "execute_result"
    }
   ],
   "source": [
    "new_df.head()"
   ]
  },
  {
   "cell_type": "code",
   "execution_count": 18,
   "metadata": {},
   "outputs": [
    {
     "data": {
      "text/plain": [
       "(176247, 8)"
      ]
     },
     "execution_count": 18,
     "metadata": {},
     "output_type": "execute_result"
    }
   ],
   "source": [
    "new_df.shape"
   ]
  },
  {
   "cell_type": "code",
   "execution_count": 19,
   "metadata": {},
   "outputs": [
    {
     "data": {
      "text/plain": [
       "3    58749\n",
       "2    58749\n",
       "1    58749\n",
       "Name: loc, dtype: int64"
      ]
     },
     "execution_count": 19,
     "metadata": {},
     "output_type": "execute_result"
    }
   ],
   "source": [
    "pd.value_counts(new_df['loc'])"
   ]
  },
  {
   "cell_type": "code",
   "execution_count": 20,
   "metadata": {},
   "outputs": [
    {
     "data": {
      "text/plain": [
       "0.0    173705\n",
       "1.0      1407\n",
       "Name: cond, dtype: int64"
      ]
     },
     "execution_count": 20,
     "metadata": {},
     "output_type": "execute_result"
    }
   ],
   "source": [
    "pd.value_counts(new_df['cond'])"
   ]
  },
  {
   "cell_type": "code",
   "execution_count": 21,
   "metadata": {},
   "outputs": [
    {
     "data": {
      "text/plain": [
       "Index(['mea_ddhr', 'tem_in', 'hum_in', 'tem_coil', 'tem_out', 'hum_out',\n",
       "       'cond', 'loc'],\n",
       "      dtype='object')"
      ]
     },
     "execution_count": 21,
     "metadata": {},
     "output_type": "execute_result"
    }
   ],
   "source": [
    "new_df.columns"
   ]
  },
  {
   "cell_type": "code",
   "execution_count": 22,
   "metadata": {},
   "outputs": [],
   "source": [
    "new_df['time_period'] = 0\n",
    "new_df['time_period'] = new_df.apply(lambda x : datetime.datetime.strptime(x['mea_ddhr'], '%Y-%m-%d %H:%M').replace(minute=0),axis = 1)"
   ]
  },
  {
   "cell_type": "code",
   "execution_count": 23,
   "metadata": {},
   "outputs": [],
   "source": [
    "new_df['tem_diff'] = 0\n",
    "new_df['tem_diff'] = new_df.apply(lambda x : x['tem_in']- x['tem_coil'],axis = 1)"
   ]
  },
  {
   "cell_type": "code",
   "execution_count": 24,
   "metadata": {},
   "outputs": [
    {
     "data": {
      "text/plain": [
       "(176247, 10)"
      ]
     },
     "execution_count": 24,
     "metadata": {},
     "output_type": "execute_result"
    }
   ],
   "source": [
    "new_df.shape"
   ]
  },
  {
   "cell_type": "code",
   "execution_count": 25,
   "metadata": {},
   "outputs": [
    {
     "data": {
      "text/plain": [
       "Index(['mea_ddhr', 'tem_in', 'hum_in', 'tem_coil', 'tem_out', 'hum_out',\n",
       "       'cond', 'loc', 'time_period', 'tem_diff'],\n",
       "      dtype='object')"
      ]
     },
     "execution_count": 25,
     "metadata": {},
     "output_type": "execute_result"
    }
   ],
   "source": [
    "new_df.columns"
   ]
  },
  {
   "cell_type": "code",
   "execution_count": 26,
   "metadata": {},
   "outputs": [
    {
     "data": {
      "text/plain": [
       "count    175112.000000\n",
       "mean          0.815400\n",
       "std           1.513463\n",
       "min          -4.530000\n",
       "25%          -0.240000\n",
       "50%           0.820000\n",
       "75%           1.930000\n",
       "max           7.040000\n",
       "Name: tem_diff, dtype: float64"
      ]
     },
     "execution_count": 26,
     "metadata": {},
     "output_type": "execute_result"
    }
   ],
   "source": [
    "new_df['tem_diff'].describe()"
   ]
  },
  {
   "cell_type": "code",
   "execution_count": 27,
   "metadata": {},
   "outputs": [
    {
     "data": {
      "text/plain": [
       "(176247, 10)"
      ]
     },
     "execution_count": 27,
     "metadata": {},
     "output_type": "execute_result"
    }
   ],
   "source": [
    "new_df.shape"
   ]
  },
  {
   "cell_type": "code",
   "execution_count": 29,
   "metadata": {},
   "outputs": [],
   "source": [
    "new_df.to_csv('./plant1_new1.csv')"
   ]
  },
  {
   "cell_type": "code",
   "execution_count": null,
   "metadata": {},
   "outputs": [],
   "source": []
  }
 ],
 "metadata": {
  "kernelspec": {
   "display_name": "Python 3",
   "language": "python",
   "name": "python3"
  },
  "language_info": {
   "codemirror_mode": {
    "name": "ipython",
    "version": 3
   },
   "file_extension": ".py",
   "mimetype": "text/x-python",
   "name": "python",
   "nbconvert_exporter": "python",
   "pygments_lexer": "ipython3",
   "version": "3.7.6"
  }
 },
 "nbformat": 4,
 "nbformat_minor": 4
}
