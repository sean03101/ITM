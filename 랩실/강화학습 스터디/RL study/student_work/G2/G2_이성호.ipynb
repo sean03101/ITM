{
 "cells": [
  {
   "cell_type": "code",
   "execution_count": null,
   "metadata": {},
   "outputs": [],
   "source": [
    "import pandas as pd\n",
    "import numpy as np\n",
    "import seaborn as sns\n",
    "import matplotlib.pyplot as plt\n",
    "\n",
    "\n",
    "#Data preperation\n",
    "\n",
    "diamonds=pd.read_csv('/diamond.csv')\n",
    "\n",
    "diamonds = diamonds[diamonds['color'].isin(['G'])]\n",
    "diamonds = diamonds[diamonds['carat']<1.75]\n",
    "diamonds = diamonds.reset_index()\n",
    "diamonds = diamonds[['carat','cut','price']]\n",
    "\n"
   ]
  },
  {
   "cell_type": "code",
   "execution_count": null,
   "metadata": {},
   "outputs": [],
   "source": [
    "diamonds.info()"
   ]
  },
  {
   "cell_type": "code",
   "execution_count": null,
   "metadata": {},
   "outputs": [],
   "source": [
    "diamonds['cut'].unique()"
   ]
  },
  {
   "cell_type": "code",
   "execution_count": null,
   "metadata": {},
   "outputs": [],
   "source": [
    "diamonds.head()"
   ]
  },
  {
   "cell_type": "code",
   "execution_count": null,
   "metadata": {},
   "outputs": [],
   "source": [
    "sns.jointplot(x = diamonds['carat'], y= diamonds['price'], kind = 'reg')"
   ]
  },
  {
   "cell_type": "code",
   "execution_count": null,
   "metadata": {},
   "outputs": [],
   "source": [
    "sns.lmplot(x = 'carat', y= 'price', data = diamonds, fit_reg = True , hue = 'cut', scatter = True, legend = True, palette = \"Set2\")"
   ]
  },
  {
   "cell_type": "code",
   "execution_count": null,
   "metadata": {},
   "outputs": [],
   "source": [
    "diamonds=pd.get_dummies(diamonds)\n",
    "\n",
    "diamonds.head()"
   ]
  },
  {
   "cell_type": "code",
   "execution_count": null,
   "metadata": {},
   "outputs": [],
   "source": [
    "import statsmodels.api as sm\n",
    "\n",
    "X=diamonds.drop(['price','cut_Ideal'], axis=1)\n",
    "y=diamonds['price']\n",
    "\n",
    "X=sm.add_constant(X)\n",
    "lm_fit=sm.OLS(y,X).fit()\n",
    "lm_fit.summary()"
   ]
  },
  {
   "cell_type": "code",
   "execution_count": null,
   "metadata": {},
   "outputs": [],
   "source": [
    "pred_y=lm_fit.predict(X)\n",
    "\n",
    "sns.regplot(x=pred_y , y = y , scatter_kws = {\"color\":\"darkred\", \"alpha\" : 0.15 , \"s\" : 10})"
   ]
  },
  {
   "cell_type": "code",
   "execution_count": null,
   "metadata": {},
   "outputs": [],
   "source": [
    "X=diamonds.drop(['price','cut_Ideal'], axis=1)\n",
    "y_log=np.log(diamonds['price'])\n",
    "\n",
    "X=sm.add_constant(X)\n",
    "lm_fit_log=sm.OLS(y_log, X).fit()\n",
    "print('R square : {0:.4f}'.format(lm_fit_log.rsquared))\n",
    "\n",
    "lm_fitted_log=lm_fit_log.predict(X)\n",
    "\n",
    "sns.regplot(x=lm_fitted_log , y = y_log , scatter_kws = {\"color\":\"darkred\", \"alpha\" : 0.15 , \"s\" : 10})"
   ]
  },
  {
   "cell_type": "code",
   "execution_count": null,
   "metadata": {},
   "outputs": [],
   "source": [
    "X=diamonds.drop(['cut_Ideal','price'], axis=1).values\n",
    "Y_actual=diamonds['price'].values\n",
    "\n",
    "print(X.shape)\n",
    "print(Y_actual.shape)"
   ]
  },
  {
   "cell_type": "code",
   "execution_count": null,
   "metadata": {},
   "outputs": [],
   "source": [
    "from keras import models\n",
    "from keras import layers\n",
    "\n",
    "dense_fit=models.Sequential()\n",
    "dense_fit.add(layers.Dense(units=16, activation='relu', input_shape=(X.shape[1],)))\n",
    "dense_fit.add(layers.Dense(units=16, activation='relu'))\n",
    "dense_fit.add(layers.Dense(units=1, activation='linear'))\n",
    "dense_fit.summary()"
   ]
  },
  {
   "cell_type": "code",
   "execution_count": null,
   "metadata": {},
   "outputs": [],
   "source": [
    "dense_fit.compile(loss='mse', optimizer='adam')\n",
    "\n",
    "history=dense_fit.fit(X, Y_actual, epochs=30, batch_size=16)"
   ]
  },
  {
   "cell_type": "code",
   "execution_count": null,
   "metadata": {},
   "outputs": [],
   "source": [
    "plt.plot(range(30), history.history['loss'], label='Traning loss' , marker='o')\n",
    "plt.title('Training loss')\n",
    "plt.xlabel(\"Epochs\")\n",
    "plt.ylabel(\"Loss\")\n",
    "plt.legend()\n",
    "plt.show()\n"
   ]
  },
  {
   "cell_type": "code",
   "execution_count": null,
   "metadata": {},
   "outputs": [],
   "source": [
    "Y_pred=dense_fit.predict(X).reshape(-1)\n",
    "\n",
    "results=pd.DataFrame({'Y_pred':Y_pred, 'price':Y_actual})\n",
    "results.head()"
   ]
  },
  {
   "cell_type": "code",
   "execution_count": null,
   "metadata": {},
   "outputs": [],
   "source": [
    "r_squared=results.corr()**2\n",
    "r_squared"
   ]
  },
  {
   "cell_type": "code",
   "execution_count": null,
   "metadata": {},
   "outputs": [],
   "source": [
    "sns.regplot(data = results, x='Y_pred' , y = 'price' , scatter_kws = {\"color\":\"darkred\", \"alpha\" : 0.15 , \"s\" : 10})"
   ]
  }
 ],
 "metadata": {
  "kernelspec": {
   "display_name": "Python 3",
   "language": "python",
   "name": "python3"
  },
  "language_info": {
   "codemirror_mode": {
    "name": "ipython",
    "version": 3
   },
   "file_extension": ".py",
   "mimetype": "text/x-python",
   "name": "python",
   "nbconvert_exporter": "python",
   "pygments_lexer": "ipython3",
   "version": "3.8.5"
  }
 },
 "nbformat": 4,
 "nbformat_minor": 4
}
