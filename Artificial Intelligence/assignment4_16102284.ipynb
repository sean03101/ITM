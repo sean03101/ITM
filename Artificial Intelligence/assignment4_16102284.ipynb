{
  "nbformat": 4,
  "nbformat_minor": 0,
  "metadata": {
    "colab": {
      "name": "assignment4_16102284.ipynb",
      "provenance": [],
      "collapsed_sections": []
    },
    "kernelspec": {
      "name": "python3",
      "display_name": "Python 3"
    }
  },
  "cells": [
    {
      "cell_type": "markdown",
      "metadata": {
        "id": "6vFXgflvZ6Ga"
      },
      "source": [
        "## Assignment #4"
      ]
    },
    {
      "cell_type": "markdown",
      "metadata": {
        "id": "UevAU0CYVhiu"
      },
      "source": [
        "* Release date: 2021/11/16 Tue\n",
        "* Due date: **2021/11/23 Tue 23:59** (will not accept late submission)\n",
        "* Submittion format: notebook file which can be executed in Colab environment\n",
        "* Weighting: 10% (total 100 pts)"
      ]
    },
    {
      "cell_type": "markdown",
      "metadata": {
        "id": "lM-3XHjlwVHh"
      },
      "source": [
        "* Sentiment classification model using IMDB dataset\n",
        "  * Compare LSTM and GRU models with **pretrained embedding from Glove**\n",
        "  * You can download Glove model from the below link.\n",
        "    * https://drive.google.com/open?id=1NgMR-bnt02gYTr44BVTo2fRePastYypW"
      ]
    },
    {
      "cell_type": "markdown",
      "metadata": {
        "id": "KxrhNNhWbfHD"
      },
      "source": [
        "> ### Prepare the dataset\n"
      ]
    },
    {
      "cell_type": "code",
      "metadata": {
        "id": "NmLRa5GNeSOi",
        "colab": {
          "base_uri": "https://localhost:8080/"
        },
        "outputId": "cde3b818-e511-4639-eb90-8ccb101af98a"
      },
      "source": [
        "from tensorflow.keras.datasets import imdb\n",
        "from tensorflow.keras import preprocessing\n",
        "\n",
        "max_features = 10000\n",
        "maxlen = 500\n",
        "\n",
        "(x_train, y_train), (x_test, y_test) = imdb.load_data(num_words=max_features)\n",
        "\n",
        "x_train = preprocessing.sequence.pad_sequences(x_train, maxlen=maxlen)\n",
        "x_test = preprocessing.sequence.pad_sequences(x_test, maxlen=maxlen)"
      ],
      "execution_count": 1,
      "outputs": [
        {
          "output_type": "stream",
          "name": "stdout",
          "text": [
            "Downloading data from https://storage.googleapis.com/tensorflow/tf-keras-datasets/imdb.npz\n",
            "17465344/17464789 [==============================] - 0s 0us/step\n",
            "17473536/17464789 [==============================] - 0s 0us/step\n"
          ]
        }
      ]
    },
    {
      "cell_type": "code",
      "metadata": {
        "id": "3qRgjsfPgd53",
        "colab": {
          "base_uri": "https://localhost:8080/"
        },
        "outputId": "96f39221-5e4b-4ce0-f481-8ecf279162a8"
      },
      "source": [
        "# construct embedding matrix from pretrained Glove model\n",
        "import numpy as np\n",
        "import os\n",
        "from google.colab import drive\n",
        "from pathlib import Path\n",
        "drive.mount('/content/drive' , force_remount=False)\n",
        "\n",
        "word_index = imdb.get_word_index()\n",
        "\n",
        "base_dir =  Path('/content/drive/My Drive/assignment4_16102284')\n",
        "os.chdir(base_dir)\n",
        "print(f\"Current directory location: {os.getcwd()}\")\n",
        "\n",
        "embeddings_index = {}\n",
        "f = open(os.path.join('data', 'glove.6B.100d.txt'))\n",
        "for line in f:\n",
        "  values = line.split()\n",
        "  word = values[0]\n",
        "  coefs = np.asarray(values[1:], dtype='float32')\n",
        "  embeddings_index[word] = coefs\n",
        "f.close()\n",
        "\n",
        "print('Found %s word vectors.' % len(embeddings_index))\n",
        "print(x_train.shape)\n",
        "print(y_train.shape)\n",
        "# preparing the GloVe word-embeddings matrix\n",
        "embedding_dim = 100\n",
        "\n",
        "embedding_matrix = np.zeros((max_features, embedding_dim))\n",
        "\n",
        "for word, i in word_index.items():\n",
        "  embedding_vector = embeddings_index.get(word)\n",
        "  if i < max_features:\n",
        "    if embedding_vector is not None:\n",
        "      embedding_matrix[i] = embedding_vector"
      ],
      "execution_count": 2,
      "outputs": [
        {
          "output_type": "stream",
          "name": "stdout",
          "text": [
            "Mounted at /content/drive\n",
            "Downloading data from https://storage.googleapis.com/tensorflow/tf-keras-datasets/imdb_word_index.json\n",
            "1646592/1641221 [==============================] - 0s 0us/step\n",
            "1654784/1641221 [==============================] - 0s 0us/step\n",
            "Current directory location: /content/drive/My Drive/assignment4_16102284\n",
            "Found 400000 word vectors.\n",
            "(25000, 500)\n",
            "(25000,)\n"
          ]
        }
      ]
    },
    {
      "cell_type": "markdown",
      "metadata": {
        "id": "yWfgUJiPeicE"
      },
      "source": [
        "> ### (30pts) Train LSTM model\n",
        "\n",
        "* Try to find the optimal network architecture that contains LSTM layer.\n",
        "  * Use **pretrained embedding from Glove** and **freeze** it during training.\n",
        "  * You can design the architecture whatever you want.\n",
        "  * However, the validation accuracy of the model should exceed 75%. \n",
        "  * Use randomly selected 20% of training dataset as validation dataset.\n",
        "* Plot training/validation loss curve and training/validation accuracy curve."
      ]
    },
    {
      "cell_type": "code",
      "metadata": {
        "id": "ouvcOINhgavT",
        "colab": {
          "base_uri": "https://localhost:8080/"
        },
        "outputId": "bb5a853d-ae7e-4623-b344-90d5373c8f08"
      },
      "source": [
        "from keras.models import Sequential\n",
        "from keras.layers import LSTM, Embedding, Dense\n",
        "from keras.callbacks import ModelCheckpoint\n",
        "import matplotlib.pyplot as plt\n",
        "import tensorflow as tf\n",
        "\n",
        "current_path = Path().absolute()\n",
        "checkpoint_path = current_path  / 'cp/lstm_glove_model_{epoch:02d}.ckpt'\n",
        "cp_callback = tf.keras.callbacks.ModelCheckpoint(checkpoint_path, save_weights_only = True, save_freq='epoch',  verbose=1)\n",
        "earlystopping = tf.keras.callbacks.EarlyStopping(monitor='val_acc', \n",
        "                              patience=5)   \n",
        "def create_model():\n",
        "  model = Sequential()\n",
        "  model.add(Embedding(max_features, 100))\n",
        "  model.add(LSTM(32))\n",
        "  model.add(Dense(16))\n",
        "  model.add(Dense(1, activation='sigmoid'))\n",
        "  model.layers[0].set_weights([embedding_matrix])\n",
        "  model.layers[0].trainable = False\n",
        "\n",
        "  model.compile(optimizer='adam',\n",
        "              loss='binary_crossentropy',\n",
        "              metrics=['acc'])\n",
        "  \n",
        "  \n",
        "  return model\n",
        "\n",
        "model = create_model() \n",
        "model.summary()\n",
        "\n",
        "for var in model.trainable_variables:\n",
        "    print(var.name)\n",
        "\n",
        "\n"
      ],
      "execution_count": 3,
      "outputs": [
        {
          "output_type": "stream",
          "name": "stdout",
          "text": [
            "Model: \"sequential\"\n",
            "_________________________________________________________________\n",
            " Layer (type)                Output Shape              Param #   \n",
            "=================================================================\n",
            " embedding (Embedding)       (None, None, 100)         1000000   \n",
            "                                                                 \n",
            " lstm (LSTM)                 (None, 32)                17024     \n",
            "                                                                 \n",
            " dense (Dense)               (None, 16)                528       \n",
            "                                                                 \n",
            " dense_1 (Dense)             (None, 1)                 17        \n",
            "                                                                 \n",
            "=================================================================\n",
            "Total params: 1,017,569\n",
            "Trainable params: 17,569\n",
            "Non-trainable params: 1,000,000\n",
            "_________________________________________________________________\n",
            "lstm/lstm_cell/kernel:0\n",
            "lstm/lstm_cell/recurrent_kernel:0\n",
            "lstm/lstm_cell/bias:0\n",
            "dense/kernel:0\n",
            "dense/bias:0\n",
            "dense_1/kernel:0\n",
            "dense_1/bias:0\n"
          ]
        }
      ]
    },
    {
      "cell_type": "code",
      "metadata": {
        "colab": {
          "base_uri": "https://localhost:8080/"
        },
        "id": "JCEnCqNWd4vO",
        "outputId": "d99fbc4f-4a8e-4252-8c33-714c42e27963"
      },
      "source": [
        "history = model.fit(x_train, y_train,\n",
        "                    epochs=20,\n",
        "                    batch_size=128,\n",
        "                    validation_split=0.2,\n",
        "                    callbacks=[cp_callback, earlystopping])"
      ],
      "execution_count": 4,
      "outputs": [
        {
          "output_type": "stream",
          "name": "stdout",
          "text": [
            "Epoch 1/20\n",
            "157/157 [==============================] - ETA: 0s - loss: 0.6832 - acc: 0.5551\n",
            "Epoch 00001: saving model to /content/drive/My Drive/assignment4_16102284/cp/lstm_glove_model_01.ckpt\n",
            "157/157 [==============================] - 58s 358ms/step - loss: 0.6832 - acc: 0.5551 - val_loss: 0.6667 - val_acc: 0.5938\n",
            "Epoch 2/20\n",
            "157/157 [==============================] - ETA: 0s - loss: 0.6446 - acc: 0.6266\n",
            "Epoch 00002: saving model to /content/drive/My Drive/assignment4_16102284/cp/lstm_glove_model_02.ckpt\n",
            "157/157 [==============================] - 56s 358ms/step - loss: 0.6446 - acc: 0.6266 - val_loss: 0.6428 - val_acc: 0.6344\n",
            "Epoch 3/20\n",
            "157/157 [==============================] - ETA: 0s - loss: 0.6137 - acc: 0.6632\n",
            "Epoch 00003: saving model to /content/drive/My Drive/assignment4_16102284/cp/lstm_glove_model_03.ckpt\n",
            "157/157 [==============================] - 56s 360ms/step - loss: 0.6137 - acc: 0.6632 - val_loss: 0.5985 - val_acc: 0.6698\n",
            "Epoch 4/20\n",
            "157/157 [==============================] - ETA: 0s - loss: 0.5732 - acc: 0.6989\n",
            "Epoch 00004: saving model to /content/drive/My Drive/assignment4_16102284/cp/lstm_glove_model_04.ckpt\n",
            "157/157 [==============================] - 56s 358ms/step - loss: 0.5732 - acc: 0.6989 - val_loss: 0.5712 - val_acc: 0.7038\n",
            "Epoch 5/20\n",
            "157/157 [==============================] - ETA: 0s - loss: 0.5414 - acc: 0.7237\n",
            "Epoch 00005: saving model to /content/drive/My Drive/assignment4_16102284/cp/lstm_glove_model_05.ckpt\n",
            "157/157 [==============================] - 58s 367ms/step - loss: 0.5414 - acc: 0.7237 - val_loss: 0.5949 - val_acc: 0.6968\n",
            "Epoch 6/20\n",
            "157/157 [==============================] - ETA: 0s - loss: 0.5182 - acc: 0.7412\n",
            "Epoch 00006: saving model to /content/drive/My Drive/assignment4_16102284/cp/lstm_glove_model_06.ckpt\n",
            "157/157 [==============================] - 56s 357ms/step - loss: 0.5182 - acc: 0.7412 - val_loss: 0.5468 - val_acc: 0.7178\n",
            "Epoch 7/20\n",
            "157/157 [==============================] - ETA: 0s - loss: 0.4890 - acc: 0.7648\n",
            "Epoch 00007: saving model to /content/drive/My Drive/assignment4_16102284/cp/lstm_glove_model_07.ckpt\n",
            "157/157 [==============================] - 56s 358ms/step - loss: 0.4890 - acc: 0.7648 - val_loss: 0.5185 - val_acc: 0.7394\n",
            "Epoch 8/20\n",
            "157/157 [==============================] - ETA: 0s - loss: 0.4669 - acc: 0.7764\n",
            "Epoch 00008: saving model to /content/drive/My Drive/assignment4_16102284/cp/lstm_glove_model_08.ckpt\n",
            "157/157 [==============================] - 56s 358ms/step - loss: 0.4669 - acc: 0.7764 - val_loss: 0.5233 - val_acc: 0.7446\n",
            "Epoch 9/20\n",
            "157/157 [==============================] - ETA: 0s - loss: 0.4431 - acc: 0.7916\n",
            "Epoch 00009: saving model to /content/drive/My Drive/assignment4_16102284/cp/lstm_glove_model_09.ckpt\n",
            "157/157 [==============================] - 56s 356ms/step - loss: 0.4431 - acc: 0.7916 - val_loss: 0.4949 - val_acc: 0.7596\n",
            "Epoch 10/20\n",
            "157/157 [==============================] - ETA: 0s - loss: 0.4310 - acc: 0.7991\n",
            "Epoch 00010: saving model to /content/drive/My Drive/assignment4_16102284/cp/lstm_glove_model_10.ckpt\n",
            "157/157 [==============================] - 56s 356ms/step - loss: 0.4310 - acc: 0.7991 - val_loss: 0.4823 - val_acc: 0.7676\n",
            "Epoch 11/20\n",
            "157/157 [==============================] - ETA: 0s - loss: 0.4038 - acc: 0.8165\n",
            "Epoch 00011: saving model to /content/drive/My Drive/assignment4_16102284/cp/lstm_glove_model_11.ckpt\n",
            "157/157 [==============================] - 56s 354ms/step - loss: 0.4038 - acc: 0.8165 - val_loss: 0.4935 - val_acc: 0.7634\n",
            "Epoch 12/20\n",
            "157/157 [==============================] - ETA: 0s - loss: 0.3920 - acc: 0.8228\n",
            "Epoch 00012: saving model to /content/drive/My Drive/assignment4_16102284/cp/lstm_glove_model_12.ckpt\n",
            "157/157 [==============================] - 56s 354ms/step - loss: 0.3920 - acc: 0.8228 - val_loss: 0.5035 - val_acc: 0.7568\n",
            "Epoch 13/20\n",
            "157/157 [==============================] - ETA: 0s - loss: 0.3856 - acc: 0.8256\n",
            "Epoch 00013: saving model to /content/drive/My Drive/assignment4_16102284/cp/lstm_glove_model_13.ckpt\n",
            "157/157 [==============================] - 56s 358ms/step - loss: 0.3856 - acc: 0.8256 - val_loss: 0.4783 - val_acc: 0.7752\n",
            "Epoch 14/20\n",
            "157/157 [==============================] - ETA: 0s - loss: 0.3810 - acc: 0.8288\n",
            "Epoch 00014: saving model to /content/drive/My Drive/assignment4_16102284/cp/lstm_glove_model_14.ckpt\n",
            "157/157 [==============================] - 56s 360ms/step - loss: 0.3810 - acc: 0.8288 - val_loss: 0.4734 - val_acc: 0.7818\n",
            "Epoch 15/20\n",
            "157/157 [==============================] - ETA: 0s - loss: 0.3625 - acc: 0.8391\n",
            "Epoch 00015: saving model to /content/drive/My Drive/assignment4_16102284/cp/lstm_glove_model_15.ckpt\n",
            "157/157 [==============================] - 56s 359ms/step - loss: 0.3625 - acc: 0.8391 - val_loss: 0.4581 - val_acc: 0.7954\n",
            "Epoch 16/20\n",
            "157/157 [==============================] - ETA: 0s - loss: 0.3479 - acc: 0.8429\n",
            "Epoch 00016: saving model to /content/drive/My Drive/assignment4_16102284/cp/lstm_glove_model_16.ckpt\n",
            "157/157 [==============================] - 56s 358ms/step - loss: 0.3479 - acc: 0.8429 - val_loss: 0.4522 - val_acc: 0.7946\n",
            "Epoch 17/20\n",
            "157/157 [==============================] - ETA: 0s - loss: 0.3464 - acc: 0.8476\n",
            "Epoch 00017: saving model to /content/drive/My Drive/assignment4_16102284/cp/lstm_glove_model_17.ckpt\n",
            "157/157 [==============================] - 56s 358ms/step - loss: 0.3464 - acc: 0.8476 - val_loss: 0.4718 - val_acc: 0.7826\n",
            "Epoch 18/20\n",
            "157/157 [==============================] - ETA: 0s - loss: 0.3365 - acc: 0.8529\n",
            "Epoch 00018: saving model to /content/drive/My Drive/assignment4_16102284/cp/lstm_glove_model_18.ckpt\n",
            "157/157 [==============================] - 56s 359ms/step - loss: 0.3365 - acc: 0.8529 - val_loss: 0.4552 - val_acc: 0.8024\n",
            "Epoch 19/20\n",
            "157/157 [==============================] - ETA: 0s - loss: 0.3261 - acc: 0.8589\n",
            "Epoch 00019: saving model to /content/drive/My Drive/assignment4_16102284/cp/lstm_glove_model_19.ckpt\n",
            "157/157 [==============================] - 56s 357ms/step - loss: 0.3261 - acc: 0.8589 - val_loss: 0.4573 - val_acc: 0.7890\n",
            "Epoch 20/20\n",
            "157/157 [==============================] - ETA: 0s - loss: 0.3203 - acc: 0.8628\n",
            "Epoch 00020: saving model to /content/drive/My Drive/assignment4_16102284/cp/lstm_glove_model_20.ckpt\n",
            "157/157 [==============================] - 56s 358ms/step - loss: 0.3203 - acc: 0.8628 - val_loss: 0.5079 - val_acc: 0.7702\n"
          ]
        }
      ]
    },
    {
      "cell_type": "code",
      "metadata": {
        "colab": {
          "base_uri": "https://localhost:8080/",
          "height": 545
        },
        "id": "mQ0OQChDd49i",
        "outputId": "afac6426-e13b-487c-c850-0d033e1e4ac0"
      },
      "source": [
        "acc = history.history['acc']\n",
        "val_acc = history.history['val_acc']\n",
        "loss = history.history['loss']\n",
        "val_loss = history.history['val_loss']\n",
        "\n",
        "epochs = range(1, len(acc) + 1)\n",
        "\n",
        "plt.plot(epochs, acc, 'bo', label='Training acc')\n",
        "plt.plot(epochs, val_acc, 'b', label='Validation acc')\n",
        "plt.title('Training and validation accuracy')\n",
        "plt.legend()\n",
        "\n",
        "plt.figure()\n",
        "\n",
        "plt.plot(epochs, loss, 'bo', label='Training loss')\n",
        "plt.plot(epochs, val_loss, 'b', label='Validation loss')\n",
        "plt.title('Training and validation loss')\n",
        "plt.legend()\n",
        "\n",
        "plt.show()"
      ],
      "execution_count": 5,
      "outputs": [
        {
          "output_type": "display_data",
          "data": {
            "image/png": "[encoded data removed]",
            "text/plain": [
              "<Figure size 432x288 with 1 Axes>"
            ]
          },
          "metadata": {
            "needs_background": "light"
          }
        },
        {
          "output_type": "display_data",
          "data": {
            "image/png": "[encoded data removed]",
            "text/plain": [
              "<Figure size 432x288 with 1 Axes>"
            ]
          },
          "metadata": {
            "needs_background": "light"
          }
        }
      ]
    },
    {
      "cell_type": "markdown",
      "metadata": {
        "id": "w0sIu0iibFXN"
      },
      "source": [
        "* With the selected architecture, compute the final performance on test dataset."
      ]
    },
    {
      "cell_type": "code",
      "metadata": {
        "id": "Kd7k2PkPbdOC",
        "colab": {
          "base_uri": "https://localhost:8080/"
        },
        "outputId": "d7287648-3571-45f0-e837-c9d409443d71"
      },
      "source": [
        "latest_lstm = tf.train.latest_checkpoint(os.path.dirname(checkpoint_path))\n",
        "\n",
        "final_model = create_model()\n",
        "final_model.load_weights(latest_lstm)\n",
        "final_model.evaluate(x_test, y_test)"
      ],
      "execution_count": 6,
      "outputs": [
        {
          "output_type": "stream",
          "name": "stdout",
          "text": [
            "782/782 [==============================] - 38s 47ms/step - loss: 0.5020 - acc: 0.7715\n"
          ]
        },
        {
          "output_type": "execute_result",
          "data": {
            "text/plain": [
              "[0.501983106136322, 0.7714800238609314]"
            ]
          },
          "metadata": {},
          "execution_count": 6
        }
      ]
    },
    {
      "cell_type": "markdown",
      "metadata": {
        "id": "pS0D5_0iXd_y"
      },
      "source": [
        "> ### (30pts) Train GRU model\n",
        "\n",
        "* Again, try to find the optimal network architecture that contains GRU layer.\n",
        "  * Use **pretrained embedding from Glove** and **freeze** it during training.\n",
        "  * You can design the architecture whatever you want.\n",
        "  * However, the validation accuracy of the model should exceed 75%. \n",
        "  * Use randomly selected 20% of training dataset as validation dataset.\n",
        "* Plot training/validation loss curve and training/validation accuracy curve."
      ]
    },
    {
      "cell_type": "code",
      "metadata": {
        "id": "L_57rnwjgIIS",
        "colab": {
          "base_uri": "https://localhost:8080/"
        },
        "outputId": "4864b1f4-e10e-42b9-eb65-be7642c86611"
      },
      "source": [
        "from keras.layers import GRU\n",
        "\n",
        "checkpoint_path = current_path  / 'cp/gru_glove_model_{epoch:02d}.ckpt'\n",
        "\n",
        "def create_model2():\n",
        "  model = Sequential()\n",
        "  model.add(Embedding(max_features, 100))\n",
        "  model.add(GRU(32))\n",
        "  model.add(Dense(16))\n",
        "  model.add(Dense(1, activation='sigmoid'))\n",
        "  model.layers[0].set_weights([embedding_matrix])\n",
        "  model.layers[0].trainable = False  \n",
        "\n",
        "  model.compile(optimizer='adam',\n",
        "                loss='binary_crossentropy',\n",
        "                metrics=['acc'])\n",
        "  \n",
        "  return model\n",
        "\n",
        "model2 = create_model2()\n",
        "model2.summary()\n",
        "for var in model2.trainable_variables:\n",
        "    print(var.name)\n",
        "\n",
        "\n",
        "\n"
      ],
      "execution_count": 7,
      "outputs": [
        {
          "output_type": "stream",
          "name": "stdout",
          "text": [
            "Model: \"sequential_2\"\n",
            "_________________________________________________________________\n",
            " Layer (type)                Output Shape              Param #   \n",
            "=================================================================\n",
            " embedding_2 (Embedding)     (None, None, 100)         1000000   \n",
            "                                                                 \n",
            " gru (GRU)                   (None, 32)                12864     \n",
            "                                                                 \n",
            " dense_4 (Dense)             (None, 16)                528       \n",
            "                                                                 \n",
            " dense_5 (Dense)             (None, 1)                 17        \n",
            "                                                                 \n",
            "=================================================================\n",
            "Total params: 1,013,409\n",
            "Trainable params: 13,409\n",
            "Non-trainable params: 1,000,000\n",
            "_________________________________________________________________\n",
            "gru/gru_cell/kernel:0\n",
            "gru/gru_cell/recurrent_kernel:0\n",
            "gru/gru_cell/bias:0\n",
            "dense_4/kernel:0\n",
            "dense_4/bias:0\n",
            "dense_5/kernel:0\n",
            "dense_5/bias:0\n"
          ]
        }
      ]
    },
    {
      "cell_type": "code",
      "metadata": {
        "colab": {
          "base_uri": "https://localhost:8080/"
        },
        "id": "lRlqCs5ImQp7",
        "outputId": "39dcd107-2a91-432b-a1a2-725b6d379924"
      },
      "source": [
        "history2 = model2.fit(x_train, y_train,\n",
        "                    epochs=20,\n",
        "                    batch_size=128,\n",
        "                    validation_split=0.2,\n",
        "                    callbacks=[cp_callback, earlystopping])"
      ],
      "execution_count": 8,
      "outputs": [
        {
          "output_type": "stream",
          "name": "stdout",
          "text": [
            "Epoch 1/20\n",
            "157/157 [==============================] - ETA: 0s - loss: 0.6882 - acc: 0.5365\n",
            "Epoch 00001: saving model to /content/drive/My Drive/assignment4_16102284/cp/lstm_glove_model_01.ckpt\n",
            "157/157 [==============================] - 57s 346ms/step - loss: 0.6882 - acc: 0.5365 - val_loss: 0.6777 - val_acc: 0.5662\n",
            "Epoch 2/20\n",
            "157/157 [==============================] - ETA: 0s - loss: 0.6572 - acc: 0.6019\n",
            "Epoch 00002: saving model to /content/drive/My Drive/assignment4_16102284/cp/lstm_glove_model_02.ckpt\n",
            "157/157 [==============================] - 54s 346ms/step - loss: 0.6572 - acc: 0.6019 - val_loss: 0.6380 - val_acc: 0.6292\n",
            "Epoch 3/20\n",
            "157/157 [==============================] - ETA: 0s - loss: 0.6197 - acc: 0.6489\n",
            "Epoch 00003: saving model to /content/drive/My Drive/assignment4_16102284/cp/lstm_glove_model_03.ckpt\n",
            "157/157 [==============================] - 54s 343ms/step - loss: 0.6197 - acc: 0.6489 - val_loss: 0.6093 - val_acc: 0.6714\n",
            "Epoch 4/20\n",
            "157/157 [==============================] - ETA: 0s - loss: 0.5599 - acc: 0.7080\n",
            "Epoch 00004: saving model to /content/drive/My Drive/assignment4_16102284/cp/lstm_glove_model_04.ckpt\n",
            "157/157 [==============================] - 54s 344ms/step - loss: 0.5599 - acc: 0.7080 - val_loss: 0.5413 - val_acc: 0.7236\n",
            "Epoch 5/20\n",
            "157/157 [==============================] - ETA: 0s - loss: 0.4985 - acc: 0.7558\n",
            "Epoch 00005: saving model to /content/drive/My Drive/assignment4_16102284/cp/lstm_glove_model_05.ckpt\n",
            "157/157 [==============================] - 54s 342ms/step - loss: 0.4985 - acc: 0.7558 - val_loss: 0.4885 - val_acc: 0.7644\n",
            "Epoch 6/20\n",
            "157/157 [==============================] - ETA: 0s - loss: 0.4631 - acc: 0.7800\n",
            "Epoch 00006: saving model to /content/drive/My Drive/assignment4_16102284/cp/lstm_glove_model_06.ckpt\n",
            "157/157 [==============================] - 54s 344ms/step - loss: 0.4631 - acc: 0.7800 - val_loss: 0.4719 - val_acc: 0.7768\n",
            "Epoch 7/20\n",
            "157/157 [==============================] - ETA: 0s - loss: 0.4397 - acc: 0.7951\n",
            "Epoch 00007: saving model to /content/drive/My Drive/assignment4_16102284/cp/lstm_glove_model_07.ckpt\n",
            "157/157 [==============================] - 54s 341ms/step - loss: 0.4397 - acc: 0.7951 - val_loss: 0.4474 - val_acc: 0.7886\n",
            "Epoch 8/20\n",
            "157/157 [==============================] - ETA: 0s - loss: 0.4111 - acc: 0.8140\n",
            "Epoch 00008: saving model to /content/drive/My Drive/assignment4_16102284/cp/lstm_glove_model_08.ckpt\n",
            "157/157 [==============================] - 53s 340ms/step - loss: 0.4111 - acc: 0.8140 - val_loss: 0.4501 - val_acc: 0.7910\n",
            "Epoch 9/20\n",
            "157/157 [==============================] - ETA: 0s - loss: 0.4040 - acc: 0.8171\n",
            "Epoch 00009: saving model to /content/drive/My Drive/assignment4_16102284/cp/lstm_glove_model_09.ckpt\n",
            "157/157 [==============================] - 53s 340ms/step - loss: 0.4040 - acc: 0.8171 - val_loss: 0.4794 - val_acc: 0.7642\n",
            "Epoch 10/20\n",
            "157/157 [==============================] - ETA: 0s - loss: 0.3825 - acc: 0.8276\n",
            "Epoch 00010: saving model to /content/drive/My Drive/assignment4_16102284/cp/lstm_glove_model_10.ckpt\n",
            "157/157 [==============================] - 53s 340ms/step - loss: 0.3825 - acc: 0.8276 - val_loss: 0.4715 - val_acc: 0.7830\n",
            "Epoch 11/20\n",
            "157/157 [==============================] - ETA: 0s - loss: 0.3610 - acc: 0.8382\n",
            "Epoch 00011: saving model to /content/drive/My Drive/assignment4_16102284/cp/lstm_glove_model_11.ckpt\n",
            "157/157 [==============================] - 54s 342ms/step - loss: 0.3610 - acc: 0.8382 - val_loss: 0.4182 - val_acc: 0.8130\n",
            "Epoch 12/20\n",
            "157/157 [==============================] - ETA: 0s - loss: 0.3553 - acc: 0.8454\n",
            "Epoch 00012: saving model to /content/drive/My Drive/assignment4_16102284/cp/lstm_glove_model_12.ckpt\n",
            "157/157 [==============================] - 54s 341ms/step - loss: 0.3553 - acc: 0.8454 - val_loss: 0.4399 - val_acc: 0.8052\n",
            "Epoch 13/20\n",
            "157/157 [==============================] - ETA: 0s - loss: 0.3569 - acc: 0.8422\n",
            "Epoch 00013: saving model to /content/drive/My Drive/assignment4_16102284/cp/lstm_glove_model_13.ckpt\n",
            "157/157 [==============================] - 54s 342ms/step - loss: 0.3569 - acc: 0.8422 - val_loss: 0.4517 - val_acc: 0.8004\n",
            "Epoch 14/20\n",
            "157/157 [==============================] - ETA: 0s - loss: 0.3402 - acc: 0.8494\n",
            "Epoch 00014: saving model to /content/drive/My Drive/assignment4_16102284/cp/lstm_glove_model_14.ckpt\n",
            "157/157 [==============================] - 54s 343ms/step - loss: 0.3402 - acc: 0.8494 - val_loss: 0.4237 - val_acc: 0.8158\n",
            "Epoch 15/20\n",
            "157/157 [==============================] - ETA: 0s - loss: 0.3256 - acc: 0.8572\n",
            "Epoch 00015: saving model to /content/drive/My Drive/assignment4_16102284/cp/lstm_glove_model_15.ckpt\n",
            "157/157 [==============================] - 54s 343ms/step - loss: 0.3256 - acc: 0.8572 - val_loss: 0.4375 - val_acc: 0.8044\n",
            "Epoch 16/20\n",
            "157/157 [==============================] - ETA: 0s - loss: 0.3155 - acc: 0.8634\n",
            "Epoch 00016: saving model to /content/drive/My Drive/assignment4_16102284/cp/lstm_glove_model_16.ckpt\n",
            "157/157 [==============================] - 54s 343ms/step - loss: 0.3155 - acc: 0.8634 - val_loss: 0.4022 - val_acc: 0.8266\n",
            "Epoch 17/20\n",
            "157/157 [==============================] - ETA: 0s - loss: 0.3060 - acc: 0.8690\n",
            "Epoch 00017: saving model to /content/drive/My Drive/assignment4_16102284/cp/lstm_glove_model_17.ckpt\n",
            "157/157 [==============================] - 53s 340ms/step - loss: 0.3060 - acc: 0.8690 - val_loss: 0.4807 - val_acc: 0.7872\n",
            "Epoch 18/20\n",
            "157/157 [==============================] - ETA: 0s - loss: 0.2977 - acc: 0.8748\n",
            "Epoch 00018: saving model to /content/drive/My Drive/assignment4_16102284/cp/lstm_glove_model_18.ckpt\n",
            "157/157 [==============================] - 54s 342ms/step - loss: 0.2977 - acc: 0.8748 - val_loss: 0.4059 - val_acc: 0.8224\n",
            "Epoch 19/20\n",
            "157/157 [==============================] - ETA: 0s - loss: 0.2978 - acc: 0.8724\n",
            "Epoch 00019: saving model to /content/drive/My Drive/assignment4_16102284/cp/lstm_glove_model_19.ckpt\n",
            "157/157 [==============================] - 53s 340ms/step - loss: 0.2978 - acc: 0.8724 - val_loss: 0.4134 - val_acc: 0.8260\n",
            "Epoch 20/20\n",
            "157/157 [==============================] - ETA: 0s - loss: 0.2852 - acc: 0.8793\n",
            "Epoch 00020: saving model to /content/drive/My Drive/assignment4_16102284/cp/lstm_glove_model_20.ckpt\n",
            "157/157 [==============================] - 54s 342ms/step - loss: 0.2852 - acc: 0.8793 - val_loss: 0.4218 - val_acc: 0.8146\n"
          ]
        }
      ]
    },
    {
      "cell_type": "code",
      "metadata": {
        "colab": {
          "base_uri": "https://localhost:8080/",
          "height": 545
        },
        "id": "emRk2tGu20_V",
        "outputId": "e1a03276-3492-4cfc-8618-3de2bd345f76"
      },
      "source": [
        "acc = history2.history['acc']\n",
        "val_acc = history2.history['val_acc']\n",
        "loss = history2.history['loss']\n",
        "val_loss = history2.history['val_loss']\n",
        "\n",
        "epochs = range(1, len(acc) + 1)\n",
        "\n",
        "plt.plot(epochs, acc, 'bo', label='Training acc')\n",
        "plt.plot(epochs, val_acc, 'b', label='Validation acc')\n",
        "plt.title('Training and validation accuracy')\n",
        "plt.legend()\n",
        "\n",
        "plt.figure()\n",
        "\n",
        "plt.plot(epochs, loss, 'bo', label='Training loss')\n",
        "plt.plot(epochs, val_loss, 'b', label='Validation loss')\n",
        "plt.title('Training and validation loss')\n",
        "plt.legend()\n",
        "\n",
        "plt.show()"
      ],
      "execution_count": 9,
      "outputs": [
        {
          "output_type": "display_data",
          "data": {
            "image/png": "[encoded data removed]",
            "text/plain": [
              "<Figure size 432x288 with 1 Axes>"
            ]
          },
          "metadata": {
            "needs_background": "light"
          }
        },
        {
          "output_type": "display_data",
          "data": {
            "image/png": "[encoded data removed]",
            "text/plain": [
              "<Figure size 432x288 with 1 Axes>"
            ]
          },
          "metadata": {
            "needs_background": "light"
          }
        }
      ]
    },
    {
      "cell_type": "markdown",
      "metadata": {
        "id": "bhDWsnWuY5w-"
      },
      "source": [
        "* With the selected architecture, compute the final performance on test dataset."
      ]
    },
    {
      "cell_type": "code",
      "metadata": {
        "id": "AiRlj5f6ygSN",
        "colab": {
          "base_uri": "https://localhost:8080/"
        },
        "outputId": "d65ee093-eb9c-46b5-ac42-0ac467a6ed58"
      },
      "source": [
        "latest_gru = tf.train.latest_checkpoint(os.path.dirname(checkpoint_path))\n",
        "\n",
        "final_model2 = create_model2()\n",
        "final_model2.load_weights(latest_gru)\n",
        "final_model2.evaluate(x_test, y_test)"
      ],
      "execution_count": 10,
      "outputs": [
        {
          "output_type": "stream",
          "name": "stdout",
          "text": [
            "782/782 [==============================] - 33s 41ms/step - loss: 0.4160 - acc: 0.8143\n"
          ]
        },
        {
          "output_type": "execute_result",
          "data": {
            "text/plain": [
              "[0.41601258516311646, 0.8143200278282166]"
            ]
          },
          "metadata": {},
          "execution_count": 10
        }
      ]
    },
    {
      "cell_type": "markdown",
      "metadata": {
        "id": "cnousm2KmHBf"
      },
      "source": [
        "> ### (40pts) Training the model without pretrained embeddings, and compare it with the above models\n",
        "\n",
        "* (10pts) Training the model (choose one of your previous models, LSTM or GRU) with randomly initialized and trainable embeddings.\n",
        "  * This model should have exactly the same configuration as your previous model.\n",
        "* (10pts) Plot training/validation loss curve and training/validation accuracy curve.\n",
        "* (20pts) Compare the performance with the model based on pretrained embeddings and discuss the effect of such pretrained embeddings in this case."
      ]
    },
    {
      "cell_type": "code",
      "metadata": {
        "id": "UfcQpwgbnGBn",
        "colab": {
          "base_uri": "https://localhost:8080/"
        },
        "outputId": "f69e12d3-1814-4ee6-8509-de4cd0f7a37b"
      },
      "source": [
        "checkpoint_path = current_path  / 'cp/unpretrained_glove_model_{epoch:02d}.ckpt'\n",
        "\n",
        "def create_model3():\n",
        "  model = Sequential()\n",
        "  model.add(Embedding(max_features, 100))\n",
        "  model.add(GRU(32))\n",
        "  model.add(Dense(16))\n",
        "  model.add(Dense(1, activation='sigmoid'))\n",
        "  model.compile(optimizer='adam',\n",
        "                loss='binary_crossentropy',\n",
        "                metrics=['acc'])\n",
        "  \n",
        "  return model\n",
        "\n",
        "model3 = create_model3()\n",
        "model3.summary()\n",
        "for var in model3.trainable_variables:\n",
        "    print(var.name)\n",
        "\n",
        "\n",
        "\n"
      ],
      "execution_count": 11,
      "outputs": [
        {
          "output_type": "stream",
          "name": "stdout",
          "text": [
            "Model: \"sequential_4\"\n",
            "_________________________________________________________________\n",
            " Layer (type)                Output Shape              Param #   \n",
            "=================================================================\n",
            " embedding_4 (Embedding)     (None, None, 100)         1000000   \n",
            "                                                                 \n",
            " gru_2 (GRU)                 (None, 32)                12864     \n",
            "                                                                 \n",
            " dense_8 (Dense)             (None, 16)                528       \n",
            "                                                                 \n",
            " dense_9 (Dense)             (None, 1)                 17        \n",
            "                                                                 \n",
            "=================================================================\n",
            "Total params: 1,013,409\n",
            "Trainable params: 1,013,409\n",
            "Non-trainable params: 0\n",
            "_________________________________________________________________\n",
            "embedding_4/embeddings:0\n",
            "gru_2/gru_cell_2/kernel:0\n",
            "gru_2/gru_cell_2/recurrent_kernel:0\n",
            "gru_2/gru_cell_2/bias:0\n",
            "dense_8/kernel:0\n",
            "dense_8/bias:0\n",
            "dense_9/kernel:0\n",
            "dense_9/bias:0\n"
          ]
        }
      ]
    },
    {
      "cell_type": "code",
      "metadata": {
        "colab": {
          "base_uri": "https://localhost:8080/"
        },
        "id": "bbeufWxf3vFK",
        "outputId": "0de19f3a-1f15-4103-baaf-695d563076c7"
      },
      "source": [
        "history3 = model3.fit(x_train, y_train,\n",
        "                    epochs=20,\n",
        "                    batch_size=128,\n",
        "                    validation_split=0.2,\n",
        "                    callbacks=[cp_callback, earlystopping])"
      ],
      "execution_count": 12,
      "outputs": [
        {
          "output_type": "stream",
          "name": "stdout",
          "text": [
            "Epoch 1/20\n",
            "157/157 [==============================] - ETA: 0s - loss: 0.4811 - acc: 0.7530\n",
            "Epoch 00001: saving model to /content/drive/My Drive/assignment4_16102284/cp/lstm_glove_model_01.ckpt\n",
            "157/157 [==============================] - 69s 429ms/step - loss: 0.4811 - acc: 0.7530 - val_loss: 0.3162 - val_acc: 0.8684\n",
            "Epoch 2/20\n",
            "157/157 [==============================] - ETA: 0s - loss: 0.2362 - acc: 0.9083\n",
            "Epoch 00002: saving model to /content/drive/My Drive/assignment4_16102284/cp/lstm_glove_model_02.ckpt\n",
            "157/157 [==============================] - 67s 428ms/step - loss: 0.2362 - acc: 0.9083 - val_loss: 0.3109 - val_acc: 0.8796\n",
            "Epoch 3/20\n",
            "157/157 [==============================] - ETA: 0s - loss: 0.1701 - acc: 0.9377\n",
            "Epoch 00003: saving model to /content/drive/My Drive/assignment4_16102284/cp/lstm_glove_model_03.ckpt\n",
            "157/157 [==============================] - 67s 428ms/step - loss: 0.1701 - acc: 0.9377 - val_loss: 0.3827 - val_acc: 0.8768\n",
            "Epoch 4/20\n",
            "157/157 [==============================] - ETA: 0s - loss: 0.1210 - acc: 0.9572\n",
            "Epoch 00004: saving model to /content/drive/My Drive/assignment4_16102284/cp/lstm_glove_model_04.ckpt\n",
            "157/157 [==============================] - 67s 429ms/step - loss: 0.1210 - acc: 0.9572 - val_loss: 0.3640 - val_acc: 0.8750\n",
            "Epoch 5/20\n",
            "157/157 [==============================] - ETA: 0s - loss: 0.0789 - acc: 0.9742\n",
            "Epoch 00005: saving model to /content/drive/My Drive/assignment4_16102284/cp/lstm_glove_model_05.ckpt\n",
            "157/157 [==============================] - 68s 431ms/step - loss: 0.0789 - acc: 0.9742 - val_loss: 0.4245 - val_acc: 0.8672\n",
            "Epoch 6/20\n",
            "157/157 [==============================] - ETA: 0s - loss: 0.0549 - acc: 0.9828\n",
            "Epoch 00006: saving model to /content/drive/My Drive/assignment4_16102284/cp/lstm_glove_model_06.ckpt\n",
            "157/157 [==============================] - 67s 430ms/step - loss: 0.0549 - acc: 0.9828 - val_loss: 0.5010 - val_acc: 0.8626\n",
            "Epoch 7/20\n",
            "157/157 [==============================] - ETA: 0s - loss: 0.0519 - acc: 0.9825\n",
            "Epoch 00007: saving model to /content/drive/My Drive/assignment4_16102284/cp/lstm_glove_model_07.ckpt\n",
            "157/157 [==============================] - 68s 432ms/step - loss: 0.0519 - acc: 0.9825 - val_loss: 0.5428 - val_acc: 0.8610\n"
          ]
        }
      ]
    },
    {
      "cell_type": "code",
      "metadata": {
        "colab": {
          "base_uri": "https://localhost:8080/",
          "height": 545
        },
        "id": "UKFS3uoM9SjL",
        "outputId": "b76984a4-2670-4e4d-a923-c4eba4b5f53b"
      },
      "source": [
        "acc = history3.history['acc']\n",
        "val_acc = history3.history['val_acc']\n",
        "loss = history3.history['loss']\n",
        "val_loss = history3.history['val_loss']\n",
        "\n",
        "epochs = range(1, len(acc) + 1)\n",
        "\n",
        "plt.plot(epochs, acc, 'bo', label='Training acc')\n",
        "plt.plot(epochs, val_acc, 'b', label='Validation acc')\n",
        "plt.title('Training and validation accuracy')\n",
        "plt.legend()\n",
        "\n",
        "plt.figure()\n",
        "\n",
        "plt.plot(epochs, loss, 'bo', label='Training loss')\n",
        "plt.plot(epochs, val_loss, 'b', label='Validation loss')\n",
        "plt.title('Training and validation loss')\n",
        "plt.legend()\n",
        "\n",
        "plt.show()"
      ],
      "execution_count": 13,
      "outputs": [
        {
          "output_type": "display_data",
          "data": {
            "image/png": "[encoded data removed]",
            "text/plain": [
              "<Figure size 432x288 with 1 Axes>"
            ]
          },
          "metadata": {
            "needs_background": "light"
          }
        },
        {
          "output_type": "display_data",
          "data": {
            "image/png": "[encoded data removed]",
            "text/plain": [
              "<Figure size 432x288 with 1 Axes>"
            ]
          },
          "metadata": {
            "needs_background": "light"
          }
        }
      ]
    },
    {
      "cell_type": "code",
      "metadata": {
        "colab": {
          "base_uri": "https://localhost:8080/"
        },
        "id": "XkzHwgxW9vnA",
        "outputId": "e2d6d1b4-b722-41fe-d53c-b4c7a3811677"
      },
      "source": [
        "latest_nopretrained = tf.train.latest_checkpoint(os.path.dirname(checkpoint_path))\n",
        "\n",
        "final_model3 = create_model2()\n",
        "final_model3.load_weights(latest_nopretrained)\n",
        "final_model3.evaluate(x_test, y_test)"
      ],
      "execution_count": 14,
      "outputs": [
        {
          "output_type": "stream",
          "name": "stdout",
          "text": [
            "782/782 [==============================] - 34s 43ms/step - loss: 0.5823 - acc: 0.8523\n"
          ]
        },
        {
          "output_type": "execute_result",
          "data": {
            "text/plain": [
              "[0.5822928547859192, 0.8523200154304504]"
            ]
          },
          "metadata": {},
          "execution_count": 14
        }
      ]
    },
    {
      "cell_type": "markdown",
      "metadata": {
        "id": "6HZbuWpp9bCb"
      },
      "source": [
        "##Compare the performance with the model based on pretrained embeddings and discuss the effect of such pretrained embeddings in this case.\n",
        "\n",
        "<br>\n",
        "\n",
        "Answer : The performance is a little better than the previous model, but overfitting occurs faster."
      ]
    }
  ]
}