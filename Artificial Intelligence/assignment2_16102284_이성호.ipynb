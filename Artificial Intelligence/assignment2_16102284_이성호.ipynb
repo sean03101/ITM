{
  "nbformat": 4,
  "nbformat_minor": 0,
  "metadata": {
    "colab": {
      "name": "assignment2.ipynb",
      "provenance": [],
      "collapsed_sections": []
    },
    "kernelspec": {
      "name": "python3",
      "display_name": "Python 3"
    }
  },
  "cells": [
    {
      "cell_type": "markdown",
      "metadata": {
        "id": "6vFXgflvZ6Ga"
      },
      "source": [
        "## Assignment #2"
      ]
    },
    {
      "cell_type": "markdown",
      "metadata": {
        "id": "UevAU0CYVhiu"
      },
      "source": [
        "* Release date: 2021.10.12 Tue\n",
        "* Due date: **2021.10.19 Tue 23:59** (will not accept late submission)\n",
        "* Submission format: notebook file which can be executed in Colab environment\n",
        "* Weighting: 5% (total 50 pts)\n",
        "* You will build a multi-class classification model using Reuters dataset."
      ]
    },
    {
      "cell_type": "markdown",
      "metadata": {
        "id": "KxrhNNhWbfHD"
      },
      "source": [
        "> ### Loading and preprocessing data"
      ]
    },
    {
      "cell_type": "code",
      "metadata": {
        "id": "8E-2WLHgcAit",
        "colab": {
          "base_uri": "https://localhost:8080/"
        },
        "outputId": "5cef9edc-793a-415b-b1ae-a03db7624d24"
      },
      "source": [
        "from tensorflow.keras.datasets import reuters\n",
        "\n",
        "# Like IMDB, the argument num_words restricts the data to \n",
        "# the 10,000 most frequently occurring words \n",
        "(train_data, train_labels), (test_data, test_labels) = reuters.load_data(num_words=10000)"
      ],
      "execution_count": 1,
      "outputs": [
        {
          "output_type": "stream",
          "name": "stdout",
          "text": [
            "Downloading data from https://storage.googleapis.com/tensorflow/tf-keras-datasets/reuters.npz\n",
            "2113536/2110848 [==============================] - 0s 0us/step\n",
            "2121728/2110848 [==============================] - 0s 0us/step\n"
          ]
        }
      ]
    },
    {
      "cell_type": "markdown",
      "metadata": {
        "id": "U3EivNEoEKTF"
      },
      "source": [
        "* (10pts) Write the codes for preprocessing data\n",
        "  * For inputs, the data we have should be converted to binary vectors.\n",
        "  * For labels, determine an appropriate format by referring to the arguments of model.compile function below."
      ]
    },
    {
      "cell_type": "code",
      "metadata": {
        "id": "yrjD9AerdW4X"
      },
      "source": [
        "# write preprocessing codes\n",
        "\n",
        "\n",
        "import numpy as np\n",
        "\n",
        "def vectorize_sequences(sequences, dimension=10000):\n",
        "    #Create a matrix with size (sequences, dimension) and all elements zero.\n",
        "    results = np.zeros((len(sequences), dimension))\n",
        "    for i, sequence in enumerate(sequences):\n",
        "        results[i, sequence] = 1. # Make the location of a specific index 1 in results[i].\n",
        "    return results\n",
        "\n",
        "train_data = vectorize_sequences(train_data) # Convert training data into vectors.\n",
        "test_data = vectorize_sequences(test_data) # Convert test data into vectors.\n",
        "\n",
        "train_labels = np.asarray(train_labels).astype('float32')\n",
        "test_labels = np.asarray(test_labels).astype('float32')"
      ],
      "execution_count": 2,
      "outputs": []
    },
    {
      "cell_type": "markdown",
      "metadata": {
        "id": "yWfgUJiPeicE"
      },
      "source": [
        "> ### Building the network"
      ]
    },
    {
      "cell_type": "code",
      "metadata": {
        "id": "Edwc4GbneqKA"
      },
      "source": [
        "# Do not modify this block\n",
        "from tensorflow.keras import models\n",
        "from tensorflow.keras import layers\n",
        "\n",
        "model = models.Sequential()\n",
        "model.add(layers.Dense(64, activation='relu', input_shape=(10000,)))\n",
        "model.add(layers.Dense(64, activation='relu'))\n",
        "model.add(layers.Dense(46, activation='softmax'))"
      ],
      "execution_count": 3,
      "outputs": []
    },
    {
      "cell_type": "code",
      "metadata": {
        "id": "hxGWsKkdgAnq"
      },
      "source": [
        "# Do not modify this block\n",
        "model.compile(optimizer='rmsprop',\n",
        "              loss='sparse_categorical_crossentropy',\n",
        "              metrics=['accuracy'])"
      ],
      "execution_count": 4,
      "outputs": []
    },
    {
      "cell_type": "markdown",
      "metadata": {
        "id": "j0TUwiHLgI_-"
      },
      "source": [
        "> ### Validation"
      ]
    },
    {
      "cell_type": "markdown",
      "metadata": {
        "id": "KFe4FOkfgUII"
      },
      "source": [
        "* We employ *k-fold cross validation* as validation method of our model.\n",
        "* **(15pts)** Write a code in the below to perform *10-fold cross validation*.\n",
        "* **For each fold, save a model at every epoch in your Google Drive.**"
      ]
    },
    {
      "cell_type": "code",
      "metadata": {
        "id": "jPWjg2s4WYfm",
        "colab": {
          "base_uri": "https://localhost:8080/"
        },
        "outputId": "0c16cb3c-6f77-4530-927c-c8f4bca76a4b"
      },
      "source": [
        "from keras.callbacks import ModelCheckpoint\n",
        "\n",
        "def get_model_name(k):\n",
        "    return '/{epoch:d}/K-fold_'+str(k)+'.h5'\n",
        "\n",
        "k = 10\n",
        "num_val_samples = len(train_data) // k\n",
        "num_epochs = 15\n",
        "\n",
        "train_acc_history = []\n",
        "val_acc_history = []\n",
        "\n",
        "save_dir = '/content/saved_models/'\n",
        "s = np.arange(train_data.shape[0])\n",
        "\n",
        "train_data = train_data[s]\n",
        "train_labels = train_labels[s]\n",
        "\n",
        "for i in range(k):\n",
        "\n",
        "  print('processing fold #', i+1)\n",
        "  val_data = train_data[i*num_val_samples: (i+1)*num_val_samples]\n",
        "  val_targets = train_labels[i*num_val_samples: (i+1)*num_val_samples]\n",
        "  \n",
        "  partial_train_data = np.concatenate([train_data[:i*num_val_samples],\n",
        "                                       train_data[(i+1)*num_val_samples:]],\n",
        "                                      axis=0)\n",
        "  partial_train_targets = np.concatenate([train_labels[:i*num_val_samples],\n",
        "                                          train_labels[(i+1)*num_val_samples:]],\n",
        "                                         axis=0)\n",
        "    \n",
        "  model_temp = model\n",
        "  checkpointer = ModelCheckpoint(filepath=save_dir+get_model_name(i+1), verbose=0, monitor='val_loss', save_weights_only=False, save_best_only=False, mode='auto', save_freq='epoch') \n",
        "\n",
        "  history = model_temp.fit(partial_train_data, \n",
        "                      partial_train_targets,\n",
        "                      validation_data=(val_data, val_targets),\n",
        "                      epochs=num_epochs,\n",
        "                      batch_size=20,\n",
        "                      callbacks=[checkpointer])\n",
        "\n",
        "  train_acc_history.append(history.history['accuracy'])\n",
        "  val_acc_history.append(history.history['val_accuracy'])\n",
        " \n",
        " \n",
        "\n"
      ],
      "execution_count": 5,
      "outputs": [
        {
          "output_type": "stream",
          "name": "stdout",
          "text": [
            "processing fold # 1\n",
            "Epoch 1/15\n",
            "405/405 [==============================] - 5s 10ms/step - loss: 1.3689 - accuracy: 0.7023 - val_loss: 1.0371 - val_accuracy: 0.7851\n",
            "Epoch 2/15\n",
            "405/405 [==============================] - 4s 9ms/step - loss: 0.7302 - accuracy: 0.8402 - val_loss: 0.9248 - val_accuracy: 0.8140\n",
            "Epoch 3/15\n",
            "405/405 [==============================] - 4s 10ms/step - loss: 0.4741 - accuracy: 0.8986 - val_loss: 0.9209 - val_accuracy: 0.8185\n",
            "Epoch 4/15\n",
            "405/405 [==============================] - 4s 9ms/step - loss: 0.3383 - accuracy: 0.9240 - val_loss: 0.9768 - val_accuracy: 0.8174\n",
            "Epoch 5/15\n",
            "405/405 [==============================] - 4s 9ms/step - loss: 0.2632 - accuracy: 0.9400 - val_loss: 1.0783 - val_accuracy: 0.8140\n",
            "Epoch 6/15\n",
            "405/405 [==============================] - 4s 9ms/step - loss: 0.2279 - accuracy: 0.9487 - val_loss: 1.1382 - val_accuracy: 0.8096\n",
            "Epoch 7/15\n",
            "405/405 [==============================] - 4s 9ms/step - loss: 0.1972 - accuracy: 0.9539 - val_loss: 1.3631 - val_accuracy: 0.8096\n",
            "Epoch 8/15\n",
            "405/405 [==============================] - 4s 9ms/step - loss: 0.1784 - accuracy: 0.9545 - val_loss: 1.2050 - val_accuracy: 0.8096\n",
            "Epoch 9/15\n",
            "405/405 [==============================] - 4s 9ms/step - loss: 0.1752 - accuracy: 0.9557 - val_loss: 1.3884 - val_accuracy: 0.7973\n",
            "Epoch 10/15\n",
            "405/405 [==============================] - 4s 9ms/step - loss: 0.1679 - accuracy: 0.9571 - val_loss: 1.5980 - val_accuracy: 0.7973\n",
            "Epoch 11/15\n",
            "405/405 [==============================] - 4s 9ms/step - loss: 0.1623 - accuracy: 0.9563 - val_loss: 1.4863 - val_accuracy: 0.8029\n",
            "Epoch 12/15\n",
            "405/405 [==============================] - 4s 10ms/step - loss: 0.1537 - accuracy: 0.9571 - val_loss: 1.5670 - val_accuracy: 0.7795\n",
            "Epoch 13/15\n",
            "405/405 [==============================] - 4s 9ms/step - loss: 0.1497 - accuracy: 0.9571 - val_loss: 1.7734 - val_accuracy: 0.7895\n",
            "Epoch 14/15\n",
            "405/405 [==============================] - 4s 9ms/step - loss: 0.1466 - accuracy: 0.9573 - val_loss: 1.8641 - val_accuracy: 0.7973\n",
            "Epoch 15/15\n",
            "405/405 [==============================] - 4s 9ms/step - loss: 0.1444 - accuracy: 0.9577 - val_loss: 1.7539 - val_accuracy: 0.7929\n",
            "processing fold # 2\n",
            "Epoch 1/15\n",
            "405/405 [==============================] - 4s 10ms/step - loss: 0.2802 - accuracy: 0.9398 - val_loss: 0.1769 - val_accuracy: 0.9510\n",
            "Epoch 2/15\n",
            "405/405 [==============================] - 4s 10ms/step - loss: 0.1959 - accuracy: 0.9506 - val_loss: 0.2275 - val_accuracy: 0.9521\n",
            "Epoch 3/15\n",
            "405/405 [==============================] - 4s 10ms/step - loss: 0.1647 - accuracy: 0.9531 - val_loss: 0.2750 - val_accuracy: 0.9432\n",
            "Epoch 4/15\n",
            "405/405 [==============================] - 4s 10ms/step - loss: 0.1511 - accuracy: 0.9553 - val_loss: 0.3671 - val_accuracy: 0.9443\n",
            "Epoch 5/15\n",
            "405/405 [==============================] - 4s 9ms/step - loss: 0.1434 - accuracy: 0.9571 - val_loss: 0.3508 - val_accuracy: 0.9410\n",
            "Epoch 6/15\n",
            "405/405 [==============================] - 4s 9ms/step - loss: 0.1375 - accuracy: 0.9563 - val_loss: 0.4131 - val_accuracy: 0.9332\n",
            "Epoch 7/15\n",
            "405/405 [==============================] - 4s 9ms/step - loss: 0.1349 - accuracy: 0.9589 - val_loss: 0.4654 - val_accuracy: 0.9343\n",
            "Epoch 8/15\n",
            "405/405 [==============================] - 4s 9ms/step - loss: 0.1316 - accuracy: 0.9589 - val_loss: 0.5248 - val_accuracy: 0.9332\n",
            "Epoch 9/15\n",
            "405/405 [==============================] - 4s 9ms/step - loss: 0.1315 - accuracy: 0.9574 - val_loss: 0.5333 - val_accuracy: 0.9287\n",
            "Epoch 10/15\n",
            "405/405 [==============================] - 4s 9ms/step - loss: 0.1262 - accuracy: 0.9600 - val_loss: 0.6455 - val_accuracy: 0.9287\n",
            "Epoch 11/15\n",
            "405/405 [==============================] - 4s 9ms/step - loss: 0.1296 - accuracy: 0.9589 - val_loss: 0.6990 - val_accuracy: 0.9187\n",
            "Epoch 12/15\n",
            "405/405 [==============================] - 4s 9ms/step - loss: 0.1295 - accuracy: 0.9602 - val_loss: 0.7236 - val_accuracy: 0.9131\n",
            "Epoch 13/15\n",
            "405/405 [==============================] - 4s 9ms/step - loss: 0.1272 - accuracy: 0.9593 - val_loss: 0.8167 - val_accuracy: 0.9165\n",
            "Epoch 14/15\n",
            "405/405 [==============================] - 4s 10ms/step - loss: 0.1219 - accuracy: 0.9597 - val_loss: 0.9370 - val_accuracy: 0.9109\n",
            "Epoch 15/15\n",
            "405/405 [==============================] - 4s 9ms/step - loss: 0.1264 - accuracy: 0.9595 - val_loss: 0.9437 - val_accuracy: 0.9076\n",
            "processing fold # 3\n",
            "Epoch 1/15\n",
            "405/405 [==============================] - 3s 9ms/step - loss: 0.1947 - accuracy: 0.9531 - val_loss: 0.1307 - val_accuracy: 0.9588\n",
            "Epoch 2/15\n",
            "405/405 [==============================] - 3s 8ms/step - loss: 0.1460 - accuracy: 0.9594 - val_loss: 0.2306 - val_accuracy: 0.9454\n",
            "Epoch 3/15\n",
            "405/405 [==============================] - 4s 9ms/step - loss: 0.1392 - accuracy: 0.9586 - val_loss: 0.2615 - val_accuracy: 0.9488\n",
            "Epoch 4/15\n",
            "405/405 [==============================] - 4s 9ms/step - loss: 0.1350 - accuracy: 0.9603 - val_loss: 0.3616 - val_accuracy: 0.9354\n",
            "Epoch 5/15\n",
            "405/405 [==============================] - 4s 9ms/step - loss: 0.1295 - accuracy: 0.9610 - val_loss: 0.4101 - val_accuracy: 0.9365\n",
            "Epoch 6/15\n",
            "405/405 [==============================] - 4s 9ms/step - loss: 0.1277 - accuracy: 0.9587 - val_loss: 0.4777 - val_accuracy: 0.9321\n",
            "Epoch 7/15\n",
            "405/405 [==============================] - 4s 9ms/step - loss: 0.1227 - accuracy: 0.9599 - val_loss: 0.5194 - val_accuracy: 0.9287\n",
            "Epoch 8/15\n",
            "405/405 [==============================] - 4s 9ms/step - loss: 0.1243 - accuracy: 0.9619 - val_loss: 0.5982 - val_accuracy: 0.9365\n",
            "Epoch 9/15\n",
            "405/405 [==============================] - 4s 9ms/step - loss: 0.1260 - accuracy: 0.9593 - val_loss: 0.8188 - val_accuracy: 0.9254\n",
            "Epoch 10/15\n",
            "405/405 [==============================] - 4s 9ms/step - loss: 0.1205 - accuracy: 0.9618 - val_loss: 0.7564 - val_accuracy: 0.9220\n",
            "Epoch 11/15\n",
            "405/405 [==============================] - 4s 9ms/step - loss: 0.1158 - accuracy: 0.9619 - val_loss: 0.7521 - val_accuracy: 0.9220\n",
            "Epoch 12/15\n",
            "405/405 [==============================] - 4s 9ms/step - loss: 0.1209 - accuracy: 0.9598 - val_loss: 1.0995 - val_accuracy: 0.9209\n",
            "Epoch 13/15\n",
            "405/405 [==============================] - 4s 9ms/step - loss: 0.1157 - accuracy: 0.9604 - val_loss: 0.9174 - val_accuracy: 0.9165\n",
            "Epoch 14/15\n",
            "405/405 [==============================] - 4s 9ms/step - loss: 0.1154 - accuracy: 0.9610 - val_loss: 1.1190 - val_accuracy: 0.9187\n",
            "Epoch 15/15\n",
            "405/405 [==============================] - 4s 9ms/step - loss: 0.1169 - accuracy: 0.9617 - val_loss: 1.0776 - val_accuracy: 0.9154\n",
            "processing fold # 4\n",
            "Epoch 1/15\n",
            "405/405 [==============================] - 4s 9ms/step - loss: 0.2106 - accuracy: 0.9556 - val_loss: 0.1026 - val_accuracy: 0.9566\n",
            "Epoch 2/15\n",
            "405/405 [==============================] - 4s 9ms/step - loss: 0.1697 - accuracy: 0.9588 - val_loss: 0.1575 - val_accuracy: 0.9465\n",
            "Epoch 3/15\n",
            "405/405 [==============================] - 4s 9ms/step - loss: 0.1391 - accuracy: 0.9605 - val_loss: 0.2187 - val_accuracy: 0.9432\n",
            "Epoch 4/15\n",
            "405/405 [==============================] - 4s 9ms/step - loss: 0.1423 - accuracy: 0.9605 - val_loss: 0.2894 - val_accuracy: 0.9421\n",
            "Epoch 5/15\n",
            "405/405 [==============================] - 4s 9ms/step - loss: 0.1252 - accuracy: 0.9631 - val_loss: 0.3133 - val_accuracy: 0.9354\n",
            "Epoch 6/15\n",
            "405/405 [==============================] - 4s 9ms/step - loss: 0.1309 - accuracy: 0.9623 - val_loss: 0.3846 - val_accuracy: 0.9388\n",
            "Epoch 7/15\n",
            "405/405 [==============================] - 4s 9ms/step - loss: 0.1264 - accuracy: 0.9612 - val_loss: 0.4537 - val_accuracy: 0.9265\n",
            "Epoch 8/15\n",
            "405/405 [==============================] - 4s 9ms/step - loss: 0.1213 - accuracy: 0.9615 - val_loss: 0.5380 - val_accuracy: 0.9310\n",
            "Epoch 9/15\n",
            "405/405 [==============================] - 4s 9ms/step - loss: 0.1314 - accuracy: 0.9613 - val_loss: 0.5148 - val_accuracy: 0.9265\n",
            "Epoch 10/15\n",
            "405/405 [==============================] - 4s 9ms/step - loss: 0.1202 - accuracy: 0.9638 - val_loss: 0.5645 - val_accuracy: 0.9343\n",
            "Epoch 11/15\n",
            "405/405 [==============================] - 4s 9ms/step - loss: 0.1154 - accuracy: 0.9633 - val_loss: 0.7358 - val_accuracy: 0.9254\n",
            "Epoch 12/15\n",
            "405/405 [==============================] - 4s 9ms/step - loss: 0.1230 - accuracy: 0.9628 - val_loss: 0.7944 - val_accuracy: 0.9131\n",
            "Epoch 13/15\n",
            "405/405 [==============================] - 4s 9ms/step - loss: 0.1211 - accuracy: 0.9625 - val_loss: 0.7980 - val_accuracy: 0.9165\n",
            "Epoch 14/15\n",
            "405/405 [==============================] - 4s 9ms/step - loss: 0.1157 - accuracy: 0.9617 - val_loss: 0.8237 - val_accuracy: 0.9020\n",
            "Epoch 15/15\n",
            "405/405 [==============================] - 4s 9ms/step - loss: 0.1120 - accuracy: 0.9629 - val_loss: 0.9122 - val_accuracy: 0.9120\n",
            "processing fold # 5\n",
            "Epoch 1/15\n",
            "405/405 [==============================] - 4s 9ms/step - loss: 0.2072 - accuracy: 0.9595 - val_loss: 0.1656 - val_accuracy: 0.9488\n",
            "Epoch 2/15\n",
            "405/405 [==============================] - 4s 9ms/step - loss: 0.1441 - accuracy: 0.9610 - val_loss: 0.2885 - val_accuracy: 0.9477\n",
            "Epoch 3/15\n",
            "405/405 [==============================] - 4s 9ms/step - loss: 0.1477 - accuracy: 0.9612 - val_loss: 0.2526 - val_accuracy: 0.9421\n",
            "Epoch 4/15\n",
            "405/405 [==============================] - 4s 9ms/step - loss: 0.1377 - accuracy: 0.9635 - val_loss: 0.3754 - val_accuracy: 0.9454\n",
            "Epoch 5/15\n",
            "405/405 [==============================] - 4s 9ms/step - loss: 0.1282 - accuracy: 0.9604 - val_loss: 0.4650 - val_accuracy: 0.9376\n",
            "Epoch 6/15\n",
            "405/405 [==============================] - 3s 8ms/step - loss: 0.1195 - accuracy: 0.9613 - val_loss: 0.5073 - val_accuracy: 0.9376\n",
            "Epoch 7/15\n",
            "405/405 [==============================] - 4s 9ms/step - loss: 0.1229 - accuracy: 0.9634 - val_loss: 0.4912 - val_accuracy: 0.9321\n",
            "Epoch 8/15\n",
            "405/405 [==============================] - 4s 9ms/step - loss: 0.1117 - accuracy: 0.9610 - val_loss: 0.7167 - val_accuracy: 0.9365\n",
            "Epoch 9/15\n",
            "405/405 [==============================] - 4s 9ms/step - loss: 0.1161 - accuracy: 0.9620 - val_loss: 0.7279 - val_accuracy: 0.9321\n",
            "Epoch 10/15\n",
            "405/405 [==============================] - 4s 9ms/step - loss: 0.1173 - accuracy: 0.9615 - val_loss: 0.8613 - val_accuracy: 0.9265\n",
            "Epoch 11/15\n",
            "405/405 [==============================] - 4s 9ms/step - loss: 0.1042 - accuracy: 0.9630 - val_loss: 1.1721 - val_accuracy: 0.9287\n",
            "Epoch 12/15\n",
            "405/405 [==============================] - 4s 9ms/step - loss: 0.1302 - accuracy: 0.9605 - val_loss: 0.9857 - val_accuracy: 0.9209\n",
            "Epoch 13/15\n",
            "405/405 [==============================] - 4s 9ms/step - loss: 0.1073 - accuracy: 0.9644 - val_loss: 1.3817 - val_accuracy: 0.9143\n",
            "Epoch 14/15\n",
            "405/405 [==============================] - 4s 9ms/step - loss: 0.1055 - accuracy: 0.9629 - val_loss: 1.1523 - val_accuracy: 0.9165\n",
            "Epoch 15/15\n",
            "405/405 [==============================] - 4s 9ms/step - loss: 0.1166 - accuracy: 0.9610 - val_loss: 1.2231 - val_accuracy: 0.9176\n",
            "processing fold # 6\n",
            "Epoch 1/15\n",
            "405/405 [==============================] - 4s 9ms/step - loss: 0.2599 - accuracy: 0.9556 - val_loss: 0.0742 - val_accuracy: 0.9677\n",
            "Epoch 2/15\n",
            "405/405 [==============================] - 4s 9ms/step - loss: 0.1791 - accuracy: 0.9570 - val_loss: 0.1104 - val_accuracy: 0.9666\n",
            "Epoch 3/15\n",
            "405/405 [==============================] - 4s 9ms/step - loss: 0.1585 - accuracy: 0.9592 - val_loss: 0.1602 - val_accuracy: 0.9633\n",
            "Epoch 4/15\n",
            "405/405 [==============================] - 4s 9ms/step - loss: 0.1572 - accuracy: 0.9598 - val_loss: 0.1648 - val_accuracy: 0.9621\n",
            "Epoch 5/15\n",
            "405/405 [==============================] - 4s 10ms/step - loss: 0.1466 - accuracy: 0.9595 - val_loss: 0.2075 - val_accuracy: 0.9566\n",
            "Epoch 6/15\n",
            "405/405 [==============================] - 4s 9ms/step - loss: 0.1476 - accuracy: 0.9603 - val_loss: 0.2564 - val_accuracy: 0.9532\n",
            "Epoch 7/15\n",
            "405/405 [==============================] - 4s 10ms/step - loss: 0.1436 - accuracy: 0.9599 - val_loss: 0.3101 - val_accuracy: 0.9510\n",
            "Epoch 8/15\n",
            "405/405 [==============================] - 4s 10ms/step - loss: 0.1288 - accuracy: 0.9612 - val_loss: 0.4400 - val_accuracy: 0.9510\n",
            "Epoch 9/15\n",
            "405/405 [==============================] - 4s 10ms/step - loss: 0.1140 - accuracy: 0.9588 - val_loss: 0.7269 - val_accuracy: 0.9521\n",
            "Epoch 10/15\n",
            "405/405 [==============================] - 4s 9ms/step - loss: 0.1388 - accuracy: 0.9618 - val_loss: 0.6573 - val_accuracy: 0.9499\n",
            "Epoch 11/15\n",
            "405/405 [==============================] - 4s 9ms/step - loss: 0.1226 - accuracy: 0.9600 - val_loss: 0.7545 - val_accuracy: 0.9465\n",
            "Epoch 12/15\n",
            "405/405 [==============================] - 4s 9ms/step - loss: 0.1368 - accuracy: 0.9589 - val_loss: 0.5759 - val_accuracy: 0.9454\n",
            "Epoch 13/15\n",
            "405/405 [==============================] - 4s 9ms/step - loss: 0.1247 - accuracy: 0.9619 - val_loss: 0.8827 - val_accuracy: 0.9376\n",
            "Epoch 14/15\n",
            "405/405 [==============================] - 4s 9ms/step - loss: 0.1363 - accuracy: 0.9610 - val_loss: 0.8874 - val_accuracy: 0.9265\n",
            "Epoch 15/15\n",
            "405/405 [==============================] - 4s 9ms/step - loss: 0.1249 - accuracy: 0.9608 - val_loss: 1.0032 - val_accuracy: 0.9421\n",
            "processing fold # 7\n",
            "Epoch 1/15\n",
            "405/405 [==============================] - 4s 10ms/step - loss: 0.2081 - accuracy: 0.9577 - val_loss: 0.1491 - val_accuracy: 0.9655\n",
            "Epoch 2/15\n",
            "405/405 [==============================] - 4s 9ms/step - loss: 0.1586 - accuracy: 0.9603 - val_loss: 0.1379 - val_accuracy: 0.9610\n",
            "Epoch 3/15\n",
            "405/405 [==============================] - 4s 9ms/step - loss: 0.1341 - accuracy: 0.9600 - val_loss: 0.1651 - val_accuracy: 0.9610\n",
            "Epoch 4/15\n",
            "405/405 [==============================] - 4s 9ms/step - loss: 0.1528 - accuracy: 0.9594 - val_loss: 0.2150 - val_accuracy: 0.9577\n",
            "Epoch 5/15\n",
            "405/405 [==============================] - 4s 9ms/step - loss: 0.1260 - accuracy: 0.9589 - val_loss: 0.2641 - val_accuracy: 0.9532\n",
            "Epoch 6/15\n",
            "405/405 [==============================] - 4s 10ms/step - loss: 0.1191 - accuracy: 0.9618 - val_loss: 0.2468 - val_accuracy: 0.9532\n",
            "Epoch 7/15\n",
            "405/405 [==============================] - 4s 9ms/step - loss: 0.1306 - accuracy: 0.9600 - val_loss: 0.3179 - val_accuracy: 0.9532\n",
            "Epoch 8/15\n",
            "405/405 [==============================] - 4s 9ms/step - loss: 0.1168 - accuracy: 0.9623 - val_loss: 0.4561 - val_accuracy: 0.9521\n",
            "Epoch 9/15\n",
            "405/405 [==============================] - 4s 10ms/step - loss: 0.1205 - accuracy: 0.9604 - val_loss: 0.4775 - val_accuracy: 0.9532\n",
            "Epoch 10/15\n",
            "405/405 [==============================] - 4s 10ms/step - loss: 0.1177 - accuracy: 0.9591 - val_loss: 0.4879 - val_accuracy: 0.9465\n",
            "Epoch 11/15\n",
            "405/405 [==============================] - 4s 10ms/step - loss: 0.1242 - accuracy: 0.9624 - val_loss: 0.4951 - val_accuracy: 0.9410\n",
            "Epoch 12/15\n",
            "405/405 [==============================] - 4s 10ms/step - loss: 0.1081 - accuracy: 0.9625 - val_loss: 0.5473 - val_accuracy: 0.9443\n",
            "Epoch 13/15\n",
            "405/405 [==============================] - 6s 15ms/step - loss: 0.1151 - accuracy: 0.9598 - val_loss: 0.6363 - val_accuracy: 0.9432\n",
            "Epoch 14/15\n",
            "405/405 [==============================] - 4s 10ms/step - loss: 0.1577 - accuracy: 0.9617 - val_loss: 0.5399 - val_accuracy: 0.9365\n",
            "Epoch 15/15\n",
            "405/405 [==============================] - 4s 9ms/step - loss: 0.1121 - accuracy: 0.9608 - val_loss: 0.6554 - val_accuracy: 0.9399\n",
            "processing fold # 8\n",
            "Epoch 1/15\n",
            "405/405 [==============================] - 4s 10ms/step - loss: 0.1664 - accuracy: 0.9612 - val_loss: 0.1037 - val_accuracy: 0.9499\n",
            "Epoch 2/15\n",
            "405/405 [==============================] - 4s 10ms/step - loss: 0.1440 - accuracy: 0.9635 - val_loss: 0.2044 - val_accuracy: 0.9376\n",
            "Epoch 3/15\n",
            "405/405 [==============================] - 4s 10ms/step - loss: 0.1287 - accuracy: 0.9628 - val_loss: 0.2127 - val_accuracy: 0.9354\n",
            "Epoch 4/15\n",
            "405/405 [==============================] - 4s 9ms/step - loss: 0.1336 - accuracy: 0.9621 - val_loss: 0.2082 - val_accuracy: 0.9376\n",
            "Epoch 5/15\n",
            "405/405 [==============================] - 4s 9ms/step - loss: 0.1252 - accuracy: 0.9643 - val_loss: 0.3078 - val_accuracy: 0.9310\n",
            "Epoch 6/15\n",
            "405/405 [==============================] - 4s 9ms/step - loss: 0.1183 - accuracy: 0.9651 - val_loss: 0.3440 - val_accuracy: 0.9287\n",
            "Epoch 7/15\n",
            "405/405 [==============================] - 4s 9ms/step - loss: 0.1235 - accuracy: 0.9641 - val_loss: 0.4529 - val_accuracy: 0.9254\n",
            "Epoch 8/15\n",
            "405/405 [==============================] - 4s 9ms/step - loss: 0.1406 - accuracy: 0.9652 - val_loss: 0.4037 - val_accuracy: 0.9276\n",
            "Epoch 9/15\n",
            "405/405 [==============================] - 4s 9ms/step - loss: 0.1170 - accuracy: 0.9631 - val_loss: 0.5059 - val_accuracy: 0.9232\n",
            "Epoch 10/15\n",
            "405/405 [==============================] - 4s 9ms/step - loss: 0.1285 - accuracy: 0.9636 - val_loss: 0.4470 - val_accuracy: 0.9276\n",
            "Epoch 11/15\n",
            "405/405 [==============================] - 4s 9ms/step - loss: 0.1515 - accuracy: 0.9640 - val_loss: 0.4529 - val_accuracy: 0.9220\n",
            "Epoch 12/15\n",
            "405/405 [==============================] - 4s 9ms/step - loss: 0.1190 - accuracy: 0.9643 - val_loss: 0.4791 - val_accuracy: 0.9265\n",
            "Epoch 13/15\n",
            "405/405 [==============================] - 4s 9ms/step - loss: 0.1285 - accuracy: 0.9654 - val_loss: 0.5028 - val_accuracy: 0.9209\n",
            "Epoch 14/15\n",
            "405/405 [==============================] - 4s 9ms/step - loss: 0.1031 - accuracy: 0.9645 - val_loss: 0.6177 - val_accuracy: 0.9198\n",
            "Epoch 15/15\n",
            "405/405 [==============================] - 4s 9ms/step - loss: 0.1074 - accuracy: 0.9650 - val_loss: 0.7429 - val_accuracy: 0.9220\n",
            "processing fold # 9\n",
            "Epoch 1/15\n",
            "405/405 [==============================] - 4s 10ms/step - loss: 0.1771 - accuracy: 0.9592 - val_loss: 0.1128 - val_accuracy: 0.9666\n",
            "Epoch 2/15\n",
            "405/405 [==============================] - 4s 9ms/step - loss: 0.1678 - accuracy: 0.9603 - val_loss: 0.1281 - val_accuracy: 0.9633\n",
            "Epoch 3/15\n",
            "405/405 [==============================] - 4s 9ms/step - loss: 0.1462 - accuracy: 0.9598 - val_loss: 0.1420 - val_accuracy: 0.9599\n",
            "Epoch 4/15\n",
            "405/405 [==============================] - 4s 9ms/step - loss: 0.1674 - accuracy: 0.9618 - val_loss: 0.1843 - val_accuracy: 0.9521\n",
            "Epoch 5/15\n",
            "405/405 [==============================] - 4s 9ms/step - loss: 0.1285 - accuracy: 0.9630 - val_loss: 0.2322 - val_accuracy: 0.9521\n",
            "Epoch 6/15\n",
            "405/405 [==============================] - 4s 9ms/step - loss: 0.1287 - accuracy: 0.9623 - val_loss: 0.2505 - val_accuracy: 0.9577\n",
            "Epoch 7/15\n",
            "405/405 [==============================] - 4s 9ms/step - loss: 0.1187 - accuracy: 0.9618 - val_loss: 0.2745 - val_accuracy: 0.9510\n",
            "Epoch 8/15\n",
            "405/405 [==============================] - 4s 9ms/step - loss: 0.1241 - accuracy: 0.9628 - val_loss: 0.3827 - val_accuracy: 0.9488\n",
            "Epoch 9/15\n",
            "405/405 [==============================] - 4s 9ms/step - loss: 0.1261 - accuracy: 0.9640 - val_loss: 0.3610 - val_accuracy: 0.9432\n",
            "Epoch 10/15\n",
            "405/405 [==============================] - 4s 9ms/step - loss: 0.1480 - accuracy: 0.9633 - val_loss: 0.4310 - val_accuracy: 0.9376\n",
            "Epoch 11/15\n",
            "405/405 [==============================] - 4s 9ms/step - loss: 0.1206 - accuracy: 0.9620 - val_loss: 0.4407 - val_accuracy: 0.9399\n",
            "Epoch 12/15\n",
            "405/405 [==============================] - 4s 9ms/step - loss: 0.1243 - accuracy: 0.9628 - val_loss: 0.5236 - val_accuracy: 0.9365\n",
            "Epoch 13/15\n",
            "405/405 [==============================] - 4s 9ms/step - loss: 0.1214 - accuracy: 0.9650 - val_loss: 0.4674 - val_accuracy: 0.9410\n",
            "Epoch 14/15\n",
            "405/405 [==============================] - 4s 9ms/step - loss: 0.1234 - accuracy: 0.9640 - val_loss: 0.5207 - val_accuracy: 0.9365\n",
            "Epoch 15/15\n",
            "405/405 [==============================] - 4s 9ms/step - loss: 0.1192 - accuracy: 0.9638 - val_loss: 0.6473 - val_accuracy: 0.9354\n",
            "processing fold # 10\n",
            "Epoch 1/15\n",
            "405/405 [==============================] - 4s 9ms/step - loss: 0.1963 - accuracy: 0.9584 - val_loss: 0.1161 - val_accuracy: 0.9644\n",
            "Epoch 2/15\n",
            "405/405 [==============================] - 4s 9ms/step - loss: 0.1303 - accuracy: 0.9635 - val_loss: 0.1967 - val_accuracy: 0.9555\n",
            "Epoch 3/15\n",
            "405/405 [==============================] - 4s 9ms/step - loss: 0.1336 - accuracy: 0.9613 - val_loss: 0.2260 - val_accuracy: 0.9499\n",
            "Epoch 4/15\n",
            "405/405 [==============================] - 4s 9ms/step - loss: 0.1406 - accuracy: 0.9624 - val_loss: 0.2152 - val_accuracy: 0.9532\n",
            "Epoch 5/15\n",
            "405/405 [==============================] - 4s 9ms/step - loss: 0.1243 - accuracy: 0.9626 - val_loss: 0.3200 - val_accuracy: 0.9454\n",
            "Epoch 6/15\n",
            "405/405 [==============================] - 4s 10ms/step - loss: 0.1247 - accuracy: 0.9612 - val_loss: 0.3811 - val_accuracy: 0.9421\n",
            "Epoch 7/15\n",
            "405/405 [==============================] - 4s 10ms/step - loss: 0.1077 - accuracy: 0.9626 - val_loss: 0.3976 - val_accuracy: 0.9388\n",
            "Epoch 8/15\n",
            "405/405 [==============================] - 4s 10ms/step - loss: 0.1159 - accuracy: 0.9629 - val_loss: 0.4608 - val_accuracy: 0.9399\n",
            "Epoch 9/15\n",
            "405/405 [==============================] - 4s 10ms/step - loss: 0.1134 - accuracy: 0.9617 - val_loss: 0.4754 - val_accuracy: 0.9454\n",
            "Epoch 10/15\n",
            "405/405 [==============================] - 4s 10ms/step - loss: 0.1259 - accuracy: 0.9623 - val_loss: 0.5427 - val_accuracy: 0.9376\n",
            "Epoch 11/15\n",
            "405/405 [==============================] - 4s 10ms/step - loss: 0.1100 - accuracy: 0.9636 - val_loss: 0.5940 - val_accuracy: 0.9354\n",
            "Epoch 12/15\n",
            "405/405 [==============================] - 4s 9ms/step - loss: 0.1335 - accuracy: 0.9629 - val_loss: 0.6321 - val_accuracy: 0.9354\n",
            "Epoch 13/15\n",
            "405/405 [==============================] - 4s 9ms/step - loss: 0.1063 - accuracy: 0.9638 - val_loss: 0.6212 - val_accuracy: 0.9354\n",
            "Epoch 14/15\n",
            "405/405 [==============================] - 4s 9ms/step - loss: 0.1158 - accuracy: 0.9665 - val_loss: 0.7723 - val_accuracy: 0.9354\n",
            "Epoch 15/15\n",
            "405/405 [==============================] - 4s 10ms/step - loss: 0.1253 - accuracy: 0.9629 - val_loss: 0.6349 - val_accuracy: 0.9310\n"
          ]
        }
      ]
    },
    {
      "cell_type": "markdown",
      "metadata": {
        "id": "X8908muCWdnG"
      },
      "source": [
        "* **(10pts)** Plotting the training and validation accuracy\n",
        "  * To obtain the validation accuracy at the end of every epoch, just average the performances of all folds."
      ]
    },
    {
      "cell_type": "code",
      "metadata": {
        "id": "6PJb3RyXXZlC",
        "colab": {
          "base_uri": "https://localhost:8080/",
          "height": 313
        },
        "outputId": "ee89a67a-0581-44b2-94b6-1e3fe85b187c"
      },
      "source": [
        "import matplotlib.pyplot as plt\n",
        "\n",
        "avg_epoch_train = [np.mean([x[i] for x in train_acc_history]) for i in range(num_epochs)]\n",
        "avg_epoch_val = [np.mean([x[i] for x in val_acc_history]) for i in range(num_epochs)]\n",
        "\n",
        "max_point = avg_epoch_val.index(max(avg_epoch_val))+1\n",
        "  \n",
        "epoch_list = []\n",
        "for i in range(num_epochs):\n",
        "  epoch_list.append(i+1)\n",
        "\n",
        "plt.plot(epoch_list, avg_epoch_train, 'bo', label='Train accuracy avg')\n",
        "plt.plot(epoch_list, avg_epoch_val, 'ro', label='Val accuracy avg')\n",
        "\n",
        "plt.title('Each epochs validation accuracy avg')\n",
        "plt.xlabel('Epochs') \n",
        "plt.ylabel('Avg of 10-fold acc')\n",
        "plt.legend()\n",
        "plt.show()\n",
        "\n",
        "print(\"Val accuracy's max epoch point : \",max_point)"
      ],
      "execution_count": 14,
      "outputs": [
        {
          "output_type": "display_data",
          "data": {
            "image/png": "[encoded data removed]",
            "text/plain": [
              "<Figure size 432x288 with 1 Axes>"
            ]
          },
          "metadata": {
            "needs_background": "light"
          }
        },
        {
          "output_type": "stream",
          "name": "stdout",
          "text": [
            "Val accuracy's max epoch point :  1\n"
          ]
        }
      ]
    },
    {
      "cell_type": "markdown",
      "metadata": {
        "id": "r9HNF524XkCy"
      },
      "source": [
        "* Find the best performance model by seeing the performance plot.\n",
        "* Calculate the accuracy on test set using the best performance model.\n",
        "  * Here, you should use a majority voting method to get the prediction for a test data point.\n",
        "  * Specifically, given a test data point, get the predicted class from the trained model on each fold, and then decide the final predicted class by a majority voting.\n",
        "* **Do not retrain the model.**"
      ]
    },
    {
      "cell_type": "markdown",
      "metadata": {
        "id": "pS0D5_0iXd_y"
      },
      "source": [
        "> ### (15pts) Inference"
      ]
    },
    {
      "cell_type": "markdown",
      "metadata": {
        "id": "4nd7FlEG30hQ"
      },
      "source": [
        ""
      ]
    },
    {
      "cell_type": "code",
      "metadata": {
        "id": "bhDWsnWuY5w-",
        "colab": {
          "base_uri": "https://localhost:8080/"
        },
        "outputId": "8d12b8d2-d630-48e1-d501-64e830ea43c5"
      },
      "source": [
        "import pandas as pd\n",
        "\n",
        "col_list = []\n",
        "for i in range(len(test_labels)):\n",
        "  col_list.append(i+1)\n",
        "\n",
        "df = pd.DataFrame(columns=col_list)\n",
        "\n",
        "for i in range(10):\n",
        "  new_model = model\n",
        "  new_model.load_weights(\"/content/saved_models/\"+ str(max_point) +\"/K-fold_\"+str(i+1)+\".h5\")\n",
        "  outcomes  = np.argmax(new_model.predict(test_data), axis=1)\n",
        "  df.loc[i] = outcomes\n",
        "\n",
        "# Hard voting\n",
        "temp = df.mode()  \n",
        "ensemble_labels = np.array(temp.loc[0].tolist())\n",
        "\n",
        "from sklearn.metrics import accuracy_score\n",
        "\n",
        "print(\"Majority voting model's score is\", round(accuracy_score(test_labels, ensemble_labels),4))"
      ],
      "execution_count": 15,
      "outputs": [
        {
          "output_type": "stream",
          "name": "stdout",
          "text": [
            "Majority voting model's score is 0.7587\n"
          ]
        }
      ]
    },
    {
      "cell_type": "code",
      "metadata": {
        "colab": {
          "base_uri": "https://localhost:8080/"
        },
        "id": "-sN0I41vOFz9",
        "outputId": "6eb3c1f3-28b9-455e-ca16-6283c22258e2"
      },
      "source": [
        "'''\n",
        "models_list = []\n",
        "\n",
        "for i in range(10):\n",
        "  new_model = model\n",
        "  new_model.load_weights(\"/content/saved_models/\"+ str(max_point) +\"/K-fold_\"+str(i+1)+\".h5\")\n",
        "  models_list.append(new_model) \n",
        "\n",
        "# make predictions\n",
        "yhats = [model_temp.predict(test_data) for model_temp in models_list]\n",
        "# sum across ensembles\n",
        "summed = np.sum(yhats, axis=0)\n",
        "# argmax across classes\n",
        "outcomes = np.argmax(summed, axis=1)\n",
        "\n",
        "from sklearn.metrics import accuracy_score\n",
        "\n",
        "print(\"Soft voting model's score is\", round(accuracy_score(test_labels, outcomes),4))\n",
        "'''"
      ],
      "execution_count": 16,
      "outputs": [
        {
          "output_type": "stream",
          "name": "stdout",
          "text": [
            "Soft voting model's score is 0.6821\n"
          ]
        }
      ]
    }
  ]
}